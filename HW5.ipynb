{
 "cells": [
  {
   "cell_type": "markdown",
   "id": "3fb31a4b",
   "metadata": {},
   "source": [
    "# Wai Yu Amanda, Ng\n",
    "## 1008217350\n",
    "## ngwai11"
   ]
  },
  {
   "cell_type": "markdown",
   "id": "0c3a8e72",
   "metadata": {},
   "source": [
    "# PART I"
   ]
  },
  {
   "cell_type": "code",
   "execution_count": null,
   "id": "e675bed8",
   "metadata": {},
   "outputs": [],
   "source": [
    "# Import dataset \"Crime Replication Dataset\" \n",
    "import pandas as pd; import numpy as np; from scipy import stats; import matplotlib.pyplot as plt; import random \n",
    "url = \"https://github.com/amanda-ng518/STA365/blob/62e724be1797cc0eb1e6524d3c5bd557e11424e1/crime_replication.csv?raw=true\" \n",
    "df = pd.read_csv(url) \n",
    "random.seed(1008217350)"
   ]
  },
  {
   "cell_type": "markdown",
   "id": "5c4e2e3e",
   "metadata": {},
   "source": [
    "We will use 'state_anxiety' and 'trait_anxiety' to form the predictor vector X and 'fear_of_crime' as the outcome vector y."
   ]
  },
  {
   "cell_type": "code",
   "execution_count": null,
   "id": "dec538bb",
   "metadata": {},
   "outputs": [],
   "source": [
    "X = df[['state_anxiety', 'trait_anxiety']].to_numpy()\n",
    "y = df[[\"fear_of_crime\"]].to_numpy()"
   ]
  },
  {
   "cell_type": "markdown",
   "id": "854b924a",
   "metadata": {},
   "source": [
    "Let us plot some graphs to visualize the distribution of the outcome variable."
   ]
  },
  {
   "cell_type": "code",
   "execution_count": null,
   "id": "5ac3dabe",
   "metadata": {},
   "outputs": [],
   "source": [
    "df.hist(column = \"fear_of_crime\", bins=20) \n",
    "plt.title('Histogram of fear_of_crime')"
   ]
  },
  {
   "cell_type": "markdown",
   "id": "3f5239d1",
   "metadata": {},
   "source": [
    "As seen above, it looks fairly normal with mean centered at around 2.5 and extend towards 0.5 and 4.5. The distribution looks like a truncated standard normal distribution which is further compressed. So we can expect the variance of y is less than 1. Therefore, we impose an exponential ($\\lambda$ = 1) prior to sigma."
   ]
  },
  {
   "cell_type": "code",
   "execution_count": null,
   "id": "f8b7db31",
   "metadata": {},
   "outputs": [],
   "source": [
    "import pymc as pm\n",
    "p= 2\n",
    "with pm.Model() as MLR:\n",
    "    betas = pm.MvNormal('betas', mu=np.zeros((p,1)), cov=np.eye(p), shape=(p,1))\n",
    "    sigma = pm.Exponential('sigma', lam=1) # exponential prior\n",
    "    y = pm.Normal('y', mu=pm.math.dot(X, betas), sigma=sigma, observed=y)\n",
    "\n",
    "with MLR:\n",
    "    idata = pm.sample()"
   ]
  },
  {
   "cell_type": "markdown",
   "id": "cd6823ae",
   "metadata": {},
   "source": [
    "# Part II"
   ]
  },
  {
   "cell_type": "markdown",
   "id": "9a9719fe",
   "metadata": {},
   "source": [
    "## 1. Rewrite $p(\\boldsymbol \\beta |\\boldsymbol\\Sigma, \\mathbf{X},\\mathbf{y})$ in terms of $\\sigma^2$ (no longer using $\\Sigma$) if $\\Sigma=\\sigma^2I$"
   ]
  },
  {
   "cell_type": "markdown",
   "id": "b38ae67a",
   "metadata": {},
   "source": [
    "Given\n",
    "\\begin{align*}\n",
    "p(\\boldsymbol \\beta |\\boldsymbol\\Sigma, \\mathbf{X},\\mathbf{y}) = {}& \\mathcal{MVN}\\left(\\overset{E[\\boldsymbol \\beta | \\boldsymbol\\Sigma, \\mathbf{X},\\mathbf{y}] \\; = \\quad\\quad}{\\text{Cov}[\\boldsymbol \\beta | \\boldsymbol\\Sigma, \\mathbf{X},\\mathbf{y}]}\\bigg( \\mathbf{X}^\\top \\boldsymbol\\Sigma^{-1}\\mathbf{y} + \\boldsymbol \\Sigma_\\beta^{-1}\\boldsymbol\\beta_0 \\right), \\text{Cov}[\\boldsymbol \\beta | \\boldsymbol\\Sigma, \\mathbf{X},\\mathbf{y}] = \\left[\\mathbf{X}^{\\top}\\boldsymbol \\Sigma^{-1} \\mathbf{X}  + \\boldsymbol \\Sigma_\\beta^{-1} \\right]^{-1} \\bigg)\\\\\n",
    "\\end{align*}\n",
    "\n",
    "Then we substitute $\\Sigma=\\sigma^2I$ and get \n",
    "\\begin{align*}\n",
    "p(\\boldsymbol \\beta |\\boldsymbol\\sigma^2I, \\mathbf{X},\\mathbf{y}) = {}& \\mathcal{MVN}\\left(\\overset{E[\\boldsymbol \\beta | \\boldsymbol\\sigma^2I, \\mathbf{X},\\mathbf{y}] \\; = \\quad\\quad}{\\text{Cov}[\\boldsymbol \\beta | \\boldsymbol\\sigma^2I, \\mathbf{X},\\mathbf{y}]}\\bigg( \\mathbf{X}^\\top \\boldsymbol(\\sigma^2I)^{-1}\\mathbf{y} + \\boldsymbol \\Sigma_\\beta^{-1}\\boldsymbol\\beta_0 \\right), \\text{Cov}[\\boldsymbol \\beta | \\boldsymbol\\sigma^2I, \\mathbf{X},\\mathbf{y}] = \\left[\\mathbf{X}^{\\top}\\boldsymbol (\\sigma^2I)^{-1} \\mathbf{X}  + \\boldsymbol \\Sigma_\\beta^{-1} \\right]^{-1} \\bigg)\\\\\n",
    "\\end{align*}\n"
   ]
  },
  {
   "cell_type": "markdown",
   "id": "2717e5da",
   "metadata": {},
   "source": [
    "Note that $(\\sigma^2I)^{-1}$ = $\\frac{1}{\\sigma^2}I$, so we can further simplify it to"
   ]
  },
  {
   "cell_type": "markdown",
   "id": "7d40a5a3",
   "metadata": {},
   "source": [
    "\\begin{align*}\n",
    "p(\\boldsymbol \\beta |\\boldsymbol\\sigma^2I, \\mathbf{X},\\mathbf{y}) = {}& \\mathcal{MVN}\\left(\\overset{E[\\boldsymbol \\beta | \\boldsymbol\\sigma^2I, \\mathbf{X},\\mathbf{y}] \\; = \\quad\\quad}{\\text{Cov}[\\boldsymbol \\beta | \\boldsymbol\\sigma^2I, \\mathbf{X},\\mathbf{y}]}\\bigg( \\mathbf{X}^\\top \\boldsymbol(\\frac{1}{\\sigma^2})\\mathbf{y} + \\boldsymbol \\Sigma_\\beta^{-1}\\boldsymbol\\beta_0 \\right), \\text{Cov}[\\boldsymbol \\beta | \\boldsymbol\\sigma^2I, \\mathbf{X},\\mathbf{y}] = \\left[\\mathbf{X}^{\\top}\\boldsymbol (\\frac{1}{\\sigma^2}) \\mathbf{X}  + \\boldsymbol \\Sigma_\\beta^{-1} \\right]^{-1} \\bigg)\\\\\n",
    "= {}& \\mathcal{MVN}\\left(\\overset{E[\\boldsymbol \\beta | \\boldsymbol\\sigma^2I, \\mathbf{X},\\mathbf{y}] \\; = \\quad\\quad}{\\text{Cov}[\\boldsymbol \\beta | \\boldsymbol\\sigma^2I, \\mathbf{X},\\mathbf{y}]}\\bigg(\\boldsymbol(\\frac{1}{\\sigma^2}) \\mathbf{X}^\\top \\mathbf{y} + \\boldsymbol \\Sigma_\\beta^{-1}\\boldsymbol\\beta_0 \\right), \\text{Cov}[\\boldsymbol \\beta | \\boldsymbol\\sigma^2I, \\mathbf{X},\\mathbf{y}] = \\left[\\boldsymbol(\\frac{1}{\\sigma^2}) \\mathbf{X}^{\\top}\\mathbf{X}  + \\boldsymbol \\Sigma_\\beta^{-1} \\right]^{-1} \\bigg)\\\\\n",
    "= {}& \\mathcal{MVN}\\left(\\left[\\boldsymbol(\\frac{1}{\\sigma^2}) \\mathbf{X}^{\\top}\\mathbf{X}  + \\boldsymbol \\Sigma_\\beta^{-1} \\right]^{-1} \\bigg(\\boldsymbol(\\frac{1}{\\sigma^2}) \\mathbf{X}^\\top \\mathbf{y} + \\boldsymbol \\Sigma_\\beta^{-1}\\boldsymbol\\beta_0 \\right), \\left[\\boldsymbol(\\frac{1}{\\sigma^2}) \\mathbf{X}^{\\top}\\mathbf{X}  + \\boldsymbol \\Sigma_\\beta^{-1} \\right]^{-1} \\bigg)\\\\\n",
    "\\end{align*}"
   ]
  },
  {
   "cell_type": "markdown",
   "id": "35067ce3",
   "metadata": {},
   "source": [
    "## 2. What is $E[\\boldsymbol \\beta |\\boldsymbol\\Sigma, \\mathbf{X},\\mathbf{y}]$?"
   ]
  },
  {
   "cell_type": "markdown",
   "id": "bc42b2ff",
   "metadata": {},
   "source": [
    "$\n",
    "\\left[\\boldsymbol(\\frac{1}{\\sigma^2}) \\mathbf{X}^{\\top}\\mathbf{X}  + \\boldsymbol \\Sigma_\\beta^{-1} \\right]^{-1} \\bigg(\\boldsymbol(\\frac{1}{\\sigma^2}) \\mathbf{X}^\\top \\mathbf{y} + \\boldsymbol \\Sigma_\\beta^{-1}\\boldsymbol\\beta_0\\bigg)\n",
    "$"
   ]
  },
  {
   "cell_type": "markdown",
   "id": "37c21914",
   "metadata": {},
   "source": [
    "## 3. What ***hyperparameters*** values (legal or illegal) would make $E[\\boldsymbol \\beta |\\boldsymbol\\Sigma, \\mathbf{X},\\mathbf{y}] = (\\mathbf{X^\\top X})^{-1}\\mathbf{X^\\top y}$?"
   ]
  },
  {
   "cell_type": "markdown",
   "id": "62763444",
   "metadata": {},
   "source": [
    "We want\n",
    "$\n",
    "\\left[\\mathbf{X}^{\\top}\\boldsymbol \\Sigma^{-1} \\mathbf{X}  + \\boldsymbol \\Sigma_\\beta^{-1} \\right]^{-1} \\left( \\mathbf{X}^\\top \\boldsymbol\\Sigma^{-1}\\mathbf{y} + \\boldsymbol \\Sigma_\\beta^{-1}\\boldsymbol\\beta_0 \\right)\n",
    "= (\\mathbf{X^\\top X})^{-1}\\mathbf{X^\\top y}\n",
    "$\n",
    "\n",
    "Oberve that $(\\mathbf{X^\\top X})^{-1}\\mathbf{X^\\top y}\n",
    "= \\mathbf{X}^{-1}(\\mathbf{X^\\top})^{-1}\\mathbf{X^\\top y}\n",
    "= \\mathbf{X}^{-1}\\mathbf{y}$\n",
    "\n",
    "Then, let us look at the term $\\left[\\mathbf{X}^{\\top}\\boldsymbol \\Sigma^{-1} \\mathbf{X}  + \\boldsymbol \\Sigma_\\beta^{-1} \\right]^{-1} \\mathbf{X}^\\top \\boldsymbol\\Sigma^{-1}\\mathbf{y}$\n",
    "\n",
    "If we take $\\boldsymbol \\Sigma_\\beta^{-1}$ to be a zero matrix, we have with \n",
    "\n",
    "\\begin{align*}\n",
    "\\left[\\mathbf{X}^{\\top}\\boldsymbol \\Sigma^{-1} \\mathbf{X}  + \\boldsymbol \\Sigma_\\beta^{-1} \\right]^{-1} \\mathbf{X}^\\top \\boldsymbol\\Sigma^{-1}\\mathbf{y} = \\left[\\mathbf{X}^{\\top}\\boldsymbol \\Sigma^{-1} \\mathbf{X} \\right]^{-1} \\mathbf{X}^\\top \\boldsymbol\\Sigma^{-1}\\mathbf{y}\\\\\n",
    "= \\mathbf{X} ^{-1}\\boldsymbol (\\Sigma^{-1})^{-1} (\\mathbf{X}^{\\top})^{-1} \\mathbf{X}^\\top \\boldsymbol\\Sigma^{-1}\\mathbf{y}\\\\\n",
    "= \\mathbf{X} ^{-1}(\\boldsymbol\\Sigma^{-1})^{-1} \\boldsymbol\\Sigma^{-1}\\mathbf{y}\\\\\n",
    "= \\mathbf{X} ^{-1}\\boldsymbol\\Sigma \\boldsymbol\\Sigma^{-1}\\mathbf{y}\\\\\n",
    "= \\mathbf{X} ^{-1}\\mathbf{y}\\\\\n",
    "\\end{align*}\n",
    "\n",
    "as desired.\n",
    "\n",
    "So we require hyperparameter $\\boldsymbol \\Sigma_\\beta^{-1}$ to be a zero matrix while $\\boldsymbol\\beta_0$ has no additional restriction."
   ]
  },
  {
   "cell_type": "markdown",
   "id": "340ca02a",
   "metadata": {},
   "source": [
    "## 4. What ***hyperparameters*** values (legal or illegal) would make $E[  \\mathbf{\\hat y} = \\mathbf{X}\\boldsymbol \\beta |\\boldsymbol\\Sigma, \\mathbf{X},\\mathbf{y}] = \\mathbf{X}(\\mathbf{X^\\top X})^{-1}\\mathbf{X^\\top y}$?"
   ]
  },
  {
   "cell_type": "markdown",
   "id": "74cda05d",
   "metadata": {},
   "source": [
    "Note that $E[\\mathbf{\\hat y} = \\mathbf{X}\\boldsymbol \\beta |\\boldsymbol\\Sigma, \\mathbf{X},\\mathbf{y}] = \\mathbf{X}E[\\boldsymbol \\beta |\\boldsymbol\\Sigma, \\mathbf{X},\\mathbf{y}]$ since X is observed data which can be evaluated as some fixed vector.\n",
    "Hence, we are looking for $\\mathbf{X}E[\\boldsymbol \\beta |\\boldsymbol\\Sigma, \\mathbf{X},\\mathbf{y}] = \\mathbf{X}(\\mathbf{X^\\top X})^{-1}\\mathbf{X^\\top y}$. By cancelling X on both sides, it reduces back to question 3: $E[\\boldsymbol \\beta |\\boldsymbol\\Sigma, \\mathbf{X},\\mathbf{y}] = (\\mathbf{X^\\top X})^{-1}\\mathbf{X^\\top y}$. Therefore, we also require hyperparameter $\\boldsymbol \\Sigma_\\beta^{-1}$ to be a zero matrix."
   ]
  },
  {
   "cell_type": "markdown",
   "id": "83dabac4",
   "metadata": {},
   "source": [
    "## 5. What is $\\text{Var}[\\boldsymbol \\beta |\\boldsymbol\\Sigma, \\mathbf{X},\\mathbf{y}]$?"
   ]
  },
  {
   "cell_type": "markdown",
   "id": "8e50bcb2",
   "metadata": {},
   "source": [
    "$\\left[\\boldsymbol(\\frac{1}{\\sigma^2}) \\mathbf{X}^{\\top}\\mathbf{X}  + \\boldsymbol \\Sigma_\\beta^{-1} \\right]^{-1}$"
   ]
  },
  {
   "cell_type": "markdown",
   "id": "8ea7d79f",
   "metadata": {},
   "source": [
    "# Part III"
   ]
  },
  {
   "cell_type": "code",
   "execution_count": null,
   "id": "d3869ac3",
   "metadata": {},
   "outputs": [],
   "source": [
    "import pymc as pm\n",
    "\n",
    "n=1; p=2; y=df[[\"fear_of_crime\"]].to_numpy()\n",
    "    \n",
    "with pm.Model() as MNV:\n",
    "    # Prior on mu\n",
    "    mu = pm.Normal('mu', mu=0, sigma=15, shape=p)\n",
    "    \n",
    "    # Cholesky factor\n",
    "    chol_packed = pm.LKJCholeskyCov(\"chol_packed\", n=p, eta=2.0,\n",
    "                                 sd_dist=pm.Exponential.dist(1.0, shape=2), compute_corr=False)\n",
    "    chol = pm.expand_packed_triangular(p, chol_packed)\n",
    "    \n",
    "    y = pm.MvNormal('y', mu=mu, chol = chol, observed = y) # Using Cholesky factor parameterization directly in MVN\n",
    "\n",
    "with MNV:    \n",
    "    idata = pm.sample(chains = 2)"
   ]
  }
 ],
 "metadata": {
  "kernelspec": {
   "display_name": "Python 3 (ipykernel)",
   "language": "python",
   "name": "python3"
  },
  "language_info": {
   "codemirror_mode": {
    "name": "ipython",
    "version": 3
   },
   "file_extension": ".py",
   "mimetype": "text/x-python",
   "name": "python",
   "nbconvert_exporter": "python",
   "pygments_lexer": "ipython3",
   "version": "3.11.6"
  }
 },
 "nbformat": 4,
 "nbformat_minor": 5
}
