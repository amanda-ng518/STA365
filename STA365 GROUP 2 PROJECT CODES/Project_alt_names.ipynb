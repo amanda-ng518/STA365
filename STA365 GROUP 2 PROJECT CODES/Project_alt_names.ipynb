{
  "cells": [
    {
      "cell_type": "markdown",
      "metadata": {
        "id": "J6fY44mY743k"
      },
      "source": [
        "# Data and module import"
      ]
    },
    {
      "cell_type": "code",
      "execution_count": 33,
      "metadata": {
        "id": "IsSAchb-oqmz"
      },
      "outputs": [],
      "source": [
        "import pandas as pd; import numpy as np; import pymc as pm; from scipy import stats; import arviz as az"
      ]
    },
    {
      "cell_type": "code",
      "execution_count": 34,
      "metadata": {
        "id": "MHMJJM-JujY4"
      },
      "outputs": [],
      "source": [
        "#Accidents after June 2008\n",
        "data = pd.read_csv(\"https://raw.githubusercontent.com/javmencia/STA303/main/cyclingData.csv\")"
      ]
    },
    {
      "cell_type": "markdown",
      "metadata": {
        "id": "FI2W2raO7-4s"
      },
      "source": [
        "## Data cleaning"
      ]
    },
    {
      "cell_type": "code",
      "execution_count": 35,
      "metadata": {
        "id": "o4TdnkbqEybc"
      },
      "outputs": [],
      "source": [
        "def TimeGetter(time):\n",
        "    ftr = [3600,60,1]\n",
        "    t = sum([a*b for a,b in zip(ftr, map(int,time.split(':')))])\n",
        "    if t<6*3600 or t>22*3600:\n",
        "        return \"Night\"\n",
        "    elif t<9*3600:\n",
        "        return \"Morning\"\n",
        "    elif t<14*3600:\n",
        "        return \"Midday\"\n",
        "    elif t<18*3600:\n",
        "        return \"Afternoon\"\n",
        "    else:\n",
        "        return \"Evening\""
      ]
    },
    {
      "cell_type": "code",
      "execution_count": 36,
      "metadata": {
        "id": "MvRVXDo7u8DY",
        "colab": {
          "base_uri": "https://localhost:8080/"
        },
        "outputId": "28586b17-a11d-4354-ec05-eff0682b0d22"
      },
      "outputs": [
        {
          "output_type": "stream",
          "name": "stdout",
          "text": [
            "['Darkness lights lit' 'Daylight' 'Darkness no lights']\n"
          ]
        }
      ],
      "source": [
        "# Missing data\n",
        "# Substitute missing data with NA\n",
        "data = data.replace({'Missing Data': np.NAN, 'Other': np.NAN, 'Unknown': np.NAN, 'Missing data': np.NAN})\n",
        "# Assume data is missing completely at random and remove\n",
        "data = data.dropna()\n",
        "#data[\"Road_conditions\"].unique()\n",
        "\n",
        "# Data wrangling\n",
        "# Day to weekday(1) and weekend(0)\n",
        "data = data.replace({'Monday':1, 'Tuesday':1, 'Wednesday':1, 'Thursday':1, 'Friday': 1, 'Saturday':0, 'Sunday': 0})\n",
        "# TimeDay variable, categorical\n",
        "\n",
        "data[\"TimeDay\"] = [TimeGetter(i) for i in data[\"Time\"]]\n",
        "# Road conditions: Dry or not\n",
        "data[\"DryRoad\"] = [1 if i==\"Dry\" else 0 for i in data[\"Road_conditions\"]]\n",
        "\n",
        "# Weather: Clear or not\n",
        "data[\"Clear\"] = [1 if i==\"Clear\" else 0 for i in data[\"Weather_conditions\"]]\n",
        "\n",
        "# Light conditions: Dark or not\n",
        "data[\"Dark\"] = [1 if i==\"Darkness no lights\" else 0 for i in data[\"Light_conditions\"]]\n",
        "print(data['Light_conditions'].unique())\n",
        "# Road type: Binary whether it is Dual carriageway, use EDA to justify\n",
        "data[\"DualCarriageway\"] = [1 if i==\"Dual carriageway\" else 0 for i in data[\"Road_type\"]]\n",
        "# Age: over 55\n",
        "data[\"over55\"] = [1 if i in [\"56 to 65\", \"66 to 75\"] else 0 for i in data[\"Age_Grp\"]]\n",
        "\n",
        "# Severity_binary: Severe or not\n",
        "data[\"Severity_binary\"] = [0 if i==\"Slight\" else 1 for i in data[\"Severity\"]]\n",
        "\n",
        "# Night binary\n",
        "data[\"Night\"] = [1 if i==\"Night\" else 0 for i in data[\"TimeDay\"]]\n",
        "# Morning binary\n",
        "data[\"Morning\"] = [1 if i==\"Morning\" else 0 for i in data[\"TimeDay\"]]\n",
        "# Midday binary\n",
        "data[\"Midday\"] = [1 if i==\"Midday\" else 0 for i in data[\"TimeDay\"]]\n",
        "# Afternoon binary\n",
        "data[\"Afternoon\"] = [1 if i==\"Afternoon\" else 0 for i in data[\"TimeDay\"]]\n",
        "# Evening binary\n",
        "data[\"Evening\"] = [1 if i==\"Evening\" else 0 for i in data[\"TimeDay\"]]\n",
        "data['Gender']= [1 if i==\"Male\" else 0 for i in data[\"Gender\"]]\n",
        "\n",
        "cleandata = data[[\"Severity_binary\", \"Day\", \"Speed_limit\", \"DryRoad\", \"Clear\", \"Gender\", \"over55\", \"DualCarriageway\", \"TimeDay\", \"Night\", \"Morning\", \"Midday\", \"Afternoon\", \"Evening\", \"Dark\"]]\n"
      ]
    },
    {
      "cell_type": "code",
      "execution_count": 37,
      "metadata": {
        "id": "rByyFRrncykR"
      },
      "outputs": [],
      "source": [
        "subset = cleandata[-100:]\n",
        "\n",
        "x1 = subset['DryRoad']\n",
        "x1 = pd.Series(x1).array\n",
        "\n",
        "x2 = subset['Clear']\n",
        "x2 = pd.Series(x2).array\n",
        "\n",
        "x3 = subset['DualCarriageway']\n",
        "x3 = pd.Series(x3).array\n",
        "\n",
        "x4 = subset['Dark']\n",
        "x4 = pd.Series(x4).array\n",
        "\n",
        "x5 = subset['Speed_limit']\n",
        "x5 = pd.Series(x5).array\n",
        "\n",
        "x6 = subset[\"Night\"]\n",
        "x6 = pd.Series(x6).array\n",
        "\n",
        "x7 = subset[\"Morning\"]\n",
        "x7 = pd.Series(x7).array\n",
        "\n",
        "x8 = subset[\"Midday\"]\n",
        "x8 = pd.Series(x8).array\n",
        "\n",
        "x9 = subset[\"Afternoon\"]\n",
        "x9 = pd.Series(x9).array\n",
        "\n",
        "x10 = subset[\"Evening\"]\n",
        "x10 = pd.Series(x10).array\n",
        "\n",
        "y = subset['Severity_binary']\n",
        "y = pd.Series(y).array\n",
        "\n",
        "num_obs = len(y)"
      ]
    },
    {
      "cell_type": "markdown",
      "metadata": {
        "id": "lfhfBrmhBNwS"
      },
      "source": [
        "# We want model with three predictors: When, What, Who"
      ]
    },
    {
      "cell_type": "markdown",
      "metadata": {
        "id": "8nh5VU8wl_-F"
      },
      "source": [
        "# Hierarchical structure on Time/Day betas"
      ]
    },
    {
      "cell_type": "code",
      "execution_count": 38,
      "metadata": {
        "id": "DtojLw8RGYqq",
        "colab": {
          "base_uri": "https://localhost:8080/",
          "height": 57
        },
        "outputId": "1a904452-3ad6-4e2a-880c-b30099e84ade"
      },
      "outputs": [
        {
          "output_type": "display_data",
          "data": {
            "text/plain": [
              "<IPython.core.display.HTML object>"
            ],
            "text/html": [
              "\n",
              "<style>\n",
              "    /* Turns off some styling */\n",
              "    progress {\n",
              "        /* gets rid of default border in Firefox and Opera. */\n",
              "        border: none;\n",
              "        /* Needs to be in here for Safari polyfill so background images work as expected. */\n",
              "        background-size: auto;\n",
              "    }\n",
              "    progress:not([value]), progress:not([value])::-webkit-progress-bar {\n",
              "        background: repeating-linear-gradient(45deg, #7e7e7e, #7e7e7e 10px, #5c5c5c 10px, #5c5c5c 20px);\n",
              "    }\n",
              "    .progress-bar-interrupted, .progress-bar-interrupted::-webkit-progress-bar {\n",
              "        background: #F44336;\n",
              "    }\n",
              "</style>\n"
            ]
          },
          "metadata": {}
        },
        {
          "output_type": "display_data",
          "data": {
            "text/plain": [
              "<IPython.core.display.HTML object>"
            ],
            "text/html": [
              "\n",
              "    <div>\n",
              "      <progress value='2000' class='' max='2000' style='width:300px; height:20px; vertical-align: middle;'></progress>\n",
              "      100.00% [2000/2000 00:07&lt;00:00 Sampling chain 0, 0 divergences]\n",
              "    </div>\n",
              "    "
            ]
          },
          "metadata": {}
        },
        {
          "output_type": "display_data",
          "data": {
            "text/plain": [
              "<IPython.core.display.HTML object>"
            ],
            "text/html": [
              "\n",
              "<style>\n",
              "    /* Turns off some styling */\n",
              "    progress {\n",
              "        /* gets rid of default border in Firefox and Opera. */\n",
              "        border: none;\n",
              "        /* Needs to be in here for Safari polyfill so background images work as expected. */\n",
              "        background-size: auto;\n",
              "    }\n",
              "    progress:not([value]), progress:not([value])::-webkit-progress-bar {\n",
              "        background: repeating-linear-gradient(45deg, #7e7e7e, #7e7e7e 10px, #5c5c5c 10px, #5c5c5c 20px);\n",
              "    }\n",
              "    .progress-bar-interrupted, .progress-bar-interrupted::-webkit-progress-bar {\n",
              "        background: #F44336;\n",
              "    }\n",
              "</style>\n"
            ]
          },
          "metadata": {}
        },
        {
          "output_type": "display_data",
          "data": {
            "text/plain": [
              "<IPython.core.display.HTML object>"
            ],
            "text/html": [
              "\n",
              "    <div>\n",
              "      <progress value='2000' class='' max='2000' style='width:300px; height:20px; vertical-align: middle;'></progress>\n",
              "      100.00% [2000/2000 00:07&lt;00:00 Sampling chain 1, 0 divergences]\n",
              "    </div>\n",
              "    "
            ]
          },
          "metadata": {}
        }
      ],
      "source": [
        "with pm.Model() as timeday_model:\n",
        "    # pWeekdayday Probability of being a weekday\n",
        "    pWeekday = pm.Beta('pWeekday', alpha=1, beta=1)\n",
        "\n",
        "    # Time weekday probabilities\n",
        "    pNight = pm.Beta('pNight', alpha=1, beta=1)\n",
        "    pMorningBase = pm.Beta('pMorningBase', alpha=1, beta=1)\n",
        "    pMiddayBase = pm.Beta('pMiddayBase', alpha=1, beta=1)\n",
        "    pAfternoonBase = pm.Beta('pAfternoonBase', alpha=1, beta=1)\n",
        "    pEvening = pm.Beta('pEvening', alpha=1, beta=1)\n",
        "\n",
        "    # Time weekend probabilities\n",
        "    pMorChange = pm.Beta('pMorChange', alpha=1, beta=1)\n",
        "    pMidChange = pm.Beta('pMidChange', alpha=1, beta=1)\n",
        "    pAftChange = pm.Beta('pAftChange', alpha=1, beta=1)\n",
        "\n",
        "\n",
        "    # pMorningBase + pWeekday*(1-pMorningBase)*pMorChange\n",
        "    no_negatives_2 = pm.math.switch(pm.math.lt(pMorningBase + pWeekday * (1 - pMorningBase) * pMorChange, 0), 0,\n",
        "                                     pMorningBase + pWeekday * (1 - pMorningBase) * pMorChange)\n",
        "    in_unit_interval_2 = pm.math.switch(pm.math.gt(no_negatives_2, 1), 1,\n",
        "                                        pMorningBase + pWeekday * (1 - pMorningBase) * pMorChange)\n",
        "    pMorning = pm.Deterministic('pMorning', in_unit_interval_2)\n",
        "\n",
        "    # pMiddayBase - pWeekday*(1-pMiddayBase)*pMidChange\n",
        "    no_negatives_3 = pm.math.switch(pm.math.lt(pMiddayBase - pWeekday * (1 - pMiddayBase) * pMidChange, 0), 0,\n",
        "                                     pMiddayBase - pWeekday * (1 - pMiddayBase) * pMidChange)\n",
        "    in_unit_interval_3 = pm.math.switch(pm.math.gt(no_negatives_3, 1), 1,\n",
        "                                        pMiddayBase - pWeekday * (1 - pMiddayBase) * pMidChange)\n",
        "    pMidday = pm.Deterministic('pMidday', in_unit_interval_3)\n",
        "\n",
        "    # pAfternoonBase + pWeekday*(1-pAfternoonBase)*pAftChange\n",
        "    no_negatives_4 = pm.math.switch(pm.math.lt(pAfternoonBase + pWeekday * (1 - pAfternoonBase) * pAftChange, 0), 0,\n",
        "                                     pAfternoonBase + pWeekday * (1 - pAfternoonBase) * pAftChange)\n",
        "    in_unit_interval_4 = pm.math.switch(pm.math.gt(no_negatives_4, 1), 1,\n",
        "                                        pAfternoonBase + pWeekday * (1 - pAfternoonBase) * pAftChange)\n",
        "    pAfternoon = pm.Deterministic('pAfternoon', in_unit_interval_4)\n",
        "\n",
        "    # Linear combination of predictors\n",
        "    logit_p = pNight * x6 + pMorning * x7 + pMidday * x8 + pAfternoon * x9 + pEvening * x10\n",
        "    logit_p = pm.Deterministic('logit_p', logit_p)\n",
        "\n",
        "    y = pm.Bernoulli('y', logit_p=logit_p, observed=y)\n",
        "    timedaydata = pm.sample()"
      ]
    },
    {
      "cell_type": "code",
      "execution_count": 39,
      "metadata": {
        "id": "PY8v3RwIHAiN",
        "colab": {
          "base_uri": "https://localhost:8080/",
          "height": 598
        },
        "outputId": "6512052f-91d2-4d75-f311-1dd70d92f074"
      },
      "outputs": [
        {
          "output_type": "execute_result",
          "data": {
            "image/svg+xml": "<?xml version=\"1.0\" encoding=\"UTF-8\" standalone=\"no\"?>\n<!DOCTYPE svg PUBLIC \"-//W3C//DTD SVG 1.1//EN\"\n \"http://www.w3.org/Graphics/SVG/1.1/DTD/svg11.dtd\">\n<!-- Generated by graphviz version 2.43.0 (0)\n -->\n<!-- Title: %3 Pages: 1 -->\n<svg width=\"1005pt\" height=\"433pt\"\n viewBox=\"0.00 0.00 1005.18 432.86\" xmlns=\"http://www.w3.org/2000/svg\" xmlns:xlink=\"http://www.w3.org/1999/xlink\">\n<g id=\"graph0\" class=\"graph\" transform=\"scale(1 1) rotate(0) translate(4 428.86)\">\n<title>%3</title>\n<polygon fill=\"white\" stroke=\"transparent\" points=\"-4,4 -4,-428.86 1001.18,-428.86 1001.18,4 -4,4\"/>\n<g id=\"clust1\" class=\"cluster\">\n<title>cluster100</title>\n<path fill=\"none\" stroke=\"black\" d=\"M341.93,-8C341.93,-8 429.93,-8 429.93,-8 435.93,-8 441.93,-14 441.93,-20 441.93,-20 441.93,-198.95 441.93,-198.95 441.93,-204.95 435.93,-210.95 429.93,-210.95 429.93,-210.95 341.93,-210.95 341.93,-210.95 335.93,-210.95 329.93,-204.95 329.93,-198.95 329.93,-198.95 329.93,-20 329.93,-20 329.93,-14 335.93,-8 341.93,-8\"/>\n<text text-anchor=\"middle\" x=\"423.43\" y=\"-15.8\" font-family=\"Times,serif\" font-size=\"14.00\">100</text>\n</g>\n<!-- pEvening -->\n<g id=\"node1\" class=\"node\">\n<title>pEvening</title>\n<ellipse fill=\"none\" stroke=\"black\" cx=\"171.93\" cy=\"-276.43\" rx=\"48.17\" ry=\"37.45\"/>\n<text text-anchor=\"middle\" x=\"171.93\" y=\"-287.73\" font-family=\"Times,serif\" font-size=\"14.00\">pEvening</text>\n<text text-anchor=\"middle\" x=\"171.93\" y=\"-272.73\" font-family=\"Times,serif\" font-size=\"14.00\">~</text>\n<text text-anchor=\"middle\" x=\"171.93\" y=\"-257.73\" font-family=\"Times,serif\" font-size=\"14.00\">Beta</text>\n</g>\n<!-- logit_p -->\n<g id=\"node13\" class=\"node\">\n<title>logit_p</title>\n<polygon fill=\"none\" stroke=\"black\" points=\"431.43,-202.95 340.43,-202.95 340.43,-149.95 431.43,-149.95 431.43,-202.95\"/>\n<text text-anchor=\"middle\" x=\"385.93\" y=\"-187.75\" font-family=\"Times,serif\" font-size=\"14.00\">logit_p</text>\n<text text-anchor=\"middle\" x=\"385.93\" y=\"-172.75\" font-family=\"Times,serif\" font-size=\"14.00\">~</text>\n<text text-anchor=\"middle\" x=\"385.93\" y=\"-157.75\" font-family=\"Times,serif\" font-size=\"14.00\">Deterministic</text>\n</g>\n<!-- pEvening&#45;&gt;logit_p -->\n<g id=\"edge10\" class=\"edge\">\n<title>pEvening&#45;&gt;logit_p</title>\n<path fill=\"none\" stroke=\"black\" d=\"M207.49,-251.18C214.46,-246.85 221.81,-242.58 228.93,-238.95 261.65,-222.28 299.99,-207.18 330.6,-196.12\"/>\n<polygon fill=\"black\" stroke=\"black\" points=\"332.01,-199.33 340.24,-192.67 329.65,-192.74 332.01,-199.33\"/>\n</g>\n<!-- pAfternoonBase -->\n<g id=\"node2\" class=\"node\">\n<title>pAfternoonBase</title>\n<ellipse fill=\"none\" stroke=\"black\" cx=\"922.93\" cy=\"-387.38\" rx=\"74.49\" ry=\"37.45\"/>\n<text text-anchor=\"middle\" x=\"922.93\" y=\"-398.68\" font-family=\"Times,serif\" font-size=\"14.00\">pAfternoonBase</text>\n<text text-anchor=\"middle\" x=\"922.93\" y=\"-383.68\" font-family=\"Times,serif\" font-size=\"14.00\">~</text>\n<text text-anchor=\"middle\" x=\"922.93\" y=\"-368.68\" font-family=\"Times,serif\" font-size=\"14.00\">Beta</text>\n</g>\n<!-- pAfternoon -->\n<g id=\"node12\" class=\"node\">\n<title>pAfternoon</title>\n<polygon fill=\"none\" stroke=\"black\" points=\"729.43,-302.93 638.43,-302.93 638.43,-249.93 729.43,-249.93 729.43,-302.93\"/>\n<text text-anchor=\"middle\" x=\"683.93\" y=\"-287.73\" font-family=\"Times,serif\" font-size=\"14.00\">pAfternoon</text>\n<text text-anchor=\"middle\" x=\"683.93\" y=\"-272.73\" font-family=\"Times,serif\" font-size=\"14.00\">~</text>\n<text text-anchor=\"middle\" x=\"683.93\" y=\"-257.73\" font-family=\"Times,serif\" font-size=\"14.00\">Deterministic</text>\n</g>\n<!-- pAfternoonBase&#45;&gt;pAfternoon -->\n<g id=\"edge9\" class=\"edge\">\n<title>pAfternoonBase&#45;&gt;pAfternoon</title>\n<path fill=\"none\" stroke=\"black\" d=\"M868.7,-361.66C829.81,-343.93 777.62,-320.14 738.63,-302.36\"/>\n<polygon fill=\"black\" stroke=\"black\" points=\"740.07,-299.17 729.52,-298.21 737.16,-305.54 740.07,-299.17\"/>\n</g>\n<!-- pMorningBase -->\n<g id=\"node3\" class=\"node\">\n<title>pMorningBase</title>\n<ellipse fill=\"none\" stroke=\"black\" cx=\"212.93\" cy=\"-387.38\" rx=\"69.09\" ry=\"37.45\"/>\n<text text-anchor=\"middle\" x=\"212.93\" y=\"-398.68\" font-family=\"Times,serif\" font-size=\"14.00\">pMorningBase</text>\n<text text-anchor=\"middle\" x=\"212.93\" y=\"-383.68\" font-family=\"Times,serif\" font-size=\"14.00\">~</text>\n<text text-anchor=\"middle\" x=\"212.93\" y=\"-368.68\" font-family=\"Times,serif\" font-size=\"14.00\">Beta</text>\n</g>\n<!-- pMorning -->\n<g id=\"node4\" class=\"node\">\n<title>pMorning</title>\n<polygon fill=\"none\" stroke=\"black\" points=\"329.43,-302.93 238.43,-302.93 238.43,-249.93 329.43,-249.93 329.43,-302.93\"/>\n<text text-anchor=\"middle\" x=\"283.93\" y=\"-287.73\" font-family=\"Times,serif\" font-size=\"14.00\">pMorning</text>\n<text text-anchor=\"middle\" x=\"283.93\" y=\"-272.73\" font-family=\"Times,serif\" font-size=\"14.00\">~</text>\n<text text-anchor=\"middle\" x=\"283.93\" y=\"-257.73\" font-family=\"Times,serif\" font-size=\"14.00\">Deterministic</text>\n</g>\n<!-- pMorningBase&#45;&gt;pMorning -->\n<g id=\"edge2\" class=\"edge\">\n<title>pMorningBase&#45;&gt;pMorning</title>\n<path fill=\"none\" stroke=\"black\" d=\"M235.4,-351.91C243.78,-339.04 253.29,-324.45 261.66,-311.61\"/>\n<polygon fill=\"black\" stroke=\"black\" points=\"264.71,-313.33 267.24,-303.04 258.85,-309.51 264.71,-313.33\"/>\n</g>\n<!-- pMorning&#45;&gt;logit_p -->\n<g id=\"edge12\" class=\"edge\">\n<title>pMorning&#45;&gt;logit_p</title>\n<path fill=\"none\" stroke=\"black\" d=\"M310.73,-249.69C323.38,-237.54 338.62,-222.9 352.06,-209.99\"/>\n<polygon fill=\"black\" stroke=\"black\" points=\"354.52,-212.48 359.31,-203.02 349.68,-207.43 354.52,-212.48\"/>\n</g>\n<!-- pNight -->\n<g id=\"node5\" class=\"node\">\n<title>pNight</title>\n<ellipse fill=\"none\" stroke=\"black\" cx=\"385.93\" cy=\"-276.43\" rx=\"38.37\" ry=\"37.45\"/>\n<text text-anchor=\"middle\" x=\"385.93\" y=\"-287.73\" font-family=\"Times,serif\" font-size=\"14.00\">pNight</text>\n<text text-anchor=\"middle\" x=\"385.93\" y=\"-272.73\" font-family=\"Times,serif\" font-size=\"14.00\">~</text>\n<text text-anchor=\"middle\" x=\"385.93\" y=\"-257.73\" font-family=\"Times,serif\" font-size=\"14.00\">Beta</text>\n</g>\n<!-- pNight&#45;&gt;logit_p -->\n<g id=\"edge13\" class=\"edge\">\n<title>pNight&#45;&gt;logit_p</title>\n<path fill=\"none\" stroke=\"black\" d=\"M385.93,-238.95C385.93,-230.53 385.93,-221.59 385.93,-213.2\"/>\n<polygon fill=\"black\" stroke=\"black\" points=\"389.43,-212.96 385.93,-202.96 382.43,-212.96 389.43,-212.96\"/>\n</g>\n<!-- pMiddayBase -->\n<g id=\"node6\" class=\"node\">\n<title>pMiddayBase</title>\n<ellipse fill=\"none\" stroke=\"black\" cx=\"487.93\" cy=\"-387.38\" rx=\"65.11\" ry=\"37.45\"/>\n<text text-anchor=\"middle\" x=\"487.93\" y=\"-398.68\" font-family=\"Times,serif\" font-size=\"14.00\">pMiddayBase</text>\n<text text-anchor=\"middle\" x=\"487.93\" y=\"-383.68\" font-family=\"Times,serif\" font-size=\"14.00\">~</text>\n<text text-anchor=\"middle\" x=\"487.93\" y=\"-368.68\" font-family=\"Times,serif\" font-size=\"14.00\">Beta</text>\n</g>\n<!-- pMidday -->\n<g id=\"node10\" class=\"node\">\n<title>pMidday</title>\n<polygon fill=\"none\" stroke=\"black\" points=\"533.43,-302.93 442.43,-302.93 442.43,-249.93 533.43,-249.93 533.43,-302.93\"/>\n<text text-anchor=\"middle\" x=\"487.93\" y=\"-287.73\" font-family=\"Times,serif\" font-size=\"14.00\">pMidday</text>\n<text text-anchor=\"middle\" x=\"487.93\" y=\"-272.73\" font-family=\"Times,serif\" font-size=\"14.00\">~</text>\n<text text-anchor=\"middle\" x=\"487.93\" y=\"-257.73\" font-family=\"Times,serif\" font-size=\"14.00\">Deterministic</text>\n</g>\n<!-- pMiddayBase&#45;&gt;pMidday -->\n<g id=\"edge6\" class=\"edge\">\n<title>pMiddayBase&#45;&gt;pMidday</title>\n<path fill=\"none\" stroke=\"black\" d=\"M487.93,-349.8C487.93,-338.06 487.93,-325.08 487.93,-313.38\"/>\n<polygon fill=\"black\" stroke=\"black\" points=\"491.43,-313.08 487.93,-303.08 484.43,-313.08 491.43,-313.08\"/>\n</g>\n<!-- pMorChange -->\n<g id=\"node7\" class=\"node\">\n<title>pMorChange</title>\n<ellipse fill=\"none\" stroke=\"black\" cx=\"62.93\" cy=\"-387.38\" rx=\"62.87\" ry=\"37.45\"/>\n<text text-anchor=\"middle\" x=\"62.93\" y=\"-398.68\" font-family=\"Times,serif\" font-size=\"14.00\">pMorChange</text>\n<text text-anchor=\"middle\" x=\"62.93\" y=\"-383.68\" font-family=\"Times,serif\" font-size=\"14.00\">~</text>\n<text text-anchor=\"middle\" x=\"62.93\" y=\"-368.68\" font-family=\"Times,serif\" font-size=\"14.00\">Beta</text>\n</g>\n<!-- pMorChange&#45;&gt;pMorning -->\n<g id=\"edge3\" class=\"edge\">\n<title>pMorChange&#45;&gt;pMorning</title>\n<path fill=\"none\" stroke=\"black\" d=\"M109.46,-361.93C117.87,-357.77 126.61,-353.6 134.93,-349.91 175.83,-331.77 189.16,-334.39 228.93,-313.91 232.23,-312.21 235.58,-310.35 238.91,-308.41\"/>\n<polygon fill=\"black\" stroke=\"black\" points=\"240.9,-311.29 247.63,-303.11 237.26,-305.31 240.9,-311.29\"/>\n</g>\n<!-- pWeekday -->\n<g id=\"node8\" class=\"node\">\n<title>pWeekday</title>\n<ellipse fill=\"none\" stroke=\"black\" cx=\"352.93\" cy=\"-387.38\" rx=\"52.15\" ry=\"37.45\"/>\n<text text-anchor=\"middle\" x=\"352.93\" y=\"-398.68\" font-family=\"Times,serif\" font-size=\"14.00\">pWeekday</text>\n<text text-anchor=\"middle\" x=\"352.93\" y=\"-383.68\" font-family=\"Times,serif\" font-size=\"14.00\">~</text>\n<text text-anchor=\"middle\" x=\"352.93\" y=\"-368.68\" font-family=\"Times,serif\" font-size=\"14.00\">Beta</text>\n</g>\n<!-- pWeekday&#45;&gt;pMorning -->\n<g id=\"edge1\" class=\"edge\">\n<title>pWeekday&#45;&gt;pMorning</title>\n<path fill=\"none\" stroke=\"black\" d=\"M331.67,-352.8C323.43,-339.8 314.01,-324.92 305.72,-311.84\"/>\n<polygon fill=\"black\" stroke=\"black\" points=\"308.5,-309.69 300.2,-303.11 302.59,-313.43 308.5,-309.69\"/>\n</g>\n<!-- pWeekday&#45;&gt;pMidday -->\n<g id=\"edge5\" class=\"edge\">\n<title>pWeekday&#45;&gt;pMidday</title>\n<path fill=\"none\" stroke=\"black\" d=\"M387,-358.89C405.67,-343.82 428.91,-325.06 448.38,-309.35\"/>\n<polygon fill=\"black\" stroke=\"black\" points=\"450.61,-312.05 456.2,-303.04 446.22,-306.6 450.61,-312.05\"/>\n</g>\n<!-- pWeekday&#45;&gt;pAfternoon -->\n<g id=\"edge7\" class=\"edge\">\n<title>pWeekday&#45;&gt;pAfternoon</title>\n<path fill=\"none\" stroke=\"black\" d=\"M391.14,-361.37C398.51,-357.17 406.32,-353.13 413.93,-349.91 423.94,-345.67 552.24,-311.85 628.32,-291.94\"/>\n<polygon fill=\"black\" stroke=\"black\" points=\"629.45,-295.26 638.24,-289.35 627.68,-288.49 629.45,-295.26\"/>\n</g>\n<!-- pAftChange -->\n<g id=\"node9\" class=\"node\">\n<title>pAftChange</title>\n<ellipse fill=\"none\" stroke=\"black\" cx=\"771.93\" cy=\"-387.38\" rx=\"58.88\" ry=\"37.45\"/>\n<text text-anchor=\"middle\" x=\"771.93\" y=\"-398.68\" font-family=\"Times,serif\" font-size=\"14.00\">pAftChange</text>\n<text text-anchor=\"middle\" x=\"771.93\" y=\"-383.68\" font-family=\"Times,serif\" font-size=\"14.00\">~</text>\n<text text-anchor=\"middle\" x=\"771.93\" y=\"-368.68\" font-family=\"Times,serif\" font-size=\"14.00\">Beta</text>\n</g>\n<!-- pAftChange&#45;&gt;pAfternoon -->\n<g id=\"edge8\" class=\"edge\">\n<title>pAftChange&#45;&gt;pAfternoon</title>\n<path fill=\"none\" stroke=\"black\" d=\"M745.53,-353.69C734.71,-340.3 722.2,-324.81 711.28,-311.29\"/>\n<polygon fill=\"black\" stroke=\"black\" points=\"713.73,-308.76 704.73,-303.17 708.29,-313.15 713.73,-308.76\"/>\n</g>\n<!-- pMidday&#45;&gt;logit_p -->\n<g id=\"edge11\" class=\"edge\">\n<title>pMidday&#45;&gt;logit_p</title>\n<path fill=\"none\" stroke=\"black\" d=\"M461.13,-249.69C448.48,-237.54 433.25,-222.9 419.81,-209.99\"/>\n<polygon fill=\"black\" stroke=\"black\" points=\"422.19,-207.43 412.55,-203.02 417.34,-212.48 422.19,-207.43\"/>\n</g>\n<!-- pMidChange -->\n<g id=\"node11\" class=\"node\">\n<title>pMidChange</title>\n<ellipse fill=\"none\" stroke=\"black\" cx=\"632.93\" cy=\"-387.38\" rx=\"62.45\" ry=\"37.45\"/>\n<text text-anchor=\"middle\" x=\"632.93\" y=\"-398.68\" font-family=\"Times,serif\" font-size=\"14.00\">pMidChange</text>\n<text text-anchor=\"middle\" x=\"632.93\" y=\"-383.68\" font-family=\"Times,serif\" font-size=\"14.00\">~</text>\n<text text-anchor=\"middle\" x=\"632.93\" y=\"-368.68\" font-family=\"Times,serif\" font-size=\"14.00\">Beta</text>\n</g>\n<!-- pMidChange&#45;&gt;pMidday -->\n<g id=\"edge4\" class=\"edge\">\n<title>pMidChange&#45;&gt;pMidday</title>\n<path fill=\"none\" stroke=\"black\" d=\"M594.46,-357.47C574.69,-342.62 550.57,-324.5 530.28,-309.25\"/>\n<polygon fill=\"black\" stroke=\"black\" points=\"532.23,-306.34 522.13,-303.13 528.02,-311.93 532.23,-306.34\"/>\n</g>\n<!-- pAfternoon&#45;&gt;logit_p -->\n<g id=\"edge14\" class=\"edge\">\n<title>pAfternoon&#45;&gt;logit_p</title>\n<path fill=\"none\" stroke=\"black\" d=\"M638.35,-260.44C585.33,-243.01 497.84,-214.24 441.05,-195.57\"/>\n<polygon fill=\"black\" stroke=\"black\" points=\"442.1,-192.24 431.51,-192.44 439.92,-198.89 442.1,-192.24\"/>\n</g>\n<!-- y -->\n<g id=\"node14\" class=\"node\">\n<title>y</title>\n<ellipse fill=\"lightgrey\" stroke=\"black\" cx=\"385.93\" cy=\"-76.48\" rx=\"48.17\" ry=\"37.45\"/>\n<text text-anchor=\"middle\" x=\"385.93\" y=\"-87.78\" font-family=\"Times,serif\" font-size=\"14.00\">y</text>\n<text text-anchor=\"middle\" x=\"385.93\" y=\"-72.78\" font-family=\"Times,serif\" font-size=\"14.00\">~</text>\n<text text-anchor=\"middle\" x=\"385.93\" y=\"-57.78\" font-family=\"Times,serif\" font-size=\"14.00\">Bernoulli</text>\n</g>\n<!-- logit_p&#45;&gt;y -->\n<g id=\"edge15\" class=\"edge\">\n<title>logit_p&#45;&gt;y</title>\n<path fill=\"none\" stroke=\"black\" d=\"M385.93,-149.71C385.93,-141.89 385.93,-133.03 385.93,-124.27\"/>\n<polygon fill=\"black\" stroke=\"black\" points=\"389.43,-124.1 385.93,-114.1 382.43,-124.1 389.43,-124.1\"/>\n</g>\n</g>\n</svg>\n",
            "text/plain": [
              "<graphviz.graphs.Digraph at 0x7933987bd540>"
            ]
          },
          "metadata": {},
          "execution_count": 39
        }
      ],
      "source": [
        "pm.model_to_graphviz(timeday_model)"
      ]
    },
    {
      "cell_type": "markdown",
      "source": [
        "# Posterior inference Part 1"
      ],
      "metadata": {
        "id": "mQ1nGo-wI1tz"
      }
    },
    {
      "cell_type": "code",
      "source": [
        "print(\"number of MCMC samples:\", timedaydata.posterior['pWeekday'].values.flatten().shape[-1])\n",
        "az.summary(timedaydata, round_to=2)"
      ],
      "metadata": {
        "id": "IEjIgB8KA_DQ",
        "colab": {
          "base_uri": "https://localhost:8080/",
          "height": 441
        },
        "outputId": "b6d29bb4-c618-4c40-c2e9-3225e293bb45"
      },
      "execution_count": 40,
      "outputs": [
        {
          "output_type": "stream",
          "name": "stdout",
          "text": [
            "number of MCMC samples: 2000\n"
          ]
        },
        {
          "output_type": "execute_result",
          "data": {
            "text/plain": [
              "                mean    sd  hdi_3%  hdi_97%  mcse_mean  mcse_sd  ess_bulk  \\\n",
              "pWeekday        0.32  0.26    0.00     0.83       0.01     0.00   2052.73   \n",
              "pNight          0.45  0.28    0.00     0.90       0.01     0.00   2222.93   \n",
              "pMorningBase    0.17  0.15    0.00     0.45       0.00     0.00   2359.13   \n",
              "pMiddayBase     0.21  0.17    0.00     0.52       0.00     0.00   2781.50   \n",
              "pAfternoonBase  0.16  0.14    0.00     0.42       0.00     0.00   2008.20   \n",
              "...              ...   ...     ...      ...        ...      ...       ...   \n",
              "logit_p[95]     0.24  0.16    0.01     0.53       0.00     0.00   2711.07   \n",
              "logit_p[96]     0.25  0.17    0.01     0.56       0.00     0.00   2223.62   \n",
              "logit_p[97]     0.05  0.26   -0.47     0.54       0.01     0.01   2479.00   \n",
              "logit_p[98]     0.26  0.21    0.00     0.65       0.00     0.00   2883.38   \n",
              "logit_p[99]     0.24  0.16    0.01     0.53       0.00     0.00   2711.07   \n",
              "\n",
              "                ess_tail  r_hat  \n",
              "pWeekday         1440.39   1.00  \n",
              "pNight           1273.33   1.00  \n",
              "pMorningBase     1302.42   1.00  \n",
              "pMiddayBase      1107.63   1.01  \n",
              "pAfternoonBase   1123.06   1.00  \n",
              "...                  ...    ...  \n",
              "logit_p[95]      1332.81   1.00  \n",
              "logit_p[96]      1576.65   1.00  \n",
              "logit_p[97]      1217.93   1.00  \n",
              "logit_p[98]      1265.38   1.00  \n",
              "logit_p[99]      1332.81   1.00  \n",
              "\n",
              "[112 rows x 9 columns]"
            ],
            "text/html": [
              "\n",
              "  <div id=\"df-519883dc-0e0f-49d2-b3aa-f11ecbe51594\" class=\"colab-df-container\">\n",
              "    <div>\n",
              "<style scoped>\n",
              "    .dataframe tbody tr th:only-of-type {\n",
              "        vertical-align: middle;\n",
              "    }\n",
              "\n",
              "    .dataframe tbody tr th {\n",
              "        vertical-align: top;\n",
              "    }\n",
              "\n",
              "    .dataframe thead th {\n",
              "        text-align: right;\n",
              "    }\n",
              "</style>\n",
              "<table border=\"1\" class=\"dataframe\">\n",
              "  <thead>\n",
              "    <tr style=\"text-align: right;\">\n",
              "      <th></th>\n",
              "      <th>mean</th>\n",
              "      <th>sd</th>\n",
              "      <th>hdi_3%</th>\n",
              "      <th>hdi_97%</th>\n",
              "      <th>mcse_mean</th>\n",
              "      <th>mcse_sd</th>\n",
              "      <th>ess_bulk</th>\n",
              "      <th>ess_tail</th>\n",
              "      <th>r_hat</th>\n",
              "    </tr>\n",
              "  </thead>\n",
              "  <tbody>\n",
              "    <tr>\n",
              "      <th>pWeekday</th>\n",
              "      <td>0.32</td>\n",
              "      <td>0.26</td>\n",
              "      <td>0.00</td>\n",
              "      <td>0.83</td>\n",
              "      <td>0.01</td>\n",
              "      <td>0.00</td>\n",
              "      <td>2052.73</td>\n",
              "      <td>1440.39</td>\n",
              "      <td>1.00</td>\n",
              "    </tr>\n",
              "    <tr>\n",
              "      <th>pNight</th>\n",
              "      <td>0.45</td>\n",
              "      <td>0.28</td>\n",
              "      <td>0.00</td>\n",
              "      <td>0.90</td>\n",
              "      <td>0.01</td>\n",
              "      <td>0.00</td>\n",
              "      <td>2222.93</td>\n",
              "      <td>1273.33</td>\n",
              "      <td>1.00</td>\n",
              "    </tr>\n",
              "    <tr>\n",
              "      <th>pMorningBase</th>\n",
              "      <td>0.17</td>\n",
              "      <td>0.15</td>\n",
              "      <td>0.00</td>\n",
              "      <td>0.45</td>\n",
              "      <td>0.00</td>\n",
              "      <td>0.00</td>\n",
              "      <td>2359.13</td>\n",
              "      <td>1302.42</td>\n",
              "      <td>1.00</td>\n",
              "    </tr>\n",
              "    <tr>\n",
              "      <th>pMiddayBase</th>\n",
              "      <td>0.21</td>\n",
              "      <td>0.17</td>\n",
              "      <td>0.00</td>\n",
              "      <td>0.52</td>\n",
              "      <td>0.00</td>\n",
              "      <td>0.00</td>\n",
              "      <td>2781.50</td>\n",
              "      <td>1107.63</td>\n",
              "      <td>1.01</td>\n",
              "    </tr>\n",
              "    <tr>\n",
              "      <th>pAfternoonBase</th>\n",
              "      <td>0.16</td>\n",
              "      <td>0.14</td>\n",
              "      <td>0.00</td>\n",
              "      <td>0.42</td>\n",
              "      <td>0.00</td>\n",
              "      <td>0.00</td>\n",
              "      <td>2008.20</td>\n",
              "      <td>1123.06</td>\n",
              "      <td>1.00</td>\n",
              "    </tr>\n",
              "    <tr>\n",
              "      <th>...</th>\n",
              "      <td>...</td>\n",
              "      <td>...</td>\n",
              "      <td>...</td>\n",
              "      <td>...</td>\n",
              "      <td>...</td>\n",
              "      <td>...</td>\n",
              "      <td>...</td>\n",
              "      <td>...</td>\n",
              "      <td>...</td>\n",
              "    </tr>\n",
              "    <tr>\n",
              "      <th>logit_p[95]</th>\n",
              "      <td>0.24</td>\n",
              "      <td>0.16</td>\n",
              "      <td>0.01</td>\n",
              "      <td>0.53</td>\n",
              "      <td>0.00</td>\n",
              "      <td>0.00</td>\n",
              "      <td>2711.07</td>\n",
              "      <td>1332.81</td>\n",
              "      <td>1.00</td>\n",
              "    </tr>\n",
              "    <tr>\n",
              "      <th>logit_p[96]</th>\n",
              "      <td>0.25</td>\n",
              "      <td>0.17</td>\n",
              "      <td>0.01</td>\n",
              "      <td>0.56</td>\n",
              "      <td>0.00</td>\n",
              "      <td>0.00</td>\n",
              "      <td>2223.62</td>\n",
              "      <td>1576.65</td>\n",
              "      <td>1.00</td>\n",
              "    </tr>\n",
              "    <tr>\n",
              "      <th>logit_p[97]</th>\n",
              "      <td>0.05</td>\n",
              "      <td>0.26</td>\n",
              "      <td>-0.47</td>\n",
              "      <td>0.54</td>\n",
              "      <td>0.01</td>\n",
              "      <td>0.01</td>\n",
              "      <td>2479.00</td>\n",
              "      <td>1217.93</td>\n",
              "      <td>1.00</td>\n",
              "    </tr>\n",
              "    <tr>\n",
              "      <th>logit_p[98]</th>\n",
              "      <td>0.26</td>\n",
              "      <td>0.21</td>\n",
              "      <td>0.00</td>\n",
              "      <td>0.65</td>\n",
              "      <td>0.00</td>\n",
              "      <td>0.00</td>\n",
              "      <td>2883.38</td>\n",
              "      <td>1265.38</td>\n",
              "      <td>1.00</td>\n",
              "    </tr>\n",
              "    <tr>\n",
              "      <th>logit_p[99]</th>\n",
              "      <td>0.24</td>\n",
              "      <td>0.16</td>\n",
              "      <td>0.01</td>\n",
              "      <td>0.53</td>\n",
              "      <td>0.00</td>\n",
              "      <td>0.00</td>\n",
              "      <td>2711.07</td>\n",
              "      <td>1332.81</td>\n",
              "      <td>1.00</td>\n",
              "    </tr>\n",
              "  </tbody>\n",
              "</table>\n",
              "<p>112 rows × 9 columns</p>\n",
              "</div>\n",
              "    <div class=\"colab-df-buttons\">\n",
              "\n",
              "  <div class=\"colab-df-container\">\n",
              "    <button class=\"colab-df-convert\" onclick=\"convertToInteractive('df-519883dc-0e0f-49d2-b3aa-f11ecbe51594')\"\n",
              "            title=\"Convert this dataframe to an interactive table.\"\n",
              "            style=\"display:none;\">\n",
              "\n",
              "  <svg xmlns=\"http://www.w3.org/2000/svg\" height=\"24px\" viewBox=\"0 -960 960 960\">\n",
              "    <path d=\"M120-120v-720h720v720H120Zm60-500h600v-160H180v160Zm220 220h160v-160H400v160Zm0 220h160v-160H400v160ZM180-400h160v-160H180v160Zm440 0h160v-160H620v160ZM180-180h160v-160H180v160Zm440 0h160v-160H620v160Z\"/>\n",
              "  </svg>\n",
              "    </button>\n",
              "\n",
              "  <style>\n",
              "    .colab-df-container {\n",
              "      display:flex;\n",
              "      gap: 12px;\n",
              "    }\n",
              "\n",
              "    .colab-df-convert {\n",
              "      background-color: #E8F0FE;\n",
              "      border: none;\n",
              "      border-radius: 50%;\n",
              "      cursor: pointer;\n",
              "      display: none;\n",
              "      fill: #1967D2;\n",
              "      height: 32px;\n",
              "      padding: 0 0 0 0;\n",
              "      width: 32px;\n",
              "    }\n",
              "\n",
              "    .colab-df-convert:hover {\n",
              "      background-color: #E2EBFA;\n",
              "      box-shadow: 0px 1px 2px rgba(60, 64, 67, 0.3), 0px 1px 3px 1px rgba(60, 64, 67, 0.15);\n",
              "      fill: #174EA6;\n",
              "    }\n",
              "\n",
              "    .colab-df-buttons div {\n",
              "      margin-bottom: 4px;\n",
              "    }\n",
              "\n",
              "    [theme=dark] .colab-df-convert {\n",
              "      background-color: #3B4455;\n",
              "      fill: #D2E3FC;\n",
              "    }\n",
              "\n",
              "    [theme=dark] .colab-df-convert:hover {\n",
              "      background-color: #434B5C;\n",
              "      box-shadow: 0px 1px 3px 1px rgba(0, 0, 0, 0.15);\n",
              "      filter: drop-shadow(0px 1px 2px rgba(0, 0, 0, 0.3));\n",
              "      fill: #FFFFFF;\n",
              "    }\n",
              "  </style>\n",
              "\n",
              "    <script>\n",
              "      const buttonEl =\n",
              "        document.querySelector('#df-519883dc-0e0f-49d2-b3aa-f11ecbe51594 button.colab-df-convert');\n",
              "      buttonEl.style.display =\n",
              "        google.colab.kernel.accessAllowed ? 'block' : 'none';\n",
              "\n",
              "      async function convertToInteractive(key) {\n",
              "        const element = document.querySelector('#df-519883dc-0e0f-49d2-b3aa-f11ecbe51594');\n",
              "        const dataTable =\n",
              "          await google.colab.kernel.invokeFunction('convertToInteractive',\n",
              "                                                    [key], {});\n",
              "        if (!dataTable) return;\n",
              "\n",
              "        const docLinkHtml = 'Like what you see? Visit the ' +\n",
              "          '<a target=\"_blank\" href=https://colab.research.google.com/notebooks/data_table.ipynb>data table notebook</a>'\n",
              "          + ' to learn more about interactive tables.';\n",
              "        element.innerHTML = '';\n",
              "        dataTable['output_type'] = 'display_data';\n",
              "        await google.colab.output.renderOutput(dataTable, element);\n",
              "        const docLink = document.createElement('div');\n",
              "        docLink.innerHTML = docLinkHtml;\n",
              "        element.appendChild(docLink);\n",
              "      }\n",
              "    </script>\n",
              "  </div>\n",
              "\n",
              "\n",
              "<div id=\"df-e304a000-619a-423a-9167-0ae23284bb9a\">\n",
              "  <button class=\"colab-df-quickchart\" onclick=\"quickchart('df-e304a000-619a-423a-9167-0ae23284bb9a')\"\n",
              "            title=\"Suggest charts\"\n",
              "            style=\"display:none;\">\n",
              "\n",
              "<svg xmlns=\"http://www.w3.org/2000/svg\" height=\"24px\"viewBox=\"0 0 24 24\"\n",
              "     width=\"24px\">\n",
              "    <g>\n",
              "        <path d=\"M19 3H5c-1.1 0-2 .9-2 2v14c0 1.1.9 2 2 2h14c1.1 0 2-.9 2-2V5c0-1.1-.9-2-2-2zM9 17H7v-7h2v7zm4 0h-2V7h2v10zm4 0h-2v-4h2v4z\"/>\n",
              "    </g>\n",
              "</svg>\n",
              "  </button>\n",
              "\n",
              "<style>\n",
              "  .colab-df-quickchart {\n",
              "      --bg-color: #E8F0FE;\n",
              "      --fill-color: #1967D2;\n",
              "      --hover-bg-color: #E2EBFA;\n",
              "      --hover-fill-color: #174EA6;\n",
              "      --disabled-fill-color: #AAA;\n",
              "      --disabled-bg-color: #DDD;\n",
              "  }\n",
              "\n",
              "  [theme=dark] .colab-df-quickchart {\n",
              "      --bg-color: #3B4455;\n",
              "      --fill-color: #D2E3FC;\n",
              "      --hover-bg-color: #434B5C;\n",
              "      --hover-fill-color: #FFFFFF;\n",
              "      --disabled-bg-color: #3B4455;\n",
              "      --disabled-fill-color: #666;\n",
              "  }\n",
              "\n",
              "  .colab-df-quickchart {\n",
              "    background-color: var(--bg-color);\n",
              "    border: none;\n",
              "    border-radius: 50%;\n",
              "    cursor: pointer;\n",
              "    display: none;\n",
              "    fill: var(--fill-color);\n",
              "    height: 32px;\n",
              "    padding: 0;\n",
              "    width: 32px;\n",
              "  }\n",
              "\n",
              "  .colab-df-quickchart:hover {\n",
              "    background-color: var(--hover-bg-color);\n",
              "    box-shadow: 0 1px 2px rgba(60, 64, 67, 0.3), 0 1px 3px 1px rgba(60, 64, 67, 0.15);\n",
              "    fill: var(--button-hover-fill-color);\n",
              "  }\n",
              "\n",
              "  .colab-df-quickchart-complete:disabled,\n",
              "  .colab-df-quickchart-complete:disabled:hover {\n",
              "    background-color: var(--disabled-bg-color);\n",
              "    fill: var(--disabled-fill-color);\n",
              "    box-shadow: none;\n",
              "  }\n",
              "\n",
              "  .colab-df-spinner {\n",
              "    border: 2px solid var(--fill-color);\n",
              "    border-color: transparent;\n",
              "    border-bottom-color: var(--fill-color);\n",
              "    animation:\n",
              "      spin 1s steps(1) infinite;\n",
              "  }\n",
              "\n",
              "  @keyframes spin {\n",
              "    0% {\n",
              "      border-color: transparent;\n",
              "      border-bottom-color: var(--fill-color);\n",
              "      border-left-color: var(--fill-color);\n",
              "    }\n",
              "    20% {\n",
              "      border-color: transparent;\n",
              "      border-left-color: var(--fill-color);\n",
              "      border-top-color: var(--fill-color);\n",
              "    }\n",
              "    30% {\n",
              "      border-color: transparent;\n",
              "      border-left-color: var(--fill-color);\n",
              "      border-top-color: var(--fill-color);\n",
              "      border-right-color: var(--fill-color);\n",
              "    }\n",
              "    40% {\n",
              "      border-color: transparent;\n",
              "      border-right-color: var(--fill-color);\n",
              "      border-top-color: var(--fill-color);\n",
              "    }\n",
              "    60% {\n",
              "      border-color: transparent;\n",
              "      border-right-color: var(--fill-color);\n",
              "    }\n",
              "    80% {\n",
              "      border-color: transparent;\n",
              "      border-right-color: var(--fill-color);\n",
              "      border-bottom-color: var(--fill-color);\n",
              "    }\n",
              "    90% {\n",
              "      border-color: transparent;\n",
              "      border-bottom-color: var(--fill-color);\n",
              "    }\n",
              "  }\n",
              "</style>\n",
              "\n",
              "  <script>\n",
              "    async function quickchart(key) {\n",
              "      const quickchartButtonEl =\n",
              "        document.querySelector('#' + key + ' button');\n",
              "      quickchartButtonEl.disabled = true;  // To prevent multiple clicks.\n",
              "      quickchartButtonEl.classList.add('colab-df-spinner');\n",
              "      try {\n",
              "        const charts = await google.colab.kernel.invokeFunction(\n",
              "            'suggestCharts', [key], {});\n",
              "      } catch (error) {\n",
              "        console.error('Error during call to suggestCharts:', error);\n",
              "      }\n",
              "      quickchartButtonEl.classList.remove('colab-df-spinner');\n",
              "      quickchartButtonEl.classList.add('colab-df-quickchart-complete');\n",
              "    }\n",
              "    (() => {\n",
              "      let quickchartButtonEl =\n",
              "        document.querySelector('#df-e304a000-619a-423a-9167-0ae23284bb9a button');\n",
              "      quickchartButtonEl.style.display =\n",
              "        google.colab.kernel.accessAllowed ? 'block' : 'none';\n",
              "    })();\n",
              "  </script>\n",
              "</div>\n",
              "\n",
              "    </div>\n",
              "  </div>\n"
            ],
            "application/vnd.google.colaboratory.intrinsic+json": {
              "type": "dataframe",
              "summary": "{\n  \"name\": \"az\",\n  \"rows\": 112,\n  \"fields\": [\n    {\n      \"column\": \"mean\",\n      \"properties\": {\n        \"dtype\": \"number\",\n        \"std\": 0.09567328978549017,\n        \"min\": 0.05,\n        \"max\": 0.57,\n        \"num_unique_values\": 11,\n        \"samples\": [\n          0.26,\n          0.32,\n          0.05\n        ],\n        \"semantic_type\": \"\",\n        \"description\": \"\"\n      }\n    },\n    {\n      \"column\": \"sd\",\n      \"properties\": {\n        \"dtype\": \"number\",\n        \"std\": 0.04392859758712638,\n        \"min\": 0.14,\n        \"max\": 0.28,\n        \"num_unique_values\": 7,\n        \"samples\": [\n          0.26,\n          0.28,\n          0.21\n        ],\n        \"semantic_type\": \"\",\n        \"description\": \"\"\n      }\n    },\n    {\n      \"column\": \"hdi_3%\",\n      \"properties\": {\n        \"dtype\": \"number\",\n        \"std\": 0.19428545700357708,\n        \"min\": -0.47,\n        \"max\": 0.09,\n        \"num_unique_values\": 4,\n        \"samples\": [\n          0.09,\n          -0.47,\n          0.0\n        ],\n        \"semantic_type\": \"\",\n        \"description\": \"\"\n      }\n    },\n    {\n      \"column\": \"hdi_97%\",\n      \"properties\": {\n        \"dtype\": \"number\",\n        \"std\": 0.09061241480536603,\n        \"min\": 0.42,\n        \"max\": 1.0,\n        \"num_unique_values\": 11,\n        \"samples\": [\n          0.65,\n          0.83,\n          0.54\n        ],\n        \"semantic_type\": \"\",\n        \"description\": \"\"\n      }\n    },\n    {\n      \"column\": \"mcse_mean\",\n      \"properties\": {\n        \"dtype\": \"number\",\n        \"std\": 0.004400150635072124,\n        \"min\": 0.0,\n        \"max\": 0.01,\n        \"num_unique_values\": 2,\n        \"samples\": [\n          0.0,\n          0.01\n        ],\n        \"semantic_type\": \"\",\n        \"description\": \"\"\n      }\n    },\n    {\n      \"column\": \"mcse_sd\",\n      \"properties\": {\n        \"dtype\": \"number\",\n        \"std\": 0.00405777928374286,\n        \"min\": 0.0,\n        \"max\": 0.01,\n        \"num_unique_values\": 2,\n        \"samples\": [\n          0.01,\n          0.0\n        ],\n        \"semantic_type\": \"\",\n        \"description\": \"\"\n      }\n    },\n    {\n      \"column\": \"ess_bulk\",\n      \"properties\": {\n        \"dtype\": \"number\",\n        \"std\": 236.31346877180945,\n        \"min\": 2008.2,\n        \"max\": 2957.21,\n        \"num_unique_values\": 12,\n        \"samples\": [\n          2479.0,\n          2223.62\n        ],\n        \"semantic_type\": \"\",\n        \"description\": \"\"\n      }\n    },\n    {\n      \"column\": \"ess_tail\",\n      \"properties\": {\n        \"dtype\": \"number\",\n        \"std\": 123.94325963407385,\n        \"min\": 1107.63,\n        \"max\": 1576.65,\n        \"num_unique_values\": 12,\n        \"samples\": [\n          1217.93,\n          1576.65\n        ],\n        \"semantic_type\": \"\",\n        \"description\": \"\"\n      }\n    },\n    {\n      \"column\": \"r_hat\",\n      \"properties\": {\n        \"dtype\": \"number\",\n        \"std\": 0.0009449111825230692,\n        \"min\": 1.0,\n        \"max\": 1.01,\n        \"num_unique_values\": 2,\n        \"samples\": [\n          1.01,\n          1.0\n        ],\n        \"semantic_type\": \"\",\n        \"description\": \"\"\n      }\n    }\n  ]\n}"
            }
          },
          "metadata": {},
          "execution_count": 40
        }
      ]
    },
    {
      "cell_type": "code",
      "source": [
        "az.plot_trace(timedaydata, combined = True,var_names ='pEvening' );"
      ],
      "metadata": {
        "id": "3jmlfnEeI3xC",
        "colab": {
          "base_uri": "https://localhost:8080/",
          "height": 236
        },
        "outputId": "da1d5f0f-0104-40c3-e32d-bffda005485b"
      },
      "execution_count": 41,
      "outputs": [
        {
          "output_type": "display_data",
          "data": {
            "text/plain": [
              "<Figure size 1200x200 with 2 Axes>"
            ],
            "image/png": "[encoded data removed]"
          },
          "metadata": {}
        }
      ]
    },
    {
      "cell_type": "markdown",
      "metadata": {
        "id": "fsRJm-bNDoTM"
      },
      "source": [
        "Variable selection for the conditions factors using Spike and Slab"
      ]
    },
    {
      "cell_type": "code",
      "execution_count": 42,
      "metadata": {
        "colab": {
          "base_uri": "https://localhost:8080/",
          "height": 114
        },
        "id": "xZfOSJEm-w9B",
        "outputId": "2645f1b5-733f-42a1-f2b8-2d9e3dcbb3e5"
      },
      "outputs": [
        {
          "output_type": "display_data",
          "data": {
            "text/plain": [
              "<IPython.core.display.HTML object>"
            ],
            "text/html": [
              "\n",
              "<style>\n",
              "    /* Turns off some styling */\n",
              "    progress {\n",
              "        /* gets rid of default border in Firefox and Opera. */\n",
              "        border: none;\n",
              "        /* Needs to be in here for Safari polyfill so background images work as expected. */\n",
              "        background-size: auto;\n",
              "    }\n",
              "    progress:not([value]), progress:not([value])::-webkit-progress-bar {\n",
              "        background: repeating-linear-gradient(45deg, #7e7e7e, #7e7e7e 10px, #5c5c5c 10px, #5c5c5c 20px);\n",
              "    }\n",
              "    .progress-bar-interrupted, .progress-bar-interrupted::-webkit-progress-bar {\n",
              "        background: #F44336;\n",
              "    }\n",
              "</style>\n"
            ]
          },
          "metadata": {}
        },
        {
          "output_type": "display_data",
          "data": {
            "text/plain": [
              "<IPython.core.display.HTML object>"
            ],
            "text/html": [
              "\n",
              "    <div>\n",
              "      <progress value='2000' class='' max='2000' style='width:300px; height:20px; vertical-align: middle;'></progress>\n",
              "      100.00% [2000/2000 00:07&lt;00:00 Sampling chain 0, 30 divergences]\n",
              "    </div>\n",
              "    "
            ]
          },
          "metadata": {}
        },
        {
          "output_type": "display_data",
          "data": {
            "text/plain": [
              "<IPython.core.display.HTML object>"
            ],
            "text/html": [
              "\n",
              "<style>\n",
              "    /* Turns off some styling */\n",
              "    progress {\n",
              "        /* gets rid of default border in Firefox and Opera. */\n",
              "        border: none;\n",
              "        /* Needs to be in here for Safari polyfill so background images work as expected. */\n",
              "        background-size: auto;\n",
              "    }\n",
              "    progress:not([value]), progress:not([value])::-webkit-progress-bar {\n",
              "        background: repeating-linear-gradient(45deg, #7e7e7e, #7e7e7e 10px, #5c5c5c 10px, #5c5c5c 20px);\n",
              "    }\n",
              "    .progress-bar-interrupted, .progress-bar-interrupted::-webkit-progress-bar {\n",
              "        background: #F44336;\n",
              "    }\n",
              "</style>\n"
            ]
          },
          "metadata": {}
        },
        {
          "output_type": "display_data",
          "data": {
            "text/plain": [
              "<IPython.core.display.HTML object>"
            ],
            "text/html": [
              "\n",
              "    <div>\n",
              "      <progress value='2000' class='' max='2000' style='width:300px; height:20px; vertical-align: middle;'></progress>\n",
              "      100.00% [2000/2000 00:05&lt;00:00 Sampling chain 1, 6 divergences]\n",
              "    </div>\n",
              "    "
            ]
          },
          "metadata": {}
        },
        {
          "output_type": "display_data",
          "data": {
            "text/plain": [
              "<IPython.core.display.HTML object>"
            ],
            "text/html": [
              "\n",
              "<style>\n",
              "    /* Turns off some styling */\n",
              "    progress {\n",
              "        /* gets rid of default border in Firefox and Opera. */\n",
              "        border: none;\n",
              "        /* Needs to be in here for Safari polyfill so background images work as expected. */\n",
              "        background-size: auto;\n",
              "    }\n",
              "    progress:not([value]), progress:not([value])::-webkit-progress-bar {\n",
              "        background: repeating-linear-gradient(45deg, #7e7e7e, #7e7e7e 10px, #5c5c5c 10px, #5c5c5c 20px);\n",
              "    }\n",
              "    .progress-bar-interrupted, .progress-bar-interrupted::-webkit-progress-bar {\n",
              "        background: #F44336;\n",
              "    }\n",
              "</style>\n"
            ]
          },
          "metadata": {}
        },
        {
          "output_type": "display_data",
          "data": {
            "text/plain": [
              "<IPython.core.display.HTML object>"
            ],
            "text/html": [
              "\n",
              "    <div>\n",
              "      <progress value='3000' class='' max='3000' style='width:300px; height:20px; vertical-align: middle;'></progress>\n",
              "      100.00% [3000/3000 00:09&lt;00:00 Sampling chain 0, 7 divergences]\n",
              "    </div>\n",
              "    "
            ]
          },
          "metadata": {}
        },
        {
          "output_type": "display_data",
          "data": {
            "text/plain": [
              "<IPython.core.display.HTML object>"
            ],
            "text/html": [
              "\n",
              "<style>\n",
              "    /* Turns off some styling */\n",
              "    progress {\n",
              "        /* gets rid of default border in Firefox and Opera. */\n",
              "        border: none;\n",
              "        /* Needs to be in here for Safari polyfill so background images work as expected. */\n",
              "        background-size: auto;\n",
              "    }\n",
              "    progress:not([value]), progress:not([value])::-webkit-progress-bar {\n",
              "        background: repeating-linear-gradient(45deg, #7e7e7e, #7e7e7e 10px, #5c5c5c 10px, #5c5c5c 20px);\n",
              "    }\n",
              "    .progress-bar-interrupted, .progress-bar-interrupted::-webkit-progress-bar {\n",
              "        background: #F44336;\n",
              "    }\n",
              "</style>\n"
            ]
          },
          "metadata": {}
        },
        {
          "output_type": "display_data",
          "data": {
            "text/plain": [
              "<IPython.core.display.HTML object>"
            ],
            "text/html": [
              "\n",
              "    <div>\n",
              "      <progress value='3000' class='' max='3000' style='width:300px; height:20px; vertical-align: middle;'></progress>\n",
              "      100.00% [3000/3000 00:10&lt;00:00 Sampling chain 1, 26 divergences]\n",
              "    </div>\n",
              "    "
            ]
          },
          "metadata": {}
        },
        {
          "output_type": "stream",
          "name": "stdout",
          "text": [
            "Selected predictors: ['Dark' 'Clear']\n"
          ]
        }
      ],
      "source": [
        "predictors = ['DryRoad', 'Dark', 'DualCarriageway', 'Clear','Speed_limit']\n",
        "\n",
        "# Get predictors and target variable as numpy arrays\n",
        "X = cleandata[predictors].values[-100:]\n",
        "y = cleandata['Severity_binary'].values[-100:]\n",
        "\n",
        "# Number of predictors\n",
        "n_predictors = X.shape[1]\n",
        "\n",
        "# Define Bayesian binary regression model with spike-and-slab priors for variable selection\n",
        "with pm.Model() as model:\n",
        "    # Coefficients for predictors\n",
        "    slab = pm.Normal('slab', mu=0, sigma=1, shape=n_predictors)\n",
        "\n",
        "    # Indicator variables for spike-and-slab\n",
        "    spike = pm.Bernoulli('spike', p=0.5, shape=n_predictors)\n",
        "\n",
        "    # Create deterministic variable for selected coefficients\n",
        "    beta = pm.Deterministic('beta', slab * spike)\n",
        "\n",
        "    # Logistic regression model\n",
        "    p = pm.math.invlogit(pm.math.dot(X, beta))\n",
        "    y_obs = pm.Bernoulli('y_obs', p=p, observed=y)\n",
        "    idata = pm.sample()\n",
        "\n",
        "    # Sample from the posterior\n",
        "    trace = pm.sample(2000, tune=1000, return_inferencedata=False)\n",
        "\n",
        "# Extract selected predictors based on posterior samples of gamma\n",
        "selected_predictors = np.array(predictors)[np.mean(trace['spike'], axis=0) > 0.5]\n",
        "print(\"Selected predictors:\", selected_predictors)"
      ]
    },
    {
      "cell_type": "code",
      "source": [
        "pm.model_to_graphviz(model)"
      ],
      "metadata": {
        "colab": {
          "base_uri": "https://localhost:8080/",
          "height": 486
        },
        "id": "13H8dkDUj_-o",
        "outputId": "8c33846d-4a05-45cf-8a4c-2e355af724f4"
      },
      "execution_count": 43,
      "outputs": [
        {
          "output_type": "execute_result",
          "data": {
            "image/svg+xml": "<?xml version=\"1.0\" encoding=\"UTF-8\" standalone=\"no\"?>\n<!DOCTYPE svg PUBLIC \"-//W3C//DTD SVG 1.1//EN\"\n \"http://www.w3.org/Graphics/SVG/1.1/DTD/svg11.dtd\">\n<!-- Generated by graphviz version 2.43.0 (0)\n -->\n<!-- Title: %3 Pages: 1 -->\n<svg width=\"238pt\" height=\"349pt\"\n viewBox=\"0.00 0.00 238.00 348.91\" xmlns=\"http://www.w3.org/2000/svg\" xmlns:xlink=\"http://www.w3.org/1999/xlink\">\n<g id=\"graph0\" class=\"graph\" transform=\"scale(1 1) rotate(0) translate(4 344.91)\">\n<title>%3</title>\n<polygon fill=\"white\" stroke=\"transparent\" points=\"-4,4 -4,-344.91 234,-344.91 234,4 -4,4\"/>\n<g id=\"clust1\" class=\"cluster\">\n<title>cluster5</title>\n<path fill=\"none\" stroke=\"black\" d=\"M20,-129.95C20,-129.95 210,-129.95 210,-129.95 216,-129.95 222,-135.95 222,-141.95 222,-141.95 222,-320.91 222,-320.91 222,-326.91 216,-332.91 210,-332.91 210,-332.91 20,-332.91 20,-332.91 14,-332.91 8,-326.91 8,-320.91 8,-320.91 8,-141.95 8,-141.95 8,-135.95 14,-129.95 20,-129.95\"/>\n<text text-anchor=\"middle\" x=\"210.5\" y=\"-137.75\" font-family=\"Times,serif\" font-size=\"14.00\">5</text>\n</g>\n<g id=\"clust2\" class=\"cluster\">\n<title>cluster100</title>\n<path fill=\"none\" stroke=\"black\" d=\"M71,-8C71,-8 159,-8 159,-8 165,-8 171,-14 171,-20 171,-20 171,-109.95 171,-109.95 171,-115.95 165,-121.95 159,-121.95 159,-121.95 71,-121.95 71,-121.95 65,-121.95 59,-115.95 59,-109.95 59,-109.95 59,-20 59,-20 59,-14 65,-8 71,-8\"/>\n<text text-anchor=\"middle\" x=\"152.5\" y=\"-15.8\" font-family=\"Times,serif\" font-size=\"14.00\">100</text>\n</g>\n<!-- slab -->\n<g id=\"node1\" class=\"node\">\n<title>slab</title>\n<ellipse fill=\"none\" stroke=\"black\" cx=\"172\" cy=\"-287.43\" rx=\"41.94\" ry=\"37.45\"/>\n<text text-anchor=\"middle\" x=\"172\" y=\"-298.73\" font-family=\"Times,serif\" font-size=\"14.00\">slab</text>\n<text text-anchor=\"middle\" x=\"172\" y=\"-283.73\" font-family=\"Times,serif\" font-size=\"14.00\">~</text>\n<text text-anchor=\"middle\" x=\"172\" y=\"-268.73\" font-family=\"Times,serif\" font-size=\"14.00\">Normal</text>\n</g>\n<!-- beta -->\n<g id=\"node3\" class=\"node\">\n<title>beta</title>\n<polygon fill=\"none\" stroke=\"black\" points=\"160.5,-213.95 69.5,-213.95 69.5,-160.95 160.5,-160.95 160.5,-213.95\"/>\n<text text-anchor=\"middle\" x=\"115\" y=\"-198.75\" font-family=\"Times,serif\" font-size=\"14.00\">beta</text>\n<text text-anchor=\"middle\" x=\"115\" y=\"-183.75\" font-family=\"Times,serif\" font-size=\"14.00\">~</text>\n<text text-anchor=\"middle\" x=\"115\" y=\"-168.75\" font-family=\"Times,serif\" font-size=\"14.00\">Deterministic</text>\n</g>\n<!-- slab&#45;&gt;beta -->\n<g id=\"edge1\" class=\"edge\">\n<title>slab&#45;&gt;beta</title>\n<path fill=\"none\" stroke=\"black\" d=\"M153.02,-253.81C147.27,-243.92 140.93,-233.02 135.11,-223.01\"/>\n<polygon fill=\"black\" stroke=\"black\" points=\"137.99,-221.01 129.93,-214.12 131.94,-224.53 137.99,-221.01\"/>\n</g>\n<!-- spike -->\n<g id=\"node2\" class=\"node\">\n<title>spike</title>\n<ellipse fill=\"none\" stroke=\"black\" cx=\"64\" cy=\"-287.43\" rx=\"48.17\" ry=\"37.45\"/>\n<text text-anchor=\"middle\" x=\"64\" y=\"-298.73\" font-family=\"Times,serif\" font-size=\"14.00\">spike</text>\n<text text-anchor=\"middle\" x=\"64\" y=\"-283.73\" font-family=\"Times,serif\" font-size=\"14.00\">~</text>\n<text text-anchor=\"middle\" x=\"64\" y=\"-268.73\" font-family=\"Times,serif\" font-size=\"14.00\">Bernoulli</text>\n</g>\n<!-- spike&#45;&gt;beta -->\n<g id=\"edge2\" class=\"edge\">\n<title>spike&#45;&gt;beta</title>\n<path fill=\"none\" stroke=\"black\" d=\"M81.69,-252.44C86.67,-242.89 92.07,-232.5 97.06,-222.92\"/>\n<polygon fill=\"black\" stroke=\"black\" points=\"100.17,-224.53 101.68,-214.04 93.96,-221.3 100.17,-224.53\"/>\n</g>\n<!-- y_obs -->\n<g id=\"node4\" class=\"node\">\n<title>y_obs</title>\n<ellipse fill=\"lightgrey\" stroke=\"black\" cx=\"115\" cy=\"-76.48\" rx=\"48.17\" ry=\"37.45\"/>\n<text text-anchor=\"middle\" x=\"115\" y=\"-87.78\" font-family=\"Times,serif\" font-size=\"14.00\">y_obs</text>\n<text text-anchor=\"middle\" x=\"115\" y=\"-72.78\" font-family=\"Times,serif\" font-size=\"14.00\">~</text>\n<text text-anchor=\"middle\" x=\"115\" y=\"-57.78\" font-family=\"Times,serif\" font-size=\"14.00\">Bernoulli</text>\n</g>\n<!-- beta&#45;&gt;y_obs -->\n<g id=\"edge3\" class=\"edge\">\n<title>beta&#45;&gt;y_obs</title>\n<path fill=\"none\" stroke=\"black\" d=\"M115,-160.9C115,-149.99 115,-136.9 115,-124.36\"/>\n<polygon fill=\"black\" stroke=\"black\" points=\"118.5,-124.01 115,-114.01 111.5,-124.01 118.5,-124.01\"/>\n</g>\n</g>\n</svg>\n",
            "text/plain": [
              "<graphviz.graphs.Digraph at 0x79339e717280>"
            ]
          },
          "metadata": {},
          "execution_count": 43
        }
      ]
    },
    {
      "cell_type": "code",
      "execution_count": 44,
      "metadata": {
        "colab": {
          "base_uri": "https://localhost:8080/",
          "height": 557
        },
        "id": "dWPFzt0ZBe1O",
        "outputId": "ab21d93a-00cd-4051-bc2f-e2fbb87b5bce"
      },
      "outputs": [
        {
          "output_type": "execute_result",
          "data": {
            "text/plain": [
              "[Text(1, 0, 'DryRoad'),\n",
              " Text(2, 0, 'Dark'),\n",
              " Text(3, 0, 'DualCarriageway'),\n",
              " Text(4, 0, 'Clear'),\n",
              " Text(5, 0, 'Speed_limit')]"
            ]
          },
          "metadata": {},
          "execution_count": 44
        },
        {
          "output_type": "display_data",
          "data": {
            "text/plain": [
              "<Figure size 1800x500 with 2 Axes>"
            ],
            "image/png": "[encoded data removed]"
          },
          "metadata": {}
        }
      ],
      "source": [
        "# Spike and Slab variable selection plots: only the second and the fourth betas have inclusion probability > 0.5\n",
        "import matplotlib.pyplot as plt\n",
        "fig,ax = plt.subplots(1,2,figsize=(18,5));\n",
        "\n",
        "num_of_beta = 5\n",
        "ax[0].plot(idata.posterior['spike'].values.reshape((-1,num_of_beta)).mean(axis=0),'.');\n",
        "ax[0].set_title('Posterior Inclusion Probability');\n",
        "ax[1].boxplot(idata.posterior['beta'].values.reshape((-1,num_of_beta)));\n",
        "ax[1].set_title('Posterior $\\\\beta$');\n",
        "ax[1].set_xticklabels(['DryRoad', 'Dark', 'DualCarriageway', 'Clear','Speed_limit'])"
      ]
    },
    {
      "cell_type": "markdown",
      "metadata": {
        "id": "B4AQrNQL1dhy"
      },
      "source": [
        "In the plot above we see that DryRoad and DualCarriageway were both not selected and they were slabbed to zero"
      ]
    },
    {
      "cell_type": "markdown",
      "metadata": {
        "id": "NsowOxqJmFtA"
      },
      "source": [
        "# Combine selected predictors with hierarchical model established earlier"
      ]
    },
    {
      "cell_type": "code",
      "execution_count": 45,
      "metadata": {
        "colab": {
          "base_uri": "https://localhost:8080/",
          "height": 57
        },
        "id": "Xr2I8j9BmgAu",
        "outputId": "19b930e5-2380-41a5-a64b-4f7f97de03e8"
      },
      "outputs": [
        {
          "output_type": "display_data",
          "data": {
            "text/plain": [
              "<IPython.core.display.HTML object>"
            ],
            "text/html": [
              "\n",
              "<style>\n",
              "    /* Turns off some styling */\n",
              "    progress {\n",
              "        /* gets rid of default border in Firefox and Opera. */\n",
              "        border: none;\n",
              "        /* Needs to be in here for Safari polyfill so background images work as expected. */\n",
              "        background-size: auto;\n",
              "    }\n",
              "    progress:not([value]), progress:not([value])::-webkit-progress-bar {\n",
              "        background: repeating-linear-gradient(45deg, #7e7e7e, #7e7e7e 10px, #5c5c5c 10px, #5c5c5c 20px);\n",
              "    }\n",
              "    .progress-bar-interrupted, .progress-bar-interrupted::-webkit-progress-bar {\n",
              "        background: #F44336;\n",
              "    }\n",
              "</style>\n"
            ]
          },
          "metadata": {}
        },
        {
          "output_type": "display_data",
          "data": {
            "text/plain": [
              "<IPython.core.display.HTML object>"
            ],
            "text/html": [
              "\n",
              "    <div>\n",
              "      <progress value='2000' class='' max='2000' style='width:300px; height:20px; vertical-align: middle;'></progress>\n",
              "      100.00% [2000/2000 00:15&lt;00:00 Sampling chain 0, 0 divergences]\n",
              "    </div>\n",
              "    "
            ]
          },
          "metadata": {}
        },
        {
          "output_type": "display_data",
          "data": {
            "text/plain": [
              "<IPython.core.display.HTML object>"
            ],
            "text/html": [
              "\n",
              "<style>\n",
              "    /* Turns off some styling */\n",
              "    progress {\n",
              "        /* gets rid of default border in Firefox and Opera. */\n",
              "        border: none;\n",
              "        /* Needs to be in here for Safari polyfill so background images work as expected. */\n",
              "        background-size: auto;\n",
              "    }\n",
              "    progress:not([value]), progress:not([value])::-webkit-progress-bar {\n",
              "        background: repeating-linear-gradient(45deg, #7e7e7e, #7e7e7e 10px, #5c5c5c 10px, #5c5c5c 20px);\n",
              "    }\n",
              "    .progress-bar-interrupted, .progress-bar-interrupted::-webkit-progress-bar {\n",
              "        background: #F44336;\n",
              "    }\n",
              "</style>\n"
            ]
          },
          "metadata": {}
        },
        {
          "output_type": "display_data",
          "data": {
            "text/plain": [
              "<IPython.core.display.HTML object>"
            ],
            "text/html": [
              "\n",
              "    <div>\n",
              "      <progress value='2000' class='' max='2000' style='width:300px; height:20px; vertical-align: middle;'></progress>\n",
              "      100.00% [2000/2000 00:14&lt;00:00 Sampling chain 1, 0 divergences]\n",
              "    </div>\n",
              "    "
            ]
          },
          "metadata": {}
        }
      ],
      "source": [
        "with pm.Model() as complete_model:\n",
        "\n",
        "    # pWeekday Probablity of being a weekday\n",
        "    pWeekday = pm.Beta('pWeekday', alpha=1, beta=1)\n",
        "\n",
        "    # Time weekday probabilities\n",
        "    pNight= pm.Beta('pNight', alpha=1, beta=1) ## = p1\n",
        "    pMorningBase= pm.Beta('pMorningBase', alpha=1, beta=1)\n",
        "    pMiddayBase= pm.Beta('pMiddayBase', alpha=1, beta=1)\n",
        "    pAfternoonBase= pm.Beta('pAfternoonBase', alpha=1, beta=1)\n",
        "    pEvening= pm.Beta('pEvening', alpha=1, beta=1) ## = p5\n",
        "    # Time weekend probabilities\n",
        "    pMorChange= pm.Beta('pMorChange', alpha=1, beta=1)\n",
        "    pMidChange= pm.Beta('pMidChange', alpha=1, beta=1)\n",
        "    pAftChange= pm.Beta('pAftChange', alpha=1, beta=1)\n",
        "\n",
        "    # pMorningBase + pWeekday*(1-pMorningBase)*pMorChange\n",
        "    no_negatives_2 = pm.math.switch(pm.math.lt(pMorningBase + pWeekday*(1-pMorningBase)*pMorChange,0), 0, pMorningBase + pWeekday*(1-pMorningBase)*pMorChange)\n",
        "    in_unit_interval_2 = pm.math.switch(pm.math.gt(no_negatives_2,1), 1, pMorningBase + pWeekday*(1-pMorningBase)*pMorChange)\n",
        "    pMorning = pm.Deterministic('pMorning', in_unit_interval_2)\n",
        "\n",
        "    # pMiddayBase - pWeekday*(1-pMiddayBase)*pMidChange\n",
        "    no_negatives_3 = pm.math.switch(pm.math.lt(pMiddayBase - pWeekday*(1-pMiddayBase)*pMidChange,0), 0, pMiddayBase - pWeekday*(1-pMiddayBase)*pMidChange)\n",
        "    in_unit_interval_3 = pm.math.switch(pm.math.gt(no_negatives_3,1), 1, pMiddayBase - pWeekday*(1-pMiddayBase)*pMidChange)\n",
        "    pMidday = pm.Deterministic('pMidday', in_unit_interval_3)\n",
        "\n",
        "    # pAfternoonBase + pWeekday*(1-pAfternoonBase)*pAftChange\n",
        "    no_negatives_4 = pm.math.switch(pm.math.lt(pAfternoonBase + pWeekday*(1-pAfternoonBase)*pAftChange,0), 0, pAfternoonBase + pWeekday*(1-pAfternoonBase)*pAftChange)\n",
        "    in_unit_interval_4 = pm.math.switch(pm.math.gt(no_negatives_4,1), 1, pAfternoonBase + pWeekday*(1-pAfternoonBase)*pAftChange)\n",
        "    pAfternoon = pm.Deterministic('pAfternoon', in_unit_interval_4)\n",
        "\n",
        "    # Intercept\n",
        "    intercept = pm.Normal('intercept', mu=0, sigma=1)\n",
        "\n",
        "    # Priors of selected condition predictors\n",
        "    beta_dark = pm.Normal('beta_dark', mu=0, sigma=1)  # Prior for 'Dark'\n",
        "    beta_clear = pm.Normal('beta_clear', mu=0, sigma=1)  # Prior for 'Clear'\n",
        "\n",
        "    # Linear combination of predictors\n",
        "    logit_p = intercept + pNight*x6 +pMorning*x7 +pMidday*x8 +pAfternoon*x9 +pEvening*x10 + beta_clear*x2 + beta_dark*x4\n",
        "    logit_p = pm.Deterministic('logit_p',logit_p)\n",
        "\n",
        "    Y = pm.Bernoulli('Y', logit_p = logit_p, observed=y)\n",
        "\n",
        "    idata_2 = pm.sample()"
      ]
    },
    {
      "cell_type": "code",
      "source": [
        "print(\"number of MCMC samples:\", idata_2.posterior['pWeekday'].values.flatten().shape[-1])\n",
        "az.summary(idata_2, round_to=2)"
      ],
      "metadata": {
        "id": "HcceOR2vGdhy",
        "colab": {
          "base_uri": "https://localhost:8080/",
          "height": 441
        },
        "outputId": "5c0ddcb2-23b9-4fbc-ee0e-c54efe5111d3"
      },
      "execution_count": 46,
      "outputs": [
        {
          "output_type": "stream",
          "name": "stdout",
          "text": [
            "number of MCMC samples: 2000\n"
          ]
        },
        {
          "output_type": "execute_result",
          "data": {
            "text/plain": [
              "             mean    sd  hdi_3%  hdi_97%  mcse_mean  mcse_sd  ess_bulk  \\\n",
              "intercept   -0.75  0.50   -1.67     0.18       0.01     0.01   1763.82   \n",
              "beta_dark   -0.82  0.80   -2.26     0.68       0.02     0.02   2107.61   \n",
              "beta_clear  -0.36  0.50   -1.35     0.57       0.01     0.01   1809.99   \n",
              "pWeekday     0.49  0.29    0.00     0.93       0.01     0.00   1721.50   \n",
              "pNight       0.47  0.28    0.01     0.92       0.01     0.00   2191.06   \n",
              "...           ...   ...     ...      ...        ...      ...       ...   \n",
              "logit_p[95] -0.40  0.25   -0.89     0.03       0.01     0.00   1927.05   \n",
              "logit_p[96] -0.60  0.31   -1.16     0.02       0.01     0.00   2396.73   \n",
              "logit_p[97] -0.68  0.34   -1.33    -0.07       0.01     0.01   2186.97   \n",
              "logit_p[98] -0.61  0.34   -1.24     0.03       0.01     0.01   2163.99   \n",
              "logit_p[99] -0.04  0.51   -1.00     0.87       0.01     0.01   1788.55   \n",
              "\n",
              "             ess_tail  r_hat  \n",
              "intercept     1399.23   1.01  \n",
              "beta_dark     1337.60   1.00  \n",
              "beta_clear    1307.68   1.00  \n",
              "pWeekday      1247.83   1.01  \n",
              "pNight        1154.07   1.00  \n",
              "...               ...    ...  \n",
              "logit_p[95]   1694.15   1.00  \n",
              "logit_p[96]   1727.08   1.00  \n",
              "logit_p[97]   1791.14   1.00  \n",
              "logit_p[98]   1549.64   1.00  \n",
              "logit_p[99]   1470.42   1.00  \n",
              "\n",
              "[115 rows x 9 columns]"
            ],
            "text/html": [
              "\n",
              "  <div id=\"df-3f782223-71f8-48d0-833b-15b759e11a02\" class=\"colab-df-container\">\n",
              "    <div>\n",
              "<style scoped>\n",
              "    .dataframe tbody tr th:only-of-type {\n",
              "        vertical-align: middle;\n",
              "    }\n",
              "\n",
              "    .dataframe tbody tr th {\n",
              "        vertical-align: top;\n",
              "    }\n",
              "\n",
              "    .dataframe thead th {\n",
              "        text-align: right;\n",
              "    }\n",
              "</style>\n",
              "<table border=\"1\" class=\"dataframe\">\n",
              "  <thead>\n",
              "    <tr style=\"text-align: right;\">\n",
              "      <th></th>\n",
              "      <th>mean</th>\n",
              "      <th>sd</th>\n",
              "      <th>hdi_3%</th>\n",
              "      <th>hdi_97%</th>\n",
              "      <th>mcse_mean</th>\n",
              "      <th>mcse_sd</th>\n",
              "      <th>ess_bulk</th>\n",
              "      <th>ess_tail</th>\n",
              "      <th>r_hat</th>\n",
              "    </tr>\n",
              "  </thead>\n",
              "  <tbody>\n",
              "    <tr>\n",
              "      <th>intercept</th>\n",
              "      <td>-0.75</td>\n",
              "      <td>0.50</td>\n",
              "      <td>-1.67</td>\n",
              "      <td>0.18</td>\n",
              "      <td>0.01</td>\n",
              "      <td>0.01</td>\n",
              "      <td>1763.82</td>\n",
              "      <td>1399.23</td>\n",
              "      <td>1.01</td>\n",
              "    </tr>\n",
              "    <tr>\n",
              "      <th>beta_dark</th>\n",
              "      <td>-0.82</td>\n",
              "      <td>0.80</td>\n",
              "      <td>-2.26</td>\n",
              "      <td>0.68</td>\n",
              "      <td>0.02</td>\n",
              "      <td>0.02</td>\n",
              "      <td>2107.61</td>\n",
              "      <td>1337.60</td>\n",
              "      <td>1.00</td>\n",
              "    </tr>\n",
              "    <tr>\n",
              "      <th>beta_clear</th>\n",
              "      <td>-0.36</td>\n",
              "      <td>0.50</td>\n",
              "      <td>-1.35</td>\n",
              "      <td>0.57</td>\n",
              "      <td>0.01</td>\n",
              "      <td>0.01</td>\n",
              "      <td>1809.99</td>\n",
              "      <td>1307.68</td>\n",
              "      <td>1.00</td>\n",
              "    </tr>\n",
              "    <tr>\n",
              "      <th>pWeekday</th>\n",
              "      <td>0.49</td>\n",
              "      <td>0.29</td>\n",
              "      <td>0.00</td>\n",
              "      <td>0.93</td>\n",
              "      <td>0.01</td>\n",
              "      <td>0.00</td>\n",
              "      <td>1721.50</td>\n",
              "      <td>1247.83</td>\n",
              "      <td>1.01</td>\n",
              "    </tr>\n",
              "    <tr>\n",
              "      <th>pNight</th>\n",
              "      <td>0.47</td>\n",
              "      <td>0.28</td>\n",
              "      <td>0.01</td>\n",
              "      <td>0.92</td>\n",
              "      <td>0.01</td>\n",
              "      <td>0.00</td>\n",
              "      <td>2191.06</td>\n",
              "      <td>1154.07</td>\n",
              "      <td>1.00</td>\n",
              "    </tr>\n",
              "    <tr>\n",
              "      <th>...</th>\n",
              "      <td>...</td>\n",
              "      <td>...</td>\n",
              "      <td>...</td>\n",
              "      <td>...</td>\n",
              "      <td>...</td>\n",
              "      <td>...</td>\n",
              "      <td>...</td>\n",
              "      <td>...</td>\n",
              "      <td>...</td>\n",
              "    </tr>\n",
              "    <tr>\n",
              "      <th>logit_p[95]</th>\n",
              "      <td>-0.40</td>\n",
              "      <td>0.25</td>\n",
              "      <td>-0.89</td>\n",
              "      <td>0.03</td>\n",
              "      <td>0.01</td>\n",
              "      <td>0.00</td>\n",
              "      <td>1927.05</td>\n",
              "      <td>1694.15</td>\n",
              "      <td>1.00</td>\n",
              "    </tr>\n",
              "    <tr>\n",
              "      <th>logit_p[96]</th>\n",
              "      <td>-0.60</td>\n",
              "      <td>0.31</td>\n",
              "      <td>-1.16</td>\n",
              "      <td>0.02</td>\n",
              "      <td>0.01</td>\n",
              "      <td>0.00</td>\n",
              "      <td>2396.73</td>\n",
              "      <td>1727.08</td>\n",
              "      <td>1.00</td>\n",
              "    </tr>\n",
              "    <tr>\n",
              "      <th>logit_p[97]</th>\n",
              "      <td>-0.68</td>\n",
              "      <td>0.34</td>\n",
              "      <td>-1.33</td>\n",
              "      <td>-0.07</td>\n",
              "      <td>0.01</td>\n",
              "      <td>0.01</td>\n",
              "      <td>2186.97</td>\n",
              "      <td>1791.14</td>\n",
              "      <td>1.00</td>\n",
              "    </tr>\n",
              "    <tr>\n",
              "      <th>logit_p[98]</th>\n",
              "      <td>-0.61</td>\n",
              "      <td>0.34</td>\n",
              "      <td>-1.24</td>\n",
              "      <td>0.03</td>\n",
              "      <td>0.01</td>\n",
              "      <td>0.01</td>\n",
              "      <td>2163.99</td>\n",
              "      <td>1549.64</td>\n",
              "      <td>1.00</td>\n",
              "    </tr>\n",
              "    <tr>\n",
              "      <th>logit_p[99]</th>\n",
              "      <td>-0.04</td>\n",
              "      <td>0.51</td>\n",
              "      <td>-1.00</td>\n",
              "      <td>0.87</td>\n",
              "      <td>0.01</td>\n",
              "      <td>0.01</td>\n",
              "      <td>1788.55</td>\n",
              "      <td>1470.42</td>\n",
              "      <td>1.00</td>\n",
              "    </tr>\n",
              "  </tbody>\n",
              "</table>\n",
              "<p>115 rows × 9 columns</p>\n",
              "</div>\n",
              "    <div class=\"colab-df-buttons\">\n",
              "\n",
              "  <div class=\"colab-df-container\">\n",
              "    <button class=\"colab-df-convert\" onclick=\"convertToInteractive('df-3f782223-71f8-48d0-833b-15b759e11a02')\"\n",
              "            title=\"Convert this dataframe to an interactive table.\"\n",
              "            style=\"display:none;\">\n",
              "\n",
              "  <svg xmlns=\"http://www.w3.org/2000/svg\" height=\"24px\" viewBox=\"0 -960 960 960\">\n",
              "    <path d=\"M120-120v-720h720v720H120Zm60-500h600v-160H180v160Zm220 220h160v-160H400v160Zm0 220h160v-160H400v160ZM180-400h160v-160H180v160Zm440 0h160v-160H620v160ZM180-180h160v-160H180v160Zm440 0h160v-160H620v160Z\"/>\n",
              "  </svg>\n",
              "    </button>\n",
              "\n",
              "  <style>\n",
              "    .colab-df-container {\n",
              "      display:flex;\n",
              "      gap: 12px;\n",
              "    }\n",
              "\n",
              "    .colab-df-convert {\n",
              "      background-color: #E8F0FE;\n",
              "      border: none;\n",
              "      border-radius: 50%;\n",
              "      cursor: pointer;\n",
              "      display: none;\n",
              "      fill: #1967D2;\n",
              "      height: 32px;\n",
              "      padding: 0 0 0 0;\n",
              "      width: 32px;\n",
              "    }\n",
              "\n",
              "    .colab-df-convert:hover {\n",
              "      background-color: #E2EBFA;\n",
              "      box-shadow: 0px 1px 2px rgba(60, 64, 67, 0.3), 0px 1px 3px 1px rgba(60, 64, 67, 0.15);\n",
              "      fill: #174EA6;\n",
              "    }\n",
              "\n",
              "    .colab-df-buttons div {\n",
              "      margin-bottom: 4px;\n",
              "    }\n",
              "\n",
              "    [theme=dark] .colab-df-convert {\n",
              "      background-color: #3B4455;\n",
              "      fill: #D2E3FC;\n",
              "    }\n",
              "\n",
              "    [theme=dark] .colab-df-convert:hover {\n",
              "      background-color: #434B5C;\n",
              "      box-shadow: 0px 1px 3px 1px rgba(0, 0, 0, 0.15);\n",
              "      filter: drop-shadow(0px 1px 2px rgba(0, 0, 0, 0.3));\n",
              "      fill: #FFFFFF;\n",
              "    }\n",
              "  </style>\n",
              "\n",
              "    <script>\n",
              "      const buttonEl =\n",
              "        document.querySelector('#df-3f782223-71f8-48d0-833b-15b759e11a02 button.colab-df-convert');\n",
              "      buttonEl.style.display =\n",
              "        google.colab.kernel.accessAllowed ? 'block' : 'none';\n",
              "\n",
              "      async function convertToInteractive(key) {\n",
              "        const element = document.querySelector('#df-3f782223-71f8-48d0-833b-15b759e11a02');\n",
              "        const dataTable =\n",
              "          await google.colab.kernel.invokeFunction('convertToInteractive',\n",
              "                                                    [key], {});\n",
              "        if (!dataTable) return;\n",
              "\n",
              "        const docLinkHtml = 'Like what you see? Visit the ' +\n",
              "          '<a target=\"_blank\" href=https://colab.research.google.com/notebooks/data_table.ipynb>data table notebook</a>'\n",
              "          + ' to learn more about interactive tables.';\n",
              "        element.innerHTML = '';\n",
              "        dataTable['output_type'] = 'display_data';\n",
              "        await google.colab.output.renderOutput(dataTable, element);\n",
              "        const docLink = document.createElement('div');\n",
              "        docLink.innerHTML = docLinkHtml;\n",
              "        element.appendChild(docLink);\n",
              "      }\n",
              "    </script>\n",
              "  </div>\n",
              "\n",
              "\n",
              "<div id=\"df-e0c7b938-dbc6-48cd-a6f7-d538743f3bda\">\n",
              "  <button class=\"colab-df-quickchart\" onclick=\"quickchart('df-e0c7b938-dbc6-48cd-a6f7-d538743f3bda')\"\n",
              "            title=\"Suggest charts\"\n",
              "            style=\"display:none;\">\n",
              "\n",
              "<svg xmlns=\"http://www.w3.org/2000/svg\" height=\"24px\"viewBox=\"0 0 24 24\"\n",
              "     width=\"24px\">\n",
              "    <g>\n",
              "        <path d=\"M19 3H5c-1.1 0-2 .9-2 2v14c0 1.1.9 2 2 2h14c1.1 0 2-.9 2-2V5c0-1.1-.9-2-2-2zM9 17H7v-7h2v7zm4 0h-2V7h2v10zm4 0h-2v-4h2v4z\"/>\n",
              "    </g>\n",
              "</svg>\n",
              "  </button>\n",
              "\n",
              "<style>\n",
              "  .colab-df-quickchart {\n",
              "      --bg-color: #E8F0FE;\n",
              "      --fill-color: #1967D2;\n",
              "      --hover-bg-color: #E2EBFA;\n",
              "      --hover-fill-color: #174EA6;\n",
              "      --disabled-fill-color: #AAA;\n",
              "      --disabled-bg-color: #DDD;\n",
              "  }\n",
              "\n",
              "  [theme=dark] .colab-df-quickchart {\n",
              "      --bg-color: #3B4455;\n",
              "      --fill-color: #D2E3FC;\n",
              "      --hover-bg-color: #434B5C;\n",
              "      --hover-fill-color: #FFFFFF;\n",
              "      --disabled-bg-color: #3B4455;\n",
              "      --disabled-fill-color: #666;\n",
              "  }\n",
              "\n",
              "  .colab-df-quickchart {\n",
              "    background-color: var(--bg-color);\n",
              "    border: none;\n",
              "    border-radius: 50%;\n",
              "    cursor: pointer;\n",
              "    display: none;\n",
              "    fill: var(--fill-color);\n",
              "    height: 32px;\n",
              "    padding: 0;\n",
              "    width: 32px;\n",
              "  }\n",
              "\n",
              "  .colab-df-quickchart:hover {\n",
              "    background-color: var(--hover-bg-color);\n",
              "    box-shadow: 0 1px 2px rgba(60, 64, 67, 0.3), 0 1px 3px 1px rgba(60, 64, 67, 0.15);\n",
              "    fill: var(--button-hover-fill-color);\n",
              "  }\n",
              "\n",
              "  .colab-df-quickchart-complete:disabled,\n",
              "  .colab-df-quickchart-complete:disabled:hover {\n",
              "    background-color: var(--disabled-bg-color);\n",
              "    fill: var(--disabled-fill-color);\n",
              "    box-shadow: none;\n",
              "  }\n",
              "\n",
              "  .colab-df-spinner {\n",
              "    border: 2px solid var(--fill-color);\n",
              "    border-color: transparent;\n",
              "    border-bottom-color: var(--fill-color);\n",
              "    animation:\n",
              "      spin 1s steps(1) infinite;\n",
              "  }\n",
              "\n",
              "  @keyframes spin {\n",
              "    0% {\n",
              "      border-color: transparent;\n",
              "      border-bottom-color: var(--fill-color);\n",
              "      border-left-color: var(--fill-color);\n",
              "    }\n",
              "    20% {\n",
              "      border-color: transparent;\n",
              "      border-left-color: var(--fill-color);\n",
              "      border-top-color: var(--fill-color);\n",
              "    }\n",
              "    30% {\n",
              "      border-color: transparent;\n",
              "      border-left-color: var(--fill-color);\n",
              "      border-top-color: var(--fill-color);\n",
              "      border-right-color: var(--fill-color);\n",
              "    }\n",
              "    40% {\n",
              "      border-color: transparent;\n",
              "      border-right-color: var(--fill-color);\n",
              "      border-top-color: var(--fill-color);\n",
              "    }\n",
              "    60% {\n",
              "      border-color: transparent;\n",
              "      border-right-color: var(--fill-color);\n",
              "    }\n",
              "    80% {\n",
              "      border-color: transparent;\n",
              "      border-right-color: var(--fill-color);\n",
              "      border-bottom-color: var(--fill-color);\n",
              "    }\n",
              "    90% {\n",
              "      border-color: transparent;\n",
              "      border-bottom-color: var(--fill-color);\n",
              "    }\n",
              "  }\n",
              "</style>\n",
              "\n",
              "  <script>\n",
              "    async function quickchart(key) {\n",
              "      const quickchartButtonEl =\n",
              "        document.querySelector('#' + key + ' button');\n",
              "      quickchartButtonEl.disabled = true;  // To prevent multiple clicks.\n",
              "      quickchartButtonEl.classList.add('colab-df-spinner');\n",
              "      try {\n",
              "        const charts = await google.colab.kernel.invokeFunction(\n",
              "            'suggestCharts', [key], {});\n",
              "      } catch (error) {\n",
              "        console.error('Error during call to suggestCharts:', error);\n",
              "      }\n",
              "      quickchartButtonEl.classList.remove('colab-df-spinner');\n",
              "      quickchartButtonEl.classList.add('colab-df-quickchart-complete');\n",
              "    }\n",
              "    (() => {\n",
              "      let quickchartButtonEl =\n",
              "        document.querySelector('#df-e0c7b938-dbc6-48cd-a6f7-d538743f3bda button');\n",
              "      quickchartButtonEl.style.display =\n",
              "        google.colab.kernel.accessAllowed ? 'block' : 'none';\n",
              "    })();\n",
              "  </script>\n",
              "</div>\n",
              "\n",
              "    </div>\n",
              "  </div>\n"
            ],
            "application/vnd.google.colaboratory.intrinsic+json": {
              "type": "dataframe",
              "summary": "{\n  \"name\": \"az\",\n  \"rows\": 115,\n  \"fields\": [\n    {\n      \"column\": \"mean\",\n      \"properties\": {\n        \"dtype\": \"number\",\n        \"std\": 0.3701401594057065,\n        \"min\": -1.42,\n        \"max\": 0.71,\n        \"num_unique_values\": 24,\n        \"samples\": [\n          0.5,\n          -1.42,\n          -0.75\n        ],\n        \"semantic_type\": \"\",\n        \"description\": \"\"\n      }\n    },\n    {\n      \"column\": \"sd\",\n      \"properties\": {\n        \"dtype\": \"number\",\n        \"std\": 0.12816358254262478,\n        \"min\": 0.21,\n        \"max\": 0.92,\n        \"num_unique_values\": 19,\n        \"samples\": [\n          0.5,\n          0.26,\n          0.86\n        ],\n        \"semantic_type\": \"\",\n        \"description\": \"\"\n      }\n    },\n    {\n      \"column\": \"hdi_3%\",\n      \"properties\": {\n        \"dtype\": \"number\",\n        \"std\": 0.5138423630507695,\n        \"min\": -3.02,\n        \"max\": 0.33,\n        \"num_unique_values\": 23,\n        \"samples\": [\n          -3.02,\n          0.09,\n          -1.67\n        ],\n        \"semantic_type\": \"\",\n        \"description\": \"\"\n      }\n    },\n    {\n      \"column\": \"hdi_97%\",\n      \"properties\": {\n        \"dtype\": \"number\",\n        \"std\": 0.3544769354809254,\n        \"min\": -0.07,\n        \"max\": 1.0,\n        \"num_unique_values\": 20,\n        \"samples\": [\n          0.18,\n          0.74,\n          0.87\n        ],\n        \"semantic_type\": \"\",\n        \"description\": \"\"\n      }\n    },\n    {\n      \"column\": \"mcse_mean\",\n      \"properties\": {\n        \"dtype\": \"number\",\n        \"std\": 0.002077814964499288,\n        \"min\": 0.0,\n        \"max\": 0.02,\n        \"num_unique_values\": 3,\n        \"samples\": [\n          0.01,\n          0.02,\n          0.0\n        ],\n        \"semantic_type\": \"\",\n        \"description\": \"\"\n      }\n    },\n    {\n      \"column\": \"mcse_sd\",\n      \"properties\": {\n        \"dtype\": \"number\",\n        \"std\": 0.0054709551373061435,\n        \"min\": 0.0,\n        \"max\": 0.02,\n        \"num_unique_values\": 3,\n        \"samples\": [\n          0.01,\n          0.02,\n          0.0\n        ],\n        \"semantic_type\": \"\",\n        \"description\": \"\"\n      }\n    },\n    {\n      \"column\": \"ess_bulk\",\n      \"properties\": {\n        \"dtype\": \"number\",\n        \"std\": 197.30800317537978,\n        \"min\": 1721.5,\n        \"max\": 2805.47,\n        \"num_unique_values\": 27,\n        \"samples\": [\n          2376.84,\n          2375.63,\n          2174.65\n        ],\n        \"semantic_type\": \"\",\n        \"description\": \"\"\n      }\n    },\n    {\n      \"column\": \"ess_tail\",\n      \"properties\": {\n        \"dtype\": \"number\",\n        \"std\": 182.84407768026287,\n        \"min\": 811.8,\n        \"max\": 1791.14,\n        \"num_unique_values\": 27,\n        \"samples\": [\n          1230.91,\n          1417.79,\n          1155.87\n        ],\n        \"semantic_type\": \"\",\n        \"description\": \"\"\n      }\n    },\n    {\n      \"column\": \"r_hat\",\n      \"properties\": {\n        \"dtype\": \"number\",\n        \"std\": 0.0013129641673149124,\n        \"min\": 1.0,\n        \"max\": 1.01,\n        \"num_unique_values\": 2,\n        \"samples\": [\n          1.0,\n          1.01\n        ],\n        \"semantic_type\": \"\",\n        \"description\": \"\"\n      }\n    }\n  ]\n}"
            }
          },
          "metadata": {},
          "execution_count": 46
        }
      ]
    },
    {
      "cell_type": "code",
      "source": [
        "az.plot_trace(idata_2, combined = True,var_names ='beta_dark' );"
      ],
      "metadata": {
        "colab": {
          "base_uri": "https://localhost:8080/",
          "height": 236
        },
        "id": "zXr4hGKLOgdX",
        "outputId": "48084764-7f7b-42a1-c405-2a0cfc55cb0a"
      },
      "execution_count": 47,
      "outputs": [
        {
          "output_type": "display_data",
          "data": {
            "text/plain": [
              "<Figure size 1200x200 with 2 Axes>"
            ],
            "image/png": "[encoded data removed]"
          },
          "metadata": {}
        }
      ]
    },
    {
      "cell_type": "markdown",
      "metadata": {
        "id": "ZaHc-cNuaY2d"
      },
      "source": [
        "# Model diagnostic Part I"
      ]
    },
    {
      "cell_type": "code",
      "execution_count": 48,
      "metadata": {
        "colab": {
          "base_uri": "https://localhost:8080/",
          "height": 57
        },
        "id": "M3cMPKGBaeln",
        "outputId": "5a122868-c30a-4096-f0d1-c5a69aae233d"
      },
      "outputs": [
        {
          "output_type": "display_data",
          "data": {
            "text/plain": [
              "<IPython.core.display.HTML object>"
            ],
            "text/html": [
              "\n",
              "<style>\n",
              "    /* Turns off some styling */\n",
              "    progress {\n",
              "        /* gets rid of default border in Firefox and Opera. */\n",
              "        border: none;\n",
              "        /* Needs to be in here for Safari polyfill so background images work as expected. */\n",
              "        background-size: auto;\n",
              "    }\n",
              "    progress:not([value]), progress:not([value])::-webkit-progress-bar {\n",
              "        background: repeating-linear-gradient(45deg, #7e7e7e, #7e7e7e 10px, #5c5c5c 10px, #5c5c5c 20px);\n",
              "    }\n",
              "    .progress-bar-interrupted, .progress-bar-interrupted::-webkit-progress-bar {\n",
              "        background: #F44336;\n",
              "    }\n",
              "</style>\n"
            ]
          },
          "metadata": {}
        },
        {
          "output_type": "display_data",
          "data": {
            "text/plain": [
              "<IPython.core.display.HTML object>"
            ],
            "text/html": [
              "\n",
              "    <div>\n",
              "      <progress value='2000' class='' max='2000' style='width:300px; height:20px; vertical-align: middle;'></progress>\n",
              "      100.00% [2000/2000 00:10&lt;00:00 Sampling chain 0, 0 divergences]\n",
              "    </div>\n",
              "    "
            ]
          },
          "metadata": {}
        },
        {
          "output_type": "display_data",
          "data": {
            "text/plain": [
              "<IPython.core.display.HTML object>"
            ],
            "text/html": [
              "\n",
              "<style>\n",
              "    /* Turns off some styling */\n",
              "    progress {\n",
              "        /* gets rid of default border in Firefox and Opera. */\n",
              "        border: none;\n",
              "        /* Needs to be in here for Safari polyfill so background images work as expected. */\n",
              "        background-size: auto;\n",
              "    }\n",
              "    progress:not([value]), progress:not([value])::-webkit-progress-bar {\n",
              "        background: repeating-linear-gradient(45deg, #7e7e7e, #7e7e7e 10px, #5c5c5c 10px, #5c5c5c 20px);\n",
              "    }\n",
              "    .progress-bar-interrupted, .progress-bar-interrupted::-webkit-progress-bar {\n",
              "        background: #F44336;\n",
              "    }\n",
              "</style>\n"
            ]
          },
          "metadata": {}
        },
        {
          "output_type": "display_data",
          "data": {
            "text/plain": [
              "<IPython.core.display.HTML object>"
            ],
            "text/html": [
              "\n",
              "    <div>\n",
              "      <progress value='2000' class='' max='2000' style='width:300px; height:20px; vertical-align: middle;'></progress>\n",
              "      100.00% [2000/2000 00:08&lt;00:00 Sampling chain 1, 0 divergences]\n",
              "    </div>\n",
              "    "
            ]
          },
          "metadata": {}
        }
      ],
      "source": [
        "# Baisc regression model for comparison\n",
        "with pm.Model() as model_basic:\n",
        "    beta_0 = pm.Normal('beta_0', mu=0, sigma=1)\n",
        "    beta_1 = pm.Normal('beta_1', mu=0, sigma=1)\n",
        "    beta_2 = pm.Normal('beta_2', mu=0, sigma=1)\n",
        "    beta_3 = pm.Normal('beta_3', mu=0, sigma=1)\n",
        "    beta_4 = pm.Normal('beta_4', mu=0, sigma=1)\n",
        "    beta_5 = pm.Normal('beta_5', mu=0, sigma=1)\n",
        "    beta_dark = pm.Normal('beta_dark', mu=0, sigma=1)  # Prior for 'Dark'\n",
        "    beta_clear = pm.Normal('beta_clear', mu=0, sigma=1)  # Prior for 'Clear'\n",
        "\n",
        "    # Linear combination of predictors\n",
        "    logit_p = beta_0 + beta_1*x6 +beta_2*x7 +beta_3*x8 +beta_4*x9 +beta_5*x10 + beta_clear*x2 + beta_dark*x4\n",
        "    logit_p = pm.Deterministic('logit_p',logit_p)\n",
        "\n",
        "    Basic_Y = pm.Bernoulli('Basic_Y', logit_p = logit_p, observed=y)\n",
        "\n",
        "    idata_3 = pm.sample()"
      ]
    },
    {
      "cell_type": "code",
      "execution_count": 49,
      "metadata": {
        "colab": {
          "base_uri": "https://localhost:8080/",
          "height": 137
        },
        "id": "qqccHkkBafoh",
        "outputId": "73f09cfe-3f16-4fb8-f6f3-39f18d358ffc"
      },
      "outputs": [
        {
          "output_type": "display_data",
          "data": {
            "text/plain": [
              "<IPython.core.display.HTML object>"
            ],
            "text/html": [
              "\n",
              "<style>\n",
              "    /* Turns off some styling */\n",
              "    progress {\n",
              "        /* gets rid of default border in Firefox and Opera. */\n",
              "        border: none;\n",
              "        /* Needs to be in here for Safari polyfill so background images work as expected. */\n",
              "        background-size: auto;\n",
              "    }\n",
              "    progress:not([value]), progress:not([value])::-webkit-progress-bar {\n",
              "        background: repeating-linear-gradient(45deg, #7e7e7e, #7e7e7e 10px, #5c5c5c 10px, #5c5c5c 20px);\n",
              "    }\n",
              "    .progress-bar-interrupted, .progress-bar-interrupted::-webkit-progress-bar {\n",
              "        background: #F44336;\n",
              "    }\n",
              "</style>\n"
            ]
          },
          "metadata": {}
        },
        {
          "output_type": "display_data",
          "data": {
            "text/plain": [
              "<IPython.core.display.HTML object>"
            ],
            "text/html": [
              "\n",
              "    <div>\n",
              "      <progress value='3000' class='' max='3000' style='width:300px; height:20px; vertical-align: middle;'></progress>\n",
              "      100.00% [3000/3000 00:18&lt;00:00 Sampling chain 0, 0 divergences]\n",
              "    </div>\n",
              "    "
            ]
          },
          "metadata": {}
        },
        {
          "output_type": "display_data",
          "data": {
            "text/plain": [
              "<IPython.core.display.HTML object>"
            ],
            "text/html": [
              "\n",
              "<style>\n",
              "    /* Turns off some styling */\n",
              "    progress {\n",
              "        /* gets rid of default border in Firefox and Opera. */\n",
              "        border: none;\n",
              "        /* Needs to be in here for Safari polyfill so background images work as expected. */\n",
              "        background-size: auto;\n",
              "    }\n",
              "    progress:not([value]), progress:not([value])::-webkit-progress-bar {\n",
              "        background: repeating-linear-gradient(45deg, #7e7e7e, #7e7e7e 10px, #5c5c5c 10px, #5c5c5c 20px);\n",
              "    }\n",
              "    .progress-bar-interrupted, .progress-bar-interrupted::-webkit-progress-bar {\n",
              "        background: #F44336;\n",
              "    }\n",
              "</style>\n"
            ]
          },
          "metadata": {}
        },
        {
          "output_type": "display_data",
          "data": {
            "text/plain": [
              "<IPython.core.display.HTML object>"
            ],
            "text/html": [
              "\n",
              "    <div>\n",
              "      <progress value='3000' class='' max='3000' style='width:300px; height:20px; vertical-align: middle;'></progress>\n",
              "      100.00% [3000/3000 00:22&lt;00:00 Sampling chain 1, 0 divergences]\n",
              "    </div>\n",
              "    "
            ]
          },
          "metadata": {}
        },
        {
          "output_type": "display_data",
          "data": {
            "text/plain": [
              "<IPython.core.display.HTML object>"
            ],
            "text/html": [
              "\n",
              "<style>\n",
              "    /* Turns off some styling */\n",
              "    progress {\n",
              "        /* gets rid of default border in Firefox and Opera. */\n",
              "        border: none;\n",
              "        /* Needs to be in here for Safari polyfill so background images work as expected. */\n",
              "        background-size: auto;\n",
              "    }\n",
              "    progress:not([value]), progress:not([value])::-webkit-progress-bar {\n",
              "        background: repeating-linear-gradient(45deg, #7e7e7e, #7e7e7e 10px, #5c5c5c 10px, #5c5c5c 20px);\n",
              "    }\n",
              "    .progress-bar-interrupted, .progress-bar-interrupted::-webkit-progress-bar {\n",
              "        background: #F44336;\n",
              "    }\n",
              "</style>\n"
            ]
          },
          "metadata": {}
        },
        {
          "output_type": "display_data",
          "data": {
            "text/plain": [
              "<IPython.core.display.HTML object>"
            ],
            "text/html": [
              "\n",
              "    <div>\n",
              "      <progress value='4000' class='' max='4000' style='width:300px; height:20px; vertical-align: middle;'></progress>\n",
              "      100.00% [4000/4000 00:00&lt;00:00]\n",
              "    </div>\n",
              "    "
            ]
          },
          "metadata": {}
        },
        {
          "output_type": "display_data",
          "data": {
            "text/plain": [
              "<IPython.core.display.HTML object>"
            ],
            "text/html": [
              "\n",
              "<style>\n",
              "    /* Turns off some styling */\n",
              "    progress {\n",
              "        /* gets rid of default border in Firefox and Opera. */\n",
              "        border: none;\n",
              "        /* Needs to be in here for Safari polyfill so background images work as expected. */\n",
              "        background-size: auto;\n",
              "    }\n",
              "    progress:not([value]), progress:not([value])::-webkit-progress-bar {\n",
              "        background: repeating-linear-gradient(45deg, #7e7e7e, #7e7e7e 10px, #5c5c5c 10px, #5c5c5c 20px);\n",
              "    }\n",
              "    .progress-bar-interrupted, .progress-bar-interrupted::-webkit-progress-bar {\n",
              "        background: #F44336;\n",
              "    }\n",
              "</style>\n"
            ]
          },
          "metadata": {}
        },
        {
          "output_type": "display_data",
          "data": {
            "text/plain": [
              "<IPython.core.display.HTML object>"
            ],
            "text/html": [
              "\n",
              "    <div>\n",
              "      <progress value='3000' class='' max='3000' style='width:300px; height:20px; vertical-align: middle;'></progress>\n",
              "      100.00% [3000/3000 00:12&lt;00:00 Sampling chain 0, 0 divergences]\n",
              "    </div>\n",
              "    "
            ]
          },
          "metadata": {}
        },
        {
          "output_type": "display_data",
          "data": {
            "text/plain": [
              "<IPython.core.display.HTML object>"
            ],
            "text/html": [
              "\n",
              "<style>\n",
              "    /* Turns off some styling */\n",
              "    progress {\n",
              "        /* gets rid of default border in Firefox and Opera. */\n",
              "        border: none;\n",
              "        /* Needs to be in here for Safari polyfill so background images work as expected. */\n",
              "        background-size: auto;\n",
              "    }\n",
              "    progress:not([value]), progress:not([value])::-webkit-progress-bar {\n",
              "        background: repeating-linear-gradient(45deg, #7e7e7e, #7e7e7e 10px, #5c5c5c 10px, #5c5c5c 20px);\n",
              "    }\n",
              "    .progress-bar-interrupted, .progress-bar-interrupted::-webkit-progress-bar {\n",
              "        background: #F44336;\n",
              "    }\n",
              "</style>\n"
            ]
          },
          "metadata": {}
        },
        {
          "output_type": "display_data",
          "data": {
            "text/plain": [
              "<IPython.core.display.HTML object>"
            ],
            "text/html": [
              "\n",
              "    <div>\n",
              "      <progress value='3000' class='' max='3000' style='width:300px; height:20px; vertical-align: middle;'></progress>\n",
              "      100.00% [3000/3000 00:11&lt;00:00 Sampling chain 1, 0 divergences]\n",
              "    </div>\n",
              "    "
            ]
          },
          "metadata": {}
        },
        {
          "output_type": "display_data",
          "data": {
            "text/plain": [
              "<IPython.core.display.HTML object>"
            ],
            "text/html": [
              "\n",
              "<style>\n",
              "    /* Turns off some styling */\n",
              "    progress {\n",
              "        /* gets rid of default border in Firefox and Opera. */\n",
              "        border: none;\n",
              "        /* Needs to be in here for Safari polyfill so background images work as expected. */\n",
              "        background-size: auto;\n",
              "    }\n",
              "    progress:not([value]), progress:not([value])::-webkit-progress-bar {\n",
              "        background: repeating-linear-gradient(45deg, #7e7e7e, #7e7e7e 10px, #5c5c5c 10px, #5c5c5c 20px);\n",
              "    }\n",
              "    .progress-bar-interrupted, .progress-bar-interrupted::-webkit-progress-bar {\n",
              "        background: #F44336;\n",
              "    }\n",
              "</style>\n"
            ]
          },
          "metadata": {}
        },
        {
          "output_type": "display_data",
          "data": {
            "text/plain": [
              "<IPython.core.display.HTML object>"
            ],
            "text/html": [
              "\n",
              "    <div>\n",
              "      <progress value='4000' class='' max='4000' style='width:300px; height:20px; vertical-align: middle;'></progress>\n",
              "      100.00% [4000/4000 00:00&lt;00:00]\n",
              "    </div>\n",
              "    "
            ]
          },
          "metadata": {}
        }
      ],
      "source": [
        "with complete_model:\n",
        "    trace_complete = pm.sample(2000, tune=1000)\n",
        "    pm.compute_log_likelihood(trace_complete) # or pass `idata_kwargs={\"log_likelihood\": True}` to `pm.sample`\n",
        "\n",
        "with model_basic:\n",
        "    trace_basic = pm.sample(2000, tune=1000)\n",
        "    pm.compute_log_likelihood(trace_basic)"
      ]
    },
    {
      "cell_type": "code",
      "execution_count": 50,
      "metadata": {
        "colab": {
          "base_uri": "https://localhost:8080/"
        },
        "id": "czFDZYPjalpe",
        "outputId": "952f027d-b8c7-4a73-93ff-8182f0346e57"
      },
      "outputs": [
        {
          "output_type": "stream",
          "name": "stderr",
          "text": [
            "<ipython-input-50-dbc902779305>:1: DeprecationWarning: `product` is deprecated as of NumPy 1.25.0, and will be removed in NumPy 2.0. Please use `prod` instead.\n",
            "  az.waic(trace_complete)\n"
          ]
        },
        {
          "output_type": "execute_result",
          "data": {
            "text/plain": [
              "Computed from 4000 posterior samples and 100 observations log-likelihood matrix.\n",
              "\n",
              "          Estimate       SE\n",
              "elpd_waic   -67.63     2.57\n",
              "p_waic        2.70        -"
            ]
          },
          "metadata": {},
          "execution_count": 50
        }
      ],
      "source": [
        "az.waic(trace_complete)"
      ]
    },
    {
      "cell_type": "code",
      "execution_count": 51,
      "metadata": {
        "colab": {
          "base_uri": "https://localhost:8080/"
        },
        "id": "1s4vw2mbasBN",
        "outputId": "b147e42e-7241-45ad-dd32-a65e60d0692e"
      },
      "outputs": [
        {
          "output_type": "stream",
          "name": "stderr",
          "text": [
            "<ipython-input-51-ccd65360a166>:1: DeprecationWarning: `product` is deprecated as of NumPy 1.25.0, and will be removed in NumPy 2.0. Please use `prod` instead.\n",
            "  az.waic(trace_basic)\n"
          ]
        },
        {
          "output_type": "execute_result",
          "data": {
            "text/plain": [
              "Computed from 4000 posterior samples and 100 observations log-likelihood matrix.\n",
              "\n",
              "          Estimate       SE\n",
              "elpd_waic   -68.89     2.90\n",
              "p_waic        4.44        -"
            ]
          },
          "metadata": {},
          "execution_count": 51
        }
      ],
      "source": [
        "az.waic(trace_basic)"
      ]
    },
    {
      "cell_type": "code",
      "execution_count": 52,
      "metadata": {
        "colab": {
          "base_uri": "https://localhost:8080/",
          "height": 112
        },
        "id": "eUhd1YL-ay_3",
        "outputId": "53577b94-a3af-4bdb-e114-45428d76c2b4"
      },
      "outputs": [
        {
          "output_type": "execute_result",
          "data": {
            "text/plain": [
              "                rank  elpd_waic    p_waic  elpd_diff  weight        se  \\\n",
              "complete model     0 -67.629034  2.704320   0.000000     1.0  2.573739   \n",
              "basic model        1 -68.892689  4.444233   1.263655     0.0  2.900816   \n",
              "\n",
              "                     dse  warning scale  \n",
              "complete model  0.000000    False   log  \n",
              "basic model     0.895642    False   log  "
            ],
            "text/html": [
              "\n",
              "  <div id=\"df-f28b5041-01ad-4532-9abf-70c081c572b2\" class=\"colab-df-container\">\n",
              "    <div>\n",
              "<style scoped>\n",
              "    .dataframe tbody tr th:only-of-type {\n",
              "        vertical-align: middle;\n",
              "    }\n",
              "\n",
              "    .dataframe tbody tr th {\n",
              "        vertical-align: top;\n",
              "    }\n",
              "\n",
              "    .dataframe thead th {\n",
              "        text-align: right;\n",
              "    }\n",
              "</style>\n",
              "<table border=\"1\" class=\"dataframe\">\n",
              "  <thead>\n",
              "    <tr style=\"text-align: right;\">\n",
              "      <th></th>\n",
              "      <th>rank</th>\n",
              "      <th>elpd_waic</th>\n",
              "      <th>p_waic</th>\n",
              "      <th>elpd_diff</th>\n",
              "      <th>weight</th>\n",
              "      <th>se</th>\n",
              "      <th>dse</th>\n",
              "      <th>warning</th>\n",
              "      <th>scale</th>\n",
              "    </tr>\n",
              "  </thead>\n",
              "  <tbody>\n",
              "    <tr>\n",
              "      <th>complete model</th>\n",
              "      <td>0</td>\n",
              "      <td>-67.629034</td>\n",
              "      <td>2.704320</td>\n",
              "      <td>0.000000</td>\n",
              "      <td>1.0</td>\n",
              "      <td>2.573739</td>\n",
              "      <td>0.000000</td>\n",
              "      <td>False</td>\n",
              "      <td>log</td>\n",
              "    </tr>\n",
              "    <tr>\n",
              "      <th>basic model</th>\n",
              "      <td>1</td>\n",
              "      <td>-68.892689</td>\n",
              "      <td>4.444233</td>\n",
              "      <td>1.263655</td>\n",
              "      <td>0.0</td>\n",
              "      <td>2.900816</td>\n",
              "      <td>0.895642</td>\n",
              "      <td>False</td>\n",
              "      <td>log</td>\n",
              "    </tr>\n",
              "  </tbody>\n",
              "</table>\n",
              "</div>\n",
              "    <div class=\"colab-df-buttons\">\n",
              "\n",
              "  <div class=\"colab-df-container\">\n",
              "    <button class=\"colab-df-convert\" onclick=\"convertToInteractive('df-f28b5041-01ad-4532-9abf-70c081c572b2')\"\n",
              "            title=\"Convert this dataframe to an interactive table.\"\n",
              "            style=\"display:none;\">\n",
              "\n",
              "  <svg xmlns=\"http://www.w3.org/2000/svg\" height=\"24px\" viewBox=\"0 -960 960 960\">\n",
              "    <path d=\"M120-120v-720h720v720H120Zm60-500h600v-160H180v160Zm220 220h160v-160H400v160Zm0 220h160v-160H400v160ZM180-400h160v-160H180v160Zm440 0h160v-160H620v160ZM180-180h160v-160H180v160Zm440 0h160v-160H620v160Z\"/>\n",
              "  </svg>\n",
              "    </button>\n",
              "\n",
              "  <style>\n",
              "    .colab-df-container {\n",
              "      display:flex;\n",
              "      gap: 12px;\n",
              "    }\n",
              "\n",
              "    .colab-df-convert {\n",
              "      background-color: #E8F0FE;\n",
              "      border: none;\n",
              "      border-radius: 50%;\n",
              "      cursor: pointer;\n",
              "      display: none;\n",
              "      fill: #1967D2;\n",
              "      height: 32px;\n",
              "      padding: 0 0 0 0;\n",
              "      width: 32px;\n",
              "    }\n",
              "\n",
              "    .colab-df-convert:hover {\n",
              "      background-color: #E2EBFA;\n",
              "      box-shadow: 0px 1px 2px rgba(60, 64, 67, 0.3), 0px 1px 3px 1px rgba(60, 64, 67, 0.15);\n",
              "      fill: #174EA6;\n",
              "    }\n",
              "\n",
              "    .colab-df-buttons div {\n",
              "      margin-bottom: 4px;\n",
              "    }\n",
              "\n",
              "    [theme=dark] .colab-df-convert {\n",
              "      background-color: #3B4455;\n",
              "      fill: #D2E3FC;\n",
              "    }\n",
              "\n",
              "    [theme=dark] .colab-df-convert:hover {\n",
              "      background-color: #434B5C;\n",
              "      box-shadow: 0px 1px 3px 1px rgba(0, 0, 0, 0.15);\n",
              "      filter: drop-shadow(0px 1px 2px rgba(0, 0, 0, 0.3));\n",
              "      fill: #FFFFFF;\n",
              "    }\n",
              "  </style>\n",
              "\n",
              "    <script>\n",
              "      const buttonEl =\n",
              "        document.querySelector('#df-f28b5041-01ad-4532-9abf-70c081c572b2 button.colab-df-convert');\n",
              "      buttonEl.style.display =\n",
              "        google.colab.kernel.accessAllowed ? 'block' : 'none';\n",
              "\n",
              "      async function convertToInteractive(key) {\n",
              "        const element = document.querySelector('#df-f28b5041-01ad-4532-9abf-70c081c572b2');\n",
              "        const dataTable =\n",
              "          await google.colab.kernel.invokeFunction('convertToInteractive',\n",
              "                                                    [key], {});\n",
              "        if (!dataTable) return;\n",
              "\n",
              "        const docLinkHtml = 'Like what you see? Visit the ' +\n",
              "          '<a target=\"_blank\" href=https://colab.research.google.com/notebooks/data_table.ipynb>data table notebook</a>'\n",
              "          + ' to learn more about interactive tables.';\n",
              "        element.innerHTML = '';\n",
              "        dataTable['output_type'] = 'display_data';\n",
              "        await google.colab.output.renderOutput(dataTable, element);\n",
              "        const docLink = document.createElement('div');\n",
              "        docLink.innerHTML = docLinkHtml;\n",
              "        element.appendChild(docLink);\n",
              "      }\n",
              "    </script>\n",
              "  </div>\n",
              "\n",
              "\n",
              "<div id=\"df-4ea84f69-ee4d-4481-aa0c-25aa83d64d43\">\n",
              "  <button class=\"colab-df-quickchart\" onclick=\"quickchart('df-4ea84f69-ee4d-4481-aa0c-25aa83d64d43')\"\n",
              "            title=\"Suggest charts\"\n",
              "            style=\"display:none;\">\n",
              "\n",
              "<svg xmlns=\"http://www.w3.org/2000/svg\" height=\"24px\"viewBox=\"0 0 24 24\"\n",
              "     width=\"24px\">\n",
              "    <g>\n",
              "        <path d=\"M19 3H5c-1.1 0-2 .9-2 2v14c0 1.1.9 2 2 2h14c1.1 0 2-.9 2-2V5c0-1.1-.9-2-2-2zM9 17H7v-7h2v7zm4 0h-2V7h2v10zm4 0h-2v-4h2v4z\"/>\n",
              "    </g>\n",
              "</svg>\n",
              "  </button>\n",
              "\n",
              "<style>\n",
              "  .colab-df-quickchart {\n",
              "      --bg-color: #E8F0FE;\n",
              "      --fill-color: #1967D2;\n",
              "      --hover-bg-color: #E2EBFA;\n",
              "      --hover-fill-color: #174EA6;\n",
              "      --disabled-fill-color: #AAA;\n",
              "      --disabled-bg-color: #DDD;\n",
              "  }\n",
              "\n",
              "  [theme=dark] .colab-df-quickchart {\n",
              "      --bg-color: #3B4455;\n",
              "      --fill-color: #D2E3FC;\n",
              "      --hover-bg-color: #434B5C;\n",
              "      --hover-fill-color: #FFFFFF;\n",
              "      --disabled-bg-color: #3B4455;\n",
              "      --disabled-fill-color: #666;\n",
              "  }\n",
              "\n",
              "  .colab-df-quickchart {\n",
              "    background-color: var(--bg-color);\n",
              "    border: none;\n",
              "    border-radius: 50%;\n",
              "    cursor: pointer;\n",
              "    display: none;\n",
              "    fill: var(--fill-color);\n",
              "    height: 32px;\n",
              "    padding: 0;\n",
              "    width: 32px;\n",
              "  }\n",
              "\n",
              "  .colab-df-quickchart:hover {\n",
              "    background-color: var(--hover-bg-color);\n",
              "    box-shadow: 0 1px 2px rgba(60, 64, 67, 0.3), 0 1px 3px 1px rgba(60, 64, 67, 0.15);\n",
              "    fill: var(--button-hover-fill-color);\n",
              "  }\n",
              "\n",
              "  .colab-df-quickchart-complete:disabled,\n",
              "  .colab-df-quickchart-complete:disabled:hover {\n",
              "    background-color: var(--disabled-bg-color);\n",
              "    fill: var(--disabled-fill-color);\n",
              "    box-shadow: none;\n",
              "  }\n",
              "\n",
              "  .colab-df-spinner {\n",
              "    border: 2px solid var(--fill-color);\n",
              "    border-color: transparent;\n",
              "    border-bottom-color: var(--fill-color);\n",
              "    animation:\n",
              "      spin 1s steps(1) infinite;\n",
              "  }\n",
              "\n",
              "  @keyframes spin {\n",
              "    0% {\n",
              "      border-color: transparent;\n",
              "      border-bottom-color: var(--fill-color);\n",
              "      border-left-color: var(--fill-color);\n",
              "    }\n",
              "    20% {\n",
              "      border-color: transparent;\n",
              "      border-left-color: var(--fill-color);\n",
              "      border-top-color: var(--fill-color);\n",
              "    }\n",
              "    30% {\n",
              "      border-color: transparent;\n",
              "      border-left-color: var(--fill-color);\n",
              "      border-top-color: var(--fill-color);\n",
              "      border-right-color: var(--fill-color);\n",
              "    }\n",
              "    40% {\n",
              "      border-color: transparent;\n",
              "      border-right-color: var(--fill-color);\n",
              "      border-top-color: var(--fill-color);\n",
              "    }\n",
              "    60% {\n",
              "      border-color: transparent;\n",
              "      border-right-color: var(--fill-color);\n",
              "    }\n",
              "    80% {\n",
              "      border-color: transparent;\n",
              "      border-right-color: var(--fill-color);\n",
              "      border-bottom-color: var(--fill-color);\n",
              "    }\n",
              "    90% {\n",
              "      border-color: transparent;\n",
              "      border-bottom-color: var(--fill-color);\n",
              "    }\n",
              "  }\n",
              "</style>\n",
              "\n",
              "  <script>\n",
              "    async function quickchart(key) {\n",
              "      const quickchartButtonEl =\n",
              "        document.querySelector('#' + key + ' button');\n",
              "      quickchartButtonEl.disabled = true;  // To prevent multiple clicks.\n",
              "      quickchartButtonEl.classList.add('colab-df-spinner');\n",
              "      try {\n",
              "        const charts = await google.colab.kernel.invokeFunction(\n",
              "            'suggestCharts', [key], {});\n",
              "      } catch (error) {\n",
              "        console.error('Error during call to suggestCharts:', error);\n",
              "      }\n",
              "      quickchartButtonEl.classList.remove('colab-df-spinner');\n",
              "      quickchartButtonEl.classList.add('colab-df-quickchart-complete');\n",
              "    }\n",
              "    (() => {\n",
              "      let quickchartButtonEl =\n",
              "        document.querySelector('#df-4ea84f69-ee4d-4481-aa0c-25aa83d64d43 button');\n",
              "      quickchartButtonEl.style.display =\n",
              "        google.colab.kernel.accessAllowed ? 'block' : 'none';\n",
              "    })();\n",
              "  </script>\n",
              "</div>\n",
              "\n",
              "    </div>\n",
              "  </div>\n"
            ],
            "application/vnd.google.colaboratory.intrinsic+json": {
              "type": "dataframe",
              "summary": "{\n  \"name\": \"az\",\n  \"rows\": 2,\n  \"fields\": [\n    {\n      \"column\": \"rank\",\n      \"properties\": {\n        \"dtype\": \"number\",\n        \"std\": 0,\n        \"min\": 0,\n        \"max\": 1,\n        \"num_unique_values\": 2,\n        \"samples\": [\n          1,\n          0\n        ],\n        \"semantic_type\": \"\",\n        \"description\": \"\"\n      }\n    },\n    {\n      \"column\": \"elpd_waic\",\n      \"properties\": {\n        \"dtype\": \"number\",\n        \"std\": 0.8935392529964518,\n        \"min\": -68.89268934750905,\n        \"max\": -67.62903401740874,\n        \"num_unique_values\": 2,\n        \"samples\": [\n          -68.89268934750905,\n          -67.62903401740874\n        ],\n        \"semantic_type\": \"\",\n        \"description\": \"\"\n      }\n    },\n    {\n      \"column\": \"p_waic\",\n      \"properties\": {\n        \"dtype\": \"number\",\n        \"std\": 1.2303048489126125,\n        \"min\": 2.7043196654668935,\n        \"max\": 4.444233468652492,\n        \"num_unique_values\": 2,\n        \"samples\": [\n          4.444233468652492,\n          2.7043196654668935\n        ],\n        \"semantic_type\": \"\",\n        \"description\": \"\"\n      }\n    },\n    {\n      \"column\": \"elpd_diff\",\n      \"properties\": {\n        \"dtype\": \"number\",\n        \"std\": 0.8935392529964468,\n        \"min\": 0.0,\n        \"max\": 1.2636553301002993,\n        \"num_unique_values\": 2,\n        \"samples\": [\n          1.2636553301002993,\n          0.0\n        ],\n        \"semantic_type\": \"\",\n        \"description\": \"\"\n      }\n    },\n    {\n      \"column\": \"weight\",\n      \"properties\": {\n        \"dtype\": \"number\",\n        \"std\": 0.7071067811865476,\n        \"min\": 0.0,\n        \"max\": 1.0,\n        \"num_unique_values\": 2,\n        \"samples\": [\n          0.0,\n          1.0\n        ],\n        \"semantic_type\": \"\",\n        \"description\": \"\"\n      }\n    },\n    {\n      \"column\": \"se\",\n      \"properties\": {\n        \"dtype\": \"number\",\n        \"std\": 0.23127854346496188,\n        \"min\": 2.5737387706320547,\n        \"max\": 2.900816023486099,\n        \"num_unique_values\": 2,\n        \"samples\": [\n          2.900816023486099,\n          2.5737387706320547\n        ],\n        \"semantic_type\": \"\",\n        \"description\": \"\"\n      }\n    },\n    {\n      \"column\": \"dse\",\n      \"properties\": {\n        \"dtype\": \"number\",\n        \"std\": 0.6333141810685994,\n        \"min\": 0.0,\n        \"max\": 0.8956415041104232,\n        \"num_unique_values\": 2,\n        \"samples\": [\n          0.8956415041104232,\n          0.0\n        ],\n        \"semantic_type\": \"\",\n        \"description\": \"\"\n      }\n    },\n    {\n      \"column\": \"warning\",\n      \"properties\": {\n        \"dtype\": \"boolean\",\n        \"num_unique_values\": 1,\n        \"samples\": [\n          false\n        ],\n        \"semantic_type\": \"\",\n        \"description\": \"\"\n      }\n    },\n    {\n      \"column\": \"scale\",\n      \"properties\": {\n        \"dtype\": \"string\",\n        \"num_unique_values\": 1,\n        \"samples\": [\n          \"log\"\n        ],\n        \"semantic_type\": \"\",\n        \"description\": \"\"\n      }\n    }\n  ]\n}"
            }
          },
          "metadata": {},
          "execution_count": 52
        }
      ],
      "source": [
        "az.compare({\"complete model\": trace_complete, \"basic model\": trace_basic}, ic='waic')"
      ]
    },
    {
      "cell_type": "code",
      "execution_count": 53,
      "metadata": {
        "colab": {
          "base_uri": "https://localhost:8080/",
          "height": 282
        },
        "id": "NejAT85Qa0iT",
        "outputId": "2e4919d1-a5cf-42e4-e0e0-2233bcb93c77"
      },
      "outputs": [
        {
          "output_type": "execute_result",
          "data": {
            "text/plain": [
              "<Axes: title={'center': 'Model comparison\\nhigher is better'}, xlabel='elpd_waic (log)', ylabel='ranked models'>"
            ]
          },
          "metadata": {},
          "execution_count": 53
        },
        {
          "output_type": "display_data",
          "data": {
            "text/plain": [
              "<Figure size 600x200 with 1 Axes>"
            ],
            "image/png": "[encoded data removed]"
          },
          "metadata": {}
        }
      ],
      "source": [
        "az.plot_compare(az.compare({ \"complete model\": trace_complete, \"basic model\": trace_basic}, ic='waic'), insample_dev=False)"
      ]
    },
    {
      "cell_type": "markdown",
      "metadata": {
        "id": "7ySbvoqPxa_5"
      },
      "source": [
        "# Mixture model"
      ]
    },
    {
      "cell_type": "code",
      "execution_count": 54,
      "metadata": {
        "id": "oq36Nr3qRU8J"
      },
      "outputs": [],
      "source": [
        "subset = cleandata[-100:]\n",
        "\n",
        "x1 = subset['DryRoad']\n",
        "x1 = pd.Series(x1).array\n",
        "\n",
        "x2 = subset['Clear']\n",
        "x2 = pd.Series(x2).array\n",
        "\n",
        "x3 = subset['DualCarriageway']\n",
        "x3 = pd.Series(x3).array\n",
        "\n",
        "x4 = subset['Dark']\n",
        "x4 = pd.Series(x4).array\n",
        "\n",
        "x5 = subset['Speed_limit']\n",
        "x5 = pd.Series(x5).array\n",
        "\n",
        "x6 = subset[\"Night\"]\n",
        "x6 = pd.Series(x6).array\n",
        "\n",
        "x7 = subset[\"Morning\"]\n",
        "x7 = pd.Series(x7).array\n",
        "\n",
        "x8 = subset[\"Midday\"]\n",
        "x8 = pd.Series(x8).array\n",
        "\n",
        "x9 = subset[\"Afternoon\"]\n",
        "x9 = pd.Series(x9).array\n",
        "\n",
        "x10 = subset[\"Evening\"]\n",
        "x10 = pd.Series(x10).array\n",
        "\n",
        "xover55 = subset[\"over55\"]\n",
        "xover55 = pd.Series(subset[\"over55\"]).array\n",
        "xGender = pd.Series(subset[\"Gender\"]).array\n",
        "\n",
        "y = subset['Severity_binary']\n",
        "y = pd.Series(y).array\n",
        "\n",
        "num_obs = len(y)"
      ]
    },
    {
      "cell_type": "code",
      "source": [
        "# Define the mixture model\n",
        "with pm.Model() as mixture_model:\n",
        "    # Define mixture component for Gender\n",
        "    alpha_gender = pm.Normal('alpha_gender', mu=0, sigma=1)\n",
        "    beta_gender = pm.Normal('beta_gender', mu=0, sigma=1)\n",
        "    mixture_gender = pm.Bernoulli('mixture_gender', p=0.5)  # Prior probability of being in each component\n",
        "\n",
        "    # Define mixture component for over55\n",
        "    alpha_over55 = pm.Normal('alpha_over55', mu=0, sigma=1)\n",
        "    beta_over55 = pm.Normal('beta_over55', mu=0, sigma=1)\n",
        "    mixture_over55 = pm.Bernoulli('mixture_over55', p=0.5)  # Prior probability of being in each component\n",
        "\n",
        "    # pWeekday Probablity of being a weekday\n",
        "    pWeekday = pm.Beta('pWeekday', alpha=1, beta=1)\n",
        "\n",
        "    # Time weekday probabilities\n",
        "    pNight= pm.Beta('pNight', alpha=1, beta=1) ## = p1\n",
        "    pMorningBase= pm.Beta('pMorningBase', alpha=1, beta=1)\n",
        "    pMiddayBase= pm.Beta('pMiddayBase', alpha=1, beta=1)\n",
        "    pAfternoonBase= pm.Beta('pAfternoonBase', alpha=1, beta=1)\n",
        "    pEvening= pm.Beta('pEvening', alpha=1, beta=1) ## = p5\n",
        "    # Time weekend probabilities\n",
        "    pMorChange= pm.Beta('pMorChange', alpha=1, beta=1)\n",
        "    pMidChange= pm.Beta('pMidChange', alpha=1, beta=1)\n",
        "    pAftChange= pm.Beta('pAftChange', alpha=1, beta=1)\n",
        "\n",
        "    # pMorningBase + pWeekday*(1-pMorningBase)*pMorChange\n",
        "    no_negatives_2 = pm.math.switch(pm.math.lt(pMorningBase + pWeekday*(1-pMorningBase)*pMorChange,0), 0, pMorningBase + pWeekday*(1-pMorningBase)*pMorChange)\n",
        "    in_unit_interval_2 = pm.math.switch(pm.math.gt(no_negatives_2,1), 1, pMorningBase + pWeekday*(1-pMorningBase)*pMorChange)\n",
        "    pMorning = pm.Deterministic('pMorning', in_unit_interval_2)\n",
        "\n",
        "    # pMiddayBase - pWeekday*(1-pMiddayBase)*pMidChange\n",
        "    no_negatives_3 = pm.math.switch(pm.math.lt(pMiddayBase - pWeekday*(1-pMiddayBase)*pMidChange,0), 0, pMiddayBase - pWeekday*(1-pMiddayBase)*pMidChange)\n",
        "    in_unit_interval_3 = pm.math.switch(pm.math.gt(no_negatives_3,1), 1, pMiddayBase - pWeekday*(1-pMiddayBase)*pMidChange)\n",
        "    pMidday = pm.Deterministic('pMidday', in_unit_interval_3)\n",
        "\n",
        "    # pAfternoonBase + pWeekday*(1-pAfternoonBase)*pAftChange\n",
        "    no_negatives_4 = pm.math.switch(pm.math.lt(pAfternoonBase + pWeekday*(1-pAfternoonBase)*pAftChange,0), 0, pAfternoonBase + pWeekday*(1-pAfternoonBase)*pAftChange)\n",
        "    in_unit_interval_4 = pm.math.switch(pm.math.gt(no_negatives_4,1), 1, pAfternoonBase + pWeekday*(1-pAfternoonBase)*pAftChange)\n",
        "    pAfternoon = pm.Deterministic('pAfternoon', in_unit_interval_4)\n",
        "\n",
        "    # Intercept\n",
        "    intercept = pm.Normal('intercept', mu=0, sigma=1)\n",
        "\n",
        "    # Priors of selected condition predictors\n",
        "    beta_dark = pm.Normal('beta_dark', mu=0, sigma=1)  # Prior for 'Dark'\n",
        "    beta_clear = pm.Normal('beta_clear', mu=0, sigma=1)  # Prior for 'Clear'\n",
        "\n",
        "    # Combine mixture components with the existing linear combination\n",
        "    logit_p = intercept + pNight*x6 + pMorning*x7 + pMidday*x8 + pAfternoon*x9 + pEvening*x10 + beta_clear*x2 + beta_dark*x4 \\\n",
        "    + mixture_gender * (alpha_gender + beta_gender * xGender) + mixture_over55 * (alpha_over55 + beta_over55 * xover55)\n",
        "    logit_p = pm.Deterministic('logit_p',logit_p)\n",
        "\n",
        "    # Define likelihood\n",
        "    Y = pm.Bernoulli('Y', logit_p=logit_p, observed=y)\n",
        "\n",
        "    # Sample from the model\n",
        "    idata_4 = pm.sample()\n"
      ],
      "metadata": {
        "colab": {
          "base_uri": "https://localhost:8080/",
          "height": 57
        },
        "id": "tDoYn70t0jz2",
        "outputId": "27861d9c-31d6-4c0d-ba6d-b2158f4e45cf"
      },
      "execution_count": 55,
      "outputs": [
        {
          "output_type": "display_data",
          "data": {
            "text/plain": [
              "<IPython.core.display.HTML object>"
            ],
            "text/html": [
              "\n",
              "<style>\n",
              "    /* Turns off some styling */\n",
              "    progress {\n",
              "        /* gets rid of default border in Firefox and Opera. */\n",
              "        border: none;\n",
              "        /* Needs to be in here for Safari polyfill so background images work as expected. */\n",
              "        background-size: auto;\n",
              "    }\n",
              "    progress:not([value]), progress:not([value])::-webkit-progress-bar {\n",
              "        background: repeating-linear-gradient(45deg, #7e7e7e, #7e7e7e 10px, #5c5c5c 10px, #5c5c5c 20px);\n",
              "    }\n",
              "    .progress-bar-interrupted, .progress-bar-interrupted::-webkit-progress-bar {\n",
              "        background: #F44336;\n",
              "    }\n",
              "</style>\n"
            ]
          },
          "metadata": {}
        },
        {
          "output_type": "display_data",
          "data": {
            "text/plain": [
              "<IPython.core.display.HTML object>"
            ],
            "text/html": [
              "\n",
              "    <div>\n",
              "      <progress value='2000' class='' max='2000' style='width:300px; height:20px; vertical-align: middle;'></progress>\n",
              "      100.00% [2000/2000 00:27&lt;00:00 Sampling chain 0, 0 divergences]\n",
              "    </div>\n",
              "    "
            ]
          },
          "metadata": {}
        },
        {
          "output_type": "display_data",
          "data": {
            "text/plain": [
              "<IPython.core.display.HTML object>"
            ],
            "text/html": [
              "\n",
              "<style>\n",
              "    /* Turns off some styling */\n",
              "    progress {\n",
              "        /* gets rid of default border in Firefox and Opera. */\n",
              "        border: none;\n",
              "        /* Needs to be in here for Safari polyfill so background images work as expected. */\n",
              "        background-size: auto;\n",
              "    }\n",
              "    progress:not([value]), progress:not([value])::-webkit-progress-bar {\n",
              "        background: repeating-linear-gradient(45deg, #7e7e7e, #7e7e7e 10px, #5c5c5c 10px, #5c5c5c 20px);\n",
              "    }\n",
              "    .progress-bar-interrupted, .progress-bar-interrupted::-webkit-progress-bar {\n",
              "        background: #F44336;\n",
              "    }\n",
              "</style>\n"
            ]
          },
          "metadata": {}
        },
        {
          "output_type": "display_data",
          "data": {
            "text/plain": [
              "<IPython.core.display.HTML object>"
            ],
            "text/html": [
              "\n",
              "    <div>\n",
              "      <progress value='2000' class='' max='2000' style='width:300px; height:20px; vertical-align: middle;'></progress>\n",
              "      100.00% [2000/2000 00:28&lt;00:00 Sampling chain 1, 0 divergences]\n",
              "    </div>\n",
              "    "
            ]
          },
          "metadata": {}
        }
      ]
    },
    {
      "cell_type": "code",
      "source": [
        "with pm.Model() as mixture_model:\n",
        "    # Define mixture component for Gender\n",
        "    alpha_gender_0 = pm.Normal('alpha_gender_0', mu=0, sigma=1)\n",
        "    beta_gender_0 = pm.Normal('beta_gender_0', mu=0, sigma=1)\n",
        "\n",
        "    alpha_gender_1 = pm.Normal('alpha_gender_1', mu=0, sigma=1)\n",
        "    beta_gender_1 = pm.Normal('beta_gender_1', mu=0, sigma=1)\n",
        "\n",
        "    # Mixture component for Gender\n",
        "    mixture_gender = pm.Bernoulli('mixture_gender', p=0.5)  # Prior probability of belonging to each component\n",
        "\n",
        "    # Define mixture component for over55\n",
        "    alpha_over55_0 = pm.Normal('alpha_over55_0', mu=0, sigma=1)\n",
        "    beta_over55_0 = pm.Normal('beta_over55_0', mu=0, sigma=1)\n",
        "\n",
        "    alpha_over55_1 = pm.Normal('alpha_over55_1', mu=0, sigma=1)\n",
        "    beta_over55_1 = pm.Normal('beta_over55_1', mu=0, sigma=1)\n",
        "\n",
        "    # Mixture component for over55\n",
        "    mixture_over55 = pm.Bernoulli('mixture_over55', p=0.5)  # Prior probability of belonging to each component\n",
        "\n",
        "    # Define mixture probabilities\n",
        "    mixture_prob_gender = pm.math.switch(mixture_gender, 1, 0)\n",
        "    mixture_prob_over55 = pm.math.switch(mixture_over55, 1, 0)\n",
        "\n",
        "    # pWeekday Probablity of being a weekday\n",
        "    pWeekday = pm.Beta('pWeekday', alpha=1, beta=1)\n",
        "\n",
        "    # Time weekday probabilities\n",
        "    pNight= pm.Beta('pNight', alpha=1, beta=1) ## = p1\n",
        "    pMorningBase= pm.Beta('pMorningBase', alpha=1, beta=1)\n",
        "    pMiddayBase= pm.Beta('pMiddayBase', alpha=1, beta=1)\n",
        "    pAfternoonBase= pm.Beta('pAfternoonBase', alpha=1, beta=1)\n",
        "    pEvening= pm.Beta('pEvening', alpha=1, beta=1) ## = p5\n",
        "    # Time weekend probabilities\n",
        "    pMorChange= pm.Beta('pMorChange', alpha=1, beta=1)\n",
        "    pMidChange= pm.Beta('pMidChange', alpha=1, beta=1)\n",
        "    pAftChange= pm.Beta('pAftChange', alpha=1, beta=1)\n",
        "\n",
        "    # pMorningBase + pWeekday*(1-pMorningBase)*pMorChange\n",
        "    no_negatives_2 = pm.math.switch(pm.math.lt(pMorningBase + pWeekday*(1-pMorningBase)*pMorChange,0), 0, pMorningBase + pWeekday*(1-pMorningBase)*pMorChange)\n",
        "    in_unit_interval_2 = pm.math.switch(pm.math.gt(no_negatives_2,1), 1, pMorningBase + pWeekday*(1-pMorningBase)*pMorChange)\n",
        "    pMorning = pm.Deterministic('pMorning', in_unit_interval_2)\n",
        "\n",
        "    # pMiddayBase - pWeekday*(1-pMiddayBase)*pMidChange\n",
        "    no_negatives_3 = pm.math.switch(pm.math.lt(pMiddayBase - pWeekday*(1-pMiddayBase)*pMidChange,0), 0, pMiddayBase - pWeekday*(1-pMiddayBase)*pMidChange)\n",
        "    in_unit_interval_3 = pm.math.switch(pm.math.gt(no_negatives_3,1), 1, pMiddayBase - pWeekday*(1-pMiddayBase)*pMidChange)\n",
        "    pMidday = pm.Deterministic('pMidday', in_unit_interval_3)\n",
        "\n",
        "    # pAfternoonBase + pWeekday*(1-pAfternoonBase)*pAftChange\n",
        "    no_negatives_4 = pm.math.switch(pm.math.lt(pAfternoonBase + pWeekday*(1-pAfternoonBase)*pAftChange,0), 0, pAfternoonBase + pWeekday*(1-pAfternoonBase)*pAftChange)\n",
        "    in_unit_interval_4 = pm.math.switch(pm.math.gt(no_negatives_4,1), 1, pAfternoonBase + pWeekday*(1-pAfternoonBase)*pAftChange)\n",
        "    pAfternoon = pm.Deterministic('pAfternoon', in_unit_interval_4)\n",
        "\n",
        "    # Intercept\n",
        "    intercept = pm.Normal('intercept', mu=0, sigma=1)\n",
        "\n",
        "    # Priors of selected condition predictors\n",
        "    beta_dark = pm.Normal('beta_dark', mu=0, sigma=1)  # Prior for 'Dark'\n",
        "    beta_clear = pm.Normal('beta_clear', mu=0, sigma=1)  # Prior for 'Clear'\n",
        "\n",
        "    # Combine mixture components with the existing linear combination\n",
        "    logit_p = intercept + pNight * x6 + pMorning * x7 + pMidday * x8 + pAfternoon * x9 + pEvening * x10 + beta_clear * x2 + beta_dark * x4 \\\n",
        "              + mixture_prob_gender * (pm.math.switch(mixture_gender, alpha_gender_1 + beta_gender_1 * xGender, alpha_gender_0 + beta_gender_0 * xGender)) \\\n",
        "              + mixture_prob_over55 * (pm.math.switch(mixture_over55,alpha_over55_1 + beta_over55_1 * xover55,alpha_over55_0 + beta_over55_0 * xover55))\n",
        "    logit_p = pm.Deterministic('logit_p',logit_p)\n",
        "\n",
        "    # Define likelihood\n",
        "    Y = pm.Bernoulli('Y', logit_p=logit_p, observed=y)\n",
        "\n",
        "    # Sample from the model\n",
        "    idata_4 = pm.sample()\n"
      ],
      "metadata": {
        "colab": {
          "base_uri": "https://localhost:8080/",
          "height": 57
        },
        "id": "PiKzqkuUt-nF",
        "outputId": "e6d54613-a399-45e5-b497-dbf6fe96e3f2"
      },
      "execution_count": 56,
      "outputs": [
        {
          "output_type": "display_data",
          "data": {
            "text/plain": [
              "<IPython.core.display.HTML object>"
            ],
            "text/html": [
              "\n",
              "<style>\n",
              "    /* Turns off some styling */\n",
              "    progress {\n",
              "        /* gets rid of default border in Firefox and Opera. */\n",
              "        border: none;\n",
              "        /* Needs to be in here for Safari polyfill so background images work as expected. */\n",
              "        background-size: auto;\n",
              "    }\n",
              "    progress:not([value]), progress:not([value])::-webkit-progress-bar {\n",
              "        background: repeating-linear-gradient(45deg, #7e7e7e, #7e7e7e 10px, #5c5c5c 10px, #5c5c5c 20px);\n",
              "    }\n",
              "    .progress-bar-interrupted, .progress-bar-interrupted::-webkit-progress-bar {\n",
              "        background: #F44336;\n",
              "    }\n",
              "</style>\n"
            ]
          },
          "metadata": {}
        },
        {
          "output_type": "display_data",
          "data": {
            "text/plain": [
              "<IPython.core.display.HTML object>"
            ],
            "text/html": [
              "\n",
              "    <div>\n",
              "      <progress value='2000' class='' max='2000' style='width:300px; height:20px; vertical-align: middle;'></progress>\n",
              "      100.00% [2000/2000 00:31&lt;00:00 Sampling chain 0, 0 divergences]\n",
              "    </div>\n",
              "    "
            ]
          },
          "metadata": {}
        },
        {
          "output_type": "display_data",
          "data": {
            "text/plain": [
              "<IPython.core.display.HTML object>"
            ],
            "text/html": [
              "\n",
              "<style>\n",
              "    /* Turns off some styling */\n",
              "    progress {\n",
              "        /* gets rid of default border in Firefox and Opera. */\n",
              "        border: none;\n",
              "        /* Needs to be in here for Safari polyfill so background images work as expected. */\n",
              "        background-size: auto;\n",
              "    }\n",
              "    progress:not([value]), progress:not([value])::-webkit-progress-bar {\n",
              "        background: repeating-linear-gradient(45deg, #7e7e7e, #7e7e7e 10px, #5c5c5c 10px, #5c5c5c 20px);\n",
              "    }\n",
              "    .progress-bar-interrupted, .progress-bar-interrupted::-webkit-progress-bar {\n",
              "        background: #F44336;\n",
              "    }\n",
              "</style>\n"
            ]
          },
          "metadata": {}
        },
        {
          "output_type": "display_data",
          "data": {
            "text/plain": [
              "<IPython.core.display.HTML object>"
            ],
            "text/html": [
              "\n",
              "    <div>\n",
              "      <progress value='2000' class='' max='2000' style='width:300px; height:20px; vertical-align: middle;'></progress>\n",
              "      100.00% [2000/2000 00:27&lt;00:00 Sampling chain 1, 0 divergences]\n",
              "    </div>\n",
              "    "
            ]
          },
          "metadata": {}
        }
      ]
    },
    {
      "cell_type": "code",
      "source": [
        "print(\"number of MCMC samples:\", idata_4.posterior['pWeekday'].values.flatten().shape[-1])\n",
        "az.summary(idata_4, round_to=2)"
      ],
      "metadata": {
        "id": "K-nfiTn0DbKL",
        "colab": {
          "base_uri": "https://localhost:8080/",
          "height": 441
        },
        "outputId": "f318fed8-37d3-415d-82a4-79f852f84cda"
      },
      "execution_count": 57,
      "outputs": [
        {
          "output_type": "stream",
          "name": "stdout",
          "text": [
            "number of MCMC samples: 2000\n"
          ]
        },
        {
          "output_type": "execute_result",
          "data": {
            "text/plain": [
              "                mean    sd  hdi_3%  hdi_97%  mcse_mean  mcse_sd  ess_bulk  \\\n",
              "alpha_gender_0 -0.04  0.97   -1.73     1.80       0.03     0.02   1450.07   \n",
              "beta_gender_0  -0.02  0.94   -1.77     1.74       0.02     0.02   1869.40   \n",
              "alpha_gender_1 -0.14  0.99   -1.92     1.75       0.03     0.02   1217.74   \n",
              "beta_gender_1   0.05  0.87   -1.62     1.74       0.02     0.02   1913.52   \n",
              "mixture_gender  0.34  0.48    0.00     1.00       0.03     0.02    298.04   \n",
              "...              ...   ...     ...      ...        ...      ...       ...   \n",
              "logit_p[95]    -0.43  0.25   -0.88     0.06       0.01     0.00   1881.09   \n",
              "logit_p[96]    -0.47  0.42   -1.26     0.33       0.01     0.01   1107.68   \n",
              "logit_p[97]    -0.72  0.37   -1.41    -0.04       0.01     0.01   1272.74   \n",
              "logit_p[98]    -0.63  0.35   -1.27     0.01       0.01     0.01   1931.64   \n",
              "logit_p[99]    -0.12  0.56   -1.08     1.01       0.02     0.01   1323.08   \n",
              "\n",
              "                ess_tail  r_hat  \n",
              "alpha_gender_0    908.82    1.0  \n",
              "beta_gender_0    1200.46    1.0  \n",
              "alpha_gender_1   1357.89    1.0  \n",
              "beta_gender_1    1289.61    1.0  \n",
              "mixture_gender    298.04    1.0  \n",
              "...                  ...    ...  \n",
              "logit_p[95]      1440.07    1.0  \n",
              "logit_p[96]      1134.50    1.0  \n",
              "logit_p[97]       630.08    1.0  \n",
              "logit_p[98]      1488.38    1.0  \n",
              "logit_p[99]      1176.27    1.0  \n",
              "\n",
              "[125 rows x 9 columns]"
            ],
            "text/html": [
              "\n",
              "  <div id=\"df-3add84a4-26bb-4967-b269-4bc5bb57e694\" class=\"colab-df-container\">\n",
              "    <div>\n",
              "<style scoped>\n",
              "    .dataframe tbody tr th:only-of-type {\n",
              "        vertical-align: middle;\n",
              "    }\n",
              "\n",
              "    .dataframe tbody tr th {\n",
              "        vertical-align: top;\n",
              "    }\n",
              "\n",
              "    .dataframe thead th {\n",
              "        text-align: right;\n",
              "    }\n",
              "</style>\n",
              "<table border=\"1\" class=\"dataframe\">\n",
              "  <thead>\n",
              "    <tr style=\"text-align: right;\">\n",
              "      <th></th>\n",
              "      <th>mean</th>\n",
              "      <th>sd</th>\n",
              "      <th>hdi_3%</th>\n",
              "      <th>hdi_97%</th>\n",
              "      <th>mcse_mean</th>\n",
              "      <th>mcse_sd</th>\n",
              "      <th>ess_bulk</th>\n",
              "      <th>ess_tail</th>\n",
              "      <th>r_hat</th>\n",
              "    </tr>\n",
              "  </thead>\n",
              "  <tbody>\n",
              "    <tr>\n",
              "      <th>alpha_gender_0</th>\n",
              "      <td>-0.04</td>\n",
              "      <td>0.97</td>\n",
              "      <td>-1.73</td>\n",
              "      <td>1.80</td>\n",
              "      <td>0.03</td>\n",
              "      <td>0.02</td>\n",
              "      <td>1450.07</td>\n",
              "      <td>908.82</td>\n",
              "      <td>1.0</td>\n",
              "    </tr>\n",
              "    <tr>\n",
              "      <th>beta_gender_0</th>\n",
              "      <td>-0.02</td>\n",
              "      <td>0.94</td>\n",
              "      <td>-1.77</td>\n",
              "      <td>1.74</td>\n",
              "      <td>0.02</td>\n",
              "      <td>0.02</td>\n",
              "      <td>1869.40</td>\n",
              "      <td>1200.46</td>\n",
              "      <td>1.0</td>\n",
              "    </tr>\n",
              "    <tr>\n",
              "      <th>alpha_gender_1</th>\n",
              "      <td>-0.14</td>\n",
              "      <td>0.99</td>\n",
              "      <td>-1.92</td>\n",
              "      <td>1.75</td>\n",
              "      <td>0.03</td>\n",
              "      <td>0.02</td>\n",
              "      <td>1217.74</td>\n",
              "      <td>1357.89</td>\n",
              "      <td>1.0</td>\n",
              "    </tr>\n",
              "    <tr>\n",
              "      <th>beta_gender_1</th>\n",
              "      <td>0.05</td>\n",
              "      <td>0.87</td>\n",
              "      <td>-1.62</td>\n",
              "      <td>1.74</td>\n",
              "      <td>0.02</td>\n",
              "      <td>0.02</td>\n",
              "      <td>1913.52</td>\n",
              "      <td>1289.61</td>\n",
              "      <td>1.0</td>\n",
              "    </tr>\n",
              "    <tr>\n",
              "      <th>mixture_gender</th>\n",
              "      <td>0.34</td>\n",
              "      <td>0.48</td>\n",
              "      <td>0.00</td>\n",
              "      <td>1.00</td>\n",
              "      <td>0.03</td>\n",
              "      <td>0.02</td>\n",
              "      <td>298.04</td>\n",
              "      <td>298.04</td>\n",
              "      <td>1.0</td>\n",
              "    </tr>\n",
              "    <tr>\n",
              "      <th>...</th>\n",
              "      <td>...</td>\n",
              "      <td>...</td>\n",
              "      <td>...</td>\n",
              "      <td>...</td>\n",
              "      <td>...</td>\n",
              "      <td>...</td>\n",
              "      <td>...</td>\n",
              "      <td>...</td>\n",
              "      <td>...</td>\n",
              "    </tr>\n",
              "    <tr>\n",
              "      <th>logit_p[95]</th>\n",
              "      <td>-0.43</td>\n",
              "      <td>0.25</td>\n",
              "      <td>-0.88</td>\n",
              "      <td>0.06</td>\n",
              "      <td>0.01</td>\n",
              "      <td>0.00</td>\n",
              "      <td>1881.09</td>\n",
              "      <td>1440.07</td>\n",
              "      <td>1.0</td>\n",
              "    </tr>\n",
              "    <tr>\n",
              "      <th>logit_p[96]</th>\n",
              "      <td>-0.47</td>\n",
              "      <td>0.42</td>\n",
              "      <td>-1.26</td>\n",
              "      <td>0.33</td>\n",
              "      <td>0.01</td>\n",
              "      <td>0.01</td>\n",
              "      <td>1107.68</td>\n",
              "      <td>1134.50</td>\n",
              "      <td>1.0</td>\n",
              "    </tr>\n",
              "    <tr>\n",
              "      <th>logit_p[97]</th>\n",
              "      <td>-0.72</td>\n",
              "      <td>0.37</td>\n",
              "      <td>-1.41</td>\n",
              "      <td>-0.04</td>\n",
              "      <td>0.01</td>\n",
              "      <td>0.01</td>\n",
              "      <td>1272.74</td>\n",
              "      <td>630.08</td>\n",
              "      <td>1.0</td>\n",
              "    </tr>\n",
              "    <tr>\n",
              "      <th>logit_p[98]</th>\n",
              "      <td>-0.63</td>\n",
              "      <td>0.35</td>\n",
              "      <td>-1.27</td>\n",
              "      <td>0.01</td>\n",
              "      <td>0.01</td>\n",
              "      <td>0.01</td>\n",
              "      <td>1931.64</td>\n",
              "      <td>1488.38</td>\n",
              "      <td>1.0</td>\n",
              "    </tr>\n",
              "    <tr>\n",
              "      <th>logit_p[99]</th>\n",
              "      <td>-0.12</td>\n",
              "      <td>0.56</td>\n",
              "      <td>-1.08</td>\n",
              "      <td>1.01</td>\n",
              "      <td>0.02</td>\n",
              "      <td>0.01</td>\n",
              "      <td>1323.08</td>\n",
              "      <td>1176.27</td>\n",
              "      <td>1.0</td>\n",
              "    </tr>\n",
              "  </tbody>\n",
              "</table>\n",
              "<p>125 rows × 9 columns</p>\n",
              "</div>\n",
              "    <div class=\"colab-df-buttons\">\n",
              "\n",
              "  <div class=\"colab-df-container\">\n",
              "    <button class=\"colab-df-convert\" onclick=\"convertToInteractive('df-3add84a4-26bb-4967-b269-4bc5bb57e694')\"\n",
              "            title=\"Convert this dataframe to an interactive table.\"\n",
              "            style=\"display:none;\">\n",
              "\n",
              "  <svg xmlns=\"http://www.w3.org/2000/svg\" height=\"24px\" viewBox=\"0 -960 960 960\">\n",
              "    <path d=\"M120-120v-720h720v720H120Zm60-500h600v-160H180v160Zm220 220h160v-160H400v160Zm0 220h160v-160H400v160ZM180-400h160v-160H180v160Zm440 0h160v-160H620v160ZM180-180h160v-160H180v160Zm440 0h160v-160H620v160Z\"/>\n",
              "  </svg>\n",
              "    </button>\n",
              "\n",
              "  <style>\n",
              "    .colab-df-container {\n",
              "      display:flex;\n",
              "      gap: 12px;\n",
              "    }\n",
              "\n",
              "    .colab-df-convert {\n",
              "      background-color: #E8F0FE;\n",
              "      border: none;\n",
              "      border-radius: 50%;\n",
              "      cursor: pointer;\n",
              "      display: none;\n",
              "      fill: #1967D2;\n",
              "      height: 32px;\n",
              "      padding: 0 0 0 0;\n",
              "      width: 32px;\n",
              "    }\n",
              "\n",
              "    .colab-df-convert:hover {\n",
              "      background-color: #E2EBFA;\n",
              "      box-shadow: 0px 1px 2px rgba(60, 64, 67, 0.3), 0px 1px 3px 1px rgba(60, 64, 67, 0.15);\n",
              "      fill: #174EA6;\n",
              "    }\n",
              "\n",
              "    .colab-df-buttons div {\n",
              "      margin-bottom: 4px;\n",
              "    }\n",
              "\n",
              "    [theme=dark] .colab-df-convert {\n",
              "      background-color: #3B4455;\n",
              "      fill: #D2E3FC;\n",
              "    }\n",
              "\n",
              "    [theme=dark] .colab-df-convert:hover {\n",
              "      background-color: #434B5C;\n",
              "      box-shadow: 0px 1px 3px 1px rgba(0, 0, 0, 0.15);\n",
              "      filter: drop-shadow(0px 1px 2px rgba(0, 0, 0, 0.3));\n",
              "      fill: #FFFFFF;\n",
              "    }\n",
              "  </style>\n",
              "\n",
              "    <script>\n",
              "      const buttonEl =\n",
              "        document.querySelector('#df-3add84a4-26bb-4967-b269-4bc5bb57e694 button.colab-df-convert');\n",
              "      buttonEl.style.display =\n",
              "        google.colab.kernel.accessAllowed ? 'block' : 'none';\n",
              "\n",
              "      async function convertToInteractive(key) {\n",
              "        const element = document.querySelector('#df-3add84a4-26bb-4967-b269-4bc5bb57e694');\n",
              "        const dataTable =\n",
              "          await google.colab.kernel.invokeFunction('convertToInteractive',\n",
              "                                                    [key], {});\n",
              "        if (!dataTable) return;\n",
              "\n",
              "        const docLinkHtml = 'Like what you see? Visit the ' +\n",
              "          '<a target=\"_blank\" href=https://colab.research.google.com/notebooks/data_table.ipynb>data table notebook</a>'\n",
              "          + ' to learn more about interactive tables.';\n",
              "        element.innerHTML = '';\n",
              "        dataTable['output_type'] = 'display_data';\n",
              "        await google.colab.output.renderOutput(dataTable, element);\n",
              "        const docLink = document.createElement('div');\n",
              "        docLink.innerHTML = docLinkHtml;\n",
              "        element.appendChild(docLink);\n",
              "      }\n",
              "    </script>\n",
              "  </div>\n",
              "\n",
              "\n",
              "<div id=\"df-f528cebb-5764-42ff-9e78-1a4faada18bc\">\n",
              "  <button class=\"colab-df-quickchart\" onclick=\"quickchart('df-f528cebb-5764-42ff-9e78-1a4faada18bc')\"\n",
              "            title=\"Suggest charts\"\n",
              "            style=\"display:none;\">\n",
              "\n",
              "<svg xmlns=\"http://www.w3.org/2000/svg\" height=\"24px\"viewBox=\"0 0 24 24\"\n",
              "     width=\"24px\">\n",
              "    <g>\n",
              "        <path d=\"M19 3H5c-1.1 0-2 .9-2 2v14c0 1.1.9 2 2 2h14c1.1 0 2-.9 2-2V5c0-1.1-.9-2-2-2zM9 17H7v-7h2v7zm4 0h-2V7h2v10zm4 0h-2v-4h2v4z\"/>\n",
              "    </g>\n",
              "</svg>\n",
              "  </button>\n",
              "\n",
              "<style>\n",
              "  .colab-df-quickchart {\n",
              "      --bg-color: #E8F0FE;\n",
              "      --fill-color: #1967D2;\n",
              "      --hover-bg-color: #E2EBFA;\n",
              "      --hover-fill-color: #174EA6;\n",
              "      --disabled-fill-color: #AAA;\n",
              "      --disabled-bg-color: #DDD;\n",
              "  }\n",
              "\n",
              "  [theme=dark] .colab-df-quickchart {\n",
              "      --bg-color: #3B4455;\n",
              "      --fill-color: #D2E3FC;\n",
              "      --hover-bg-color: #434B5C;\n",
              "      --hover-fill-color: #FFFFFF;\n",
              "      --disabled-bg-color: #3B4455;\n",
              "      --disabled-fill-color: #666;\n",
              "  }\n",
              "\n",
              "  .colab-df-quickchart {\n",
              "    background-color: var(--bg-color);\n",
              "    border: none;\n",
              "    border-radius: 50%;\n",
              "    cursor: pointer;\n",
              "    display: none;\n",
              "    fill: var(--fill-color);\n",
              "    height: 32px;\n",
              "    padding: 0;\n",
              "    width: 32px;\n",
              "  }\n",
              "\n",
              "  .colab-df-quickchart:hover {\n",
              "    background-color: var(--hover-bg-color);\n",
              "    box-shadow: 0 1px 2px rgba(60, 64, 67, 0.3), 0 1px 3px 1px rgba(60, 64, 67, 0.15);\n",
              "    fill: var(--button-hover-fill-color);\n",
              "  }\n",
              "\n",
              "  .colab-df-quickchart-complete:disabled,\n",
              "  .colab-df-quickchart-complete:disabled:hover {\n",
              "    background-color: var(--disabled-bg-color);\n",
              "    fill: var(--disabled-fill-color);\n",
              "    box-shadow: none;\n",
              "  }\n",
              "\n",
              "  .colab-df-spinner {\n",
              "    border: 2px solid var(--fill-color);\n",
              "    border-color: transparent;\n",
              "    border-bottom-color: var(--fill-color);\n",
              "    animation:\n",
              "      spin 1s steps(1) infinite;\n",
              "  }\n",
              "\n",
              "  @keyframes spin {\n",
              "    0% {\n",
              "      border-color: transparent;\n",
              "      border-bottom-color: var(--fill-color);\n",
              "      border-left-color: var(--fill-color);\n",
              "    }\n",
              "    20% {\n",
              "      border-color: transparent;\n",
              "      border-left-color: var(--fill-color);\n",
              "      border-top-color: var(--fill-color);\n",
              "    }\n",
              "    30% {\n",
              "      border-color: transparent;\n",
              "      border-left-color: var(--fill-color);\n",
              "      border-top-color: var(--fill-color);\n",
              "      border-right-color: var(--fill-color);\n",
              "    }\n",
              "    40% {\n",
              "      border-color: transparent;\n",
              "      border-right-color: var(--fill-color);\n",
              "      border-top-color: var(--fill-color);\n",
              "    }\n",
              "    60% {\n",
              "      border-color: transparent;\n",
              "      border-right-color: var(--fill-color);\n",
              "    }\n",
              "    80% {\n",
              "      border-color: transparent;\n",
              "      border-right-color: var(--fill-color);\n",
              "      border-bottom-color: var(--fill-color);\n",
              "    }\n",
              "    90% {\n",
              "      border-color: transparent;\n",
              "      border-bottom-color: var(--fill-color);\n",
              "    }\n",
              "  }\n",
              "</style>\n",
              "\n",
              "  <script>\n",
              "    async function quickchart(key) {\n",
              "      const quickchartButtonEl =\n",
              "        document.querySelector('#' + key + ' button');\n",
              "      quickchartButtonEl.disabled = true;  // To prevent multiple clicks.\n",
              "      quickchartButtonEl.classList.add('colab-df-spinner');\n",
              "      try {\n",
              "        const charts = await google.colab.kernel.invokeFunction(\n",
              "            'suggestCharts', [key], {});\n",
              "      } catch (error) {\n",
              "        console.error('Error during call to suggestCharts:', error);\n",
              "      }\n",
              "      quickchartButtonEl.classList.remove('colab-df-spinner');\n",
              "      quickchartButtonEl.classList.add('colab-df-quickchart-complete');\n",
              "    }\n",
              "    (() => {\n",
              "      let quickchartButtonEl =\n",
              "        document.querySelector('#df-f528cebb-5764-42ff-9e78-1a4faada18bc button');\n",
              "      quickchartButtonEl.style.display =\n",
              "        google.colab.kernel.accessAllowed ? 'block' : 'none';\n",
              "    })();\n",
              "  </script>\n",
              "</div>\n",
              "\n",
              "    </div>\n",
              "  </div>\n"
            ],
            "application/vnd.google.colaboratory.intrinsic+json": {
              "type": "dataframe",
              "summary": "{\n  \"name\": \"az\",\n  \"rows\": 125,\n  \"fields\": [\n    {\n      \"column\": \"mean\",\n      \"properties\": {\n        \"dtype\": \"number\",\n        \"std\": 0.3761226292820794,\n        \"min\": -1.38,\n        \"max\": 0.71,\n        \"num_unique_values\": 40,\n        \"samples\": [\n          0.71,\n          0.6,\n          0.52\n        ],\n        \"semantic_type\": \"\",\n        \"description\": \"\"\n      }\n    },\n    {\n      \"column\": \"sd\",\n      \"properties\": {\n        \"dtype\": \"number\",\n        \"std\": 0.20096781960336094,\n        \"min\": 0.21,\n        \"max\": 1.06,\n        \"num_unique_values\": 37,\n        \"samples\": [\n          0.21,\n          0.29,\n          0.48\n        ],\n        \"semantic_type\": \"\",\n        \"description\": \"\"\n      }\n    },\n    {\n      \"column\": \"hdi_3%\",\n      \"properties\": {\n        \"dtype\": \"number\",\n        \"std\": 0.5691264727066242,\n        \"min\": -2.96,\n        \"max\": 0.33,\n        \"num_unique_values\": 38,\n        \"samples\": [\n          -1.71,\n          -1.5,\n          0.0\n        ],\n        \"semantic_type\": \"\",\n        \"description\": \"\"\n      }\n    },\n    {\n      \"column\": \"hdi_97%\",\n      \"properties\": {\n        \"dtype\": \"number\",\n        \"std\": 0.5211523583801202,\n        \"min\": -0.06,\n        \"max\": 1.86,\n        \"num_unique_values\": 40,\n        \"samples\": [\n          0.01,\n          0.93,\n          0.92\n        ],\n        \"semantic_type\": \"\",\n        \"description\": \"\"\n      }\n    },\n    {\n      \"column\": \"mcse_mean\",\n      \"properties\": {\n        \"dtype\": \"number\",\n        \"std\": 0.0057327581606964936,\n        \"min\": 0.01,\n        \"max\": 0.04,\n        \"num_unique_values\": 4,\n        \"samples\": [\n          0.02,\n          0.01,\n          0.03\n        ],\n        \"semantic_type\": \"\",\n        \"description\": \"\"\n      }\n    },\n    {\n      \"column\": \"mcse_sd\",\n      \"properties\": {\n        \"dtype\": \"number\",\n        \"std\": 0.0067613703516563916,\n        \"min\": 0.0,\n        \"max\": 0.03,\n        \"num_unique_values\": 4,\n        \"samples\": [\n          0.03,\n          0.0,\n          0.02\n        ],\n        \"semantic_type\": \"\",\n        \"description\": \"\"\n      }\n    },\n    {\n      \"column\": \"ess_bulk\",\n      \"properties\": {\n        \"dtype\": \"number\",\n        \"std\": 379.2766967304154,\n        \"min\": 298.04,\n        \"max\": 1931.64,\n        \"num_unique_values\": 49,\n        \"samples\": [\n          1442.92,\n          1218.59,\n          963.76\n        ],\n        \"semantic_type\": \"\",\n        \"description\": \"\"\n      }\n    },\n    {\n      \"column\": \"ess_tail\",\n      \"properties\": {\n        \"dtype\": \"number\",\n        \"std\": 338.1008642572652,\n        \"min\": 298.04,\n        \"max\": 1620.14,\n        \"num_unique_values\": 49,\n        \"samples\": [\n          1105.43,\n          1104.97,\n          1006.57\n        ],\n        \"semantic_type\": \"\",\n        \"description\": \"\"\n      }\n    },\n    {\n      \"column\": \"r_hat\",\n      \"properties\": {\n        \"dtype\": \"number\",\n        \"std\": 0.0017670825235854995,\n        \"min\": 1.0,\n        \"max\": 1.01,\n        \"num_unique_values\": 2,\n        \"samples\": [\n          1.01,\n          1.0\n        ],\n        \"semantic_type\": \"\",\n        \"description\": \"\"\n      }\n    }\n  ]\n}"
            }
          },
          "metadata": {},
          "execution_count": 57
        }
      ]
    },
    {
      "cell_type": "code",
      "execution_count": 58,
      "metadata": {
        "id": "caZDzP-ZU-Ks",
        "colab": {
          "base_uri": "https://localhost:8080/",
          "height": 618
        },
        "outputId": "7c487ce7-d41c-4a4e-8e32-00ae911828cb"
      },
      "outputs": [
        {
          "output_type": "execute_result",
          "data": {
            "image/svg+xml": "<?xml version=\"1.0\" encoding=\"UTF-8\" standalone=\"no\"?>\n<!DOCTYPE svg PUBLIC \"-//W3C//DTD SVG 1.1//EN\"\n \"http://www.w3.org/Graphics/SVG/1.1/DTD/svg11.dtd\">\n<!-- Generated by graphviz version 2.43.0 (0)\n -->\n<!-- Title: %3 Pages: 1 -->\n<svg width=\"2474pt\" height=\"433pt\"\n viewBox=\"0.00 0.00 2473.62 432.86\" xmlns=\"http://www.w3.org/2000/svg\" xmlns:xlink=\"http://www.w3.org/1999/xlink\">\n<g id=\"graph0\" class=\"graph\" transform=\"scale(1 1) rotate(0) translate(4 428.86)\">\n<title>%3</title>\n<polygon fill=\"white\" stroke=\"transparent\" points=\"-4,4 -4,-428.86 2469.62,-428.86 2469.62,4 -4,4\"/>\n<g id=\"clust1\" class=\"cluster\">\n<title>cluster100</title>\n<path fill=\"none\" stroke=\"black\" d=\"M1221.08,-8C1221.08,-8 1309.08,-8 1309.08,-8 1315.08,-8 1321.08,-14 1321.08,-20 1321.08,-20 1321.08,-198.95 1321.08,-198.95 1321.08,-204.95 1315.08,-210.95 1309.08,-210.95 1309.08,-210.95 1221.08,-210.95 1221.08,-210.95 1215.08,-210.95 1209.08,-204.95 1209.08,-198.95 1209.08,-198.95 1209.08,-20 1209.08,-20 1209.08,-14 1215.08,-8 1221.08,-8\"/>\n<text text-anchor=\"middle\" x=\"1302.58\" y=\"-15.8\" font-family=\"Times,serif\" font-size=\"14.00\">100</text>\n</g>\n<!-- pEvening -->\n<g id=\"node1\" class=\"node\">\n<title>pEvening</title>\n<ellipse fill=\"none\" stroke=\"black\" cx=\"48.08\" cy=\"-276.43\" rx=\"48.17\" ry=\"37.45\"/>\n<text text-anchor=\"middle\" x=\"48.08\" y=\"-287.73\" font-family=\"Times,serif\" font-size=\"14.00\">pEvening</text>\n<text text-anchor=\"middle\" x=\"48.08\" y=\"-272.73\" font-family=\"Times,serif\" font-size=\"14.00\">~</text>\n<text text-anchor=\"middle\" x=\"48.08\" y=\"-257.73\" font-family=\"Times,serif\" font-size=\"14.00\">Beta</text>\n</g>\n<!-- logit_p -->\n<g id=\"node27\" class=\"node\">\n<title>logit_p</title>\n<polygon fill=\"none\" stroke=\"black\" points=\"1310.58,-202.95 1219.58,-202.95 1219.58,-149.95 1310.58,-149.95 1310.58,-202.95\"/>\n<text text-anchor=\"middle\" x=\"1265.08\" y=\"-187.75\" font-family=\"Times,serif\" font-size=\"14.00\">logit_p</text>\n<text text-anchor=\"middle\" x=\"1265.08\" y=\"-172.75\" font-family=\"Times,serif\" font-size=\"14.00\">~</text>\n<text text-anchor=\"middle\" x=\"1265.08\" y=\"-157.75\" font-family=\"Times,serif\" font-size=\"14.00\">Deterministic</text>\n</g>\n<!-- pEvening&#45;&gt;logit_p -->\n<g id=\"edge12\" class=\"edge\">\n<title>pEvening&#45;&gt;logit_p</title>\n<path fill=\"none\" stroke=\"black\" d=\"M82.23,-249.63C89.44,-245.34 97.25,-241.47 105.08,-238.95 210.69,-204.99 991.62,-183.98 1209.05,-178.74\"/>\n<polygon fill=\"black\" stroke=\"black\" points=\"1209.36,-182.24 1219.27,-178.5 1209.19,-175.24 1209.36,-182.24\"/>\n</g>\n<!-- pAfternoonBase -->\n<g id=\"node2\" class=\"node\">\n<title>pAfternoonBase</title>\n<ellipse fill=\"none\" stroke=\"black\" cx=\"1043.08\" cy=\"-387.38\" rx=\"74.49\" ry=\"37.45\"/>\n<text text-anchor=\"middle\" x=\"1043.08\" y=\"-398.68\" font-family=\"Times,serif\" font-size=\"14.00\">pAfternoonBase</text>\n<text text-anchor=\"middle\" x=\"1043.08\" y=\"-383.68\" font-family=\"Times,serif\" font-size=\"14.00\">~</text>\n<text text-anchor=\"middle\" x=\"1043.08\" y=\"-368.68\" font-family=\"Times,serif\" font-size=\"14.00\">Beta</text>\n</g>\n<!-- pAfternoon -->\n<g id=\"node12\" class=\"node\">\n<title>pAfternoon</title>\n<polygon fill=\"none\" stroke=\"black\" points=\"952.58,-302.93 861.58,-302.93 861.58,-249.93 952.58,-249.93 952.58,-302.93\"/>\n<text text-anchor=\"middle\" x=\"907.08\" y=\"-287.73\" font-family=\"Times,serif\" font-size=\"14.00\">pAfternoon</text>\n<text text-anchor=\"middle\" x=\"907.08\" y=\"-272.73\" font-family=\"Times,serif\" font-size=\"14.00\">~</text>\n<text text-anchor=\"middle\" x=\"907.08\" y=\"-257.73\" font-family=\"Times,serif\" font-size=\"14.00\">Deterministic</text>\n</g>\n<!-- pAfternoonBase&#45;&gt;pAfternoon -->\n<g id=\"edge9\" class=\"edge\">\n<title>pAfternoonBase&#45;&gt;pAfternoon</title>\n<path fill=\"none\" stroke=\"black\" d=\"M1004.11,-355.16C986.28,-340.87 965.16,-323.96 947.2,-309.56\"/>\n<polygon fill=\"black\" stroke=\"black\" points=\"949.18,-306.67 939.18,-303.15 944.8,-312.13 949.18,-306.67\"/>\n</g>\n<!-- mixture_gender -->\n<g id=\"node3\" class=\"node\">\n<title>mixture_gender</title>\n<ellipse fill=\"none\" stroke=\"black\" cx=\"187.08\" cy=\"-276.43\" rx=\"72.66\" ry=\"37.45\"/>\n<text text-anchor=\"middle\" x=\"187.08\" y=\"-287.73\" font-family=\"Times,serif\" font-size=\"14.00\">mixture_gender</text>\n<text text-anchor=\"middle\" x=\"187.08\" y=\"-272.73\" font-family=\"Times,serif\" font-size=\"14.00\">~</text>\n<text text-anchor=\"middle\" x=\"187.08\" y=\"-257.73\" font-family=\"Times,serif\" font-size=\"14.00\">Bernoulli</text>\n</g>\n<!-- mixture_gender&#45;&gt;logit_p -->\n<g id=\"edge13\" class=\"edge\">\n<title>mixture_gender&#45;&gt;logit_p</title>\n<path fill=\"none\" stroke=\"black\" d=\"M237.5,-249.38C247.42,-245.22 257.9,-241.47 268.08,-238.95 448.61,-194.32 1026.37,-181.31 1209.11,-178.26\"/>\n<polygon fill=\"black\" stroke=\"black\" points=\"1209.36,-181.76 1219.3,-178.09 1209.25,-174.76 1209.36,-181.76\"/>\n</g>\n<!-- pMorningBase -->\n<g id=\"node4\" class=\"node\">\n<title>pMorningBase</title>\n<ellipse fill=\"none\" stroke=\"black\" cx=\"1484.08\" cy=\"-387.38\" rx=\"69.09\" ry=\"37.45\"/>\n<text text-anchor=\"middle\" x=\"1484.08\" y=\"-398.68\" font-family=\"Times,serif\" font-size=\"14.00\">pMorningBase</text>\n<text text-anchor=\"middle\" x=\"1484.08\" y=\"-383.68\" font-family=\"Times,serif\" font-size=\"14.00\">~</text>\n<text text-anchor=\"middle\" x=\"1484.08\" y=\"-368.68\" font-family=\"Times,serif\" font-size=\"14.00\">Beta</text>\n</g>\n<!-- pMorning -->\n<g id=\"node15\" class=\"node\">\n<title>pMorning</title>\n<polygon fill=\"none\" stroke=\"black\" points=\"1379.58,-302.93 1288.58,-302.93 1288.58,-249.93 1379.58,-249.93 1379.58,-302.93\"/>\n<text text-anchor=\"middle\" x=\"1334.08\" y=\"-287.73\" font-family=\"Times,serif\" font-size=\"14.00\">pMorning</text>\n<text text-anchor=\"middle\" x=\"1334.08\" y=\"-272.73\" font-family=\"Times,serif\" font-size=\"14.00\">~</text>\n<text text-anchor=\"middle\" x=\"1334.08\" y=\"-257.73\" font-family=\"Times,serif\" font-size=\"14.00\">Deterministic</text>\n</g>\n<!-- pMorningBase&#45;&gt;pMorning -->\n<g id=\"edge2\" class=\"edge\">\n<title>pMorningBase&#45;&gt;pMorning</title>\n<path fill=\"none\" stroke=\"black\" d=\"M1443.49,-356.9C1423.21,-342.17 1398.64,-324.32 1377.92,-309.27\"/>\n<polygon fill=\"black\" stroke=\"black\" points=\"1379.75,-306.27 1369.6,-303.23 1375.63,-311.94 1379.75,-306.27\"/>\n</g>\n<!-- pMiddayBase -->\n<g id=\"node5\" class=\"node\">\n<title>pMiddayBase</title>\n<ellipse fill=\"none\" stroke=\"black\" cx=\"763.08\" cy=\"-387.38\" rx=\"65.11\" ry=\"37.45\"/>\n<text text-anchor=\"middle\" x=\"763.08\" y=\"-398.68\" font-family=\"Times,serif\" font-size=\"14.00\">pMiddayBase</text>\n<text text-anchor=\"middle\" x=\"763.08\" y=\"-383.68\" font-family=\"Times,serif\" font-size=\"14.00\">~</text>\n<text text-anchor=\"middle\" x=\"763.08\" y=\"-368.68\" font-family=\"Times,serif\" font-size=\"14.00\">Beta</text>\n</g>\n<!-- pMidday -->\n<g id=\"node11\" class=\"node\">\n<title>pMidday</title>\n<polygon fill=\"none\" stroke=\"black\" points=\"843.58,-302.93 752.58,-302.93 752.58,-249.93 843.58,-249.93 843.58,-302.93\"/>\n<text text-anchor=\"middle\" x=\"798.08\" y=\"-287.73\" font-family=\"Times,serif\" font-size=\"14.00\">pMidday</text>\n<text text-anchor=\"middle\" x=\"798.08\" y=\"-272.73\" font-family=\"Times,serif\" font-size=\"14.00\">~</text>\n<text text-anchor=\"middle\" x=\"798.08\" y=\"-257.73\" font-family=\"Times,serif\" font-size=\"14.00\">Deterministic</text>\n</g>\n<!-- pMiddayBase&#45;&gt;pMidday -->\n<g id=\"edge6\" class=\"edge\">\n<title>pMiddayBase&#45;&gt;pMidday</title>\n<path fill=\"none\" stroke=\"black\" d=\"M774.64,-350.41C778.53,-338.3 782.86,-324.81 786.74,-312.75\"/>\n<polygon fill=\"black\" stroke=\"black\" points=\"790.13,-313.62 789.86,-303.03 783.47,-311.48 790.13,-313.62\"/>\n</g>\n<!-- beta_over55_1 -->\n<g id=\"node6\" class=\"node\">\n<title>beta_over55_1</title>\n<ellipse fill=\"none\" stroke=\"black\" cx=\"346.08\" cy=\"-276.43\" rx=\"68.68\" ry=\"37.45\"/>\n<text text-anchor=\"middle\" x=\"346.08\" y=\"-287.73\" font-family=\"Times,serif\" font-size=\"14.00\">beta_over55_1</text>\n<text text-anchor=\"middle\" x=\"346.08\" y=\"-272.73\" font-family=\"Times,serif\" font-size=\"14.00\">~</text>\n<text text-anchor=\"middle\" x=\"346.08\" y=\"-257.73\" font-family=\"Times,serif\" font-size=\"14.00\">Normal</text>\n</g>\n<!-- beta_over55_1&#45;&gt;logit_p -->\n<g id=\"edge16\" class=\"edge\">\n<title>beta_over55_1&#45;&gt;logit_p</title>\n<path fill=\"none\" stroke=\"black\" d=\"M393.93,-249.45C403.36,-245.29 413.36,-241.52 423.08,-238.95 572.34,-199.62 1045.97,-183.38 1209.17,-178.86\"/>\n<polygon fill=\"black\" stroke=\"black\" points=\"1209.57,-182.35 1219.47,-178.58 1209.37,-175.35 1209.57,-182.35\"/>\n</g>\n<!-- alpha_over55_1 -->\n<g id=\"node7\" class=\"node\">\n<title>alpha_over55_1</title>\n<ellipse fill=\"none\" stroke=\"black\" cx=\"506.08\" cy=\"-276.43\" rx=\"73.58\" ry=\"37.45\"/>\n<text text-anchor=\"middle\" x=\"506.08\" y=\"-287.73\" font-family=\"Times,serif\" font-size=\"14.00\">alpha_over55_1</text>\n<text text-anchor=\"middle\" x=\"506.08\" y=\"-272.73\" font-family=\"Times,serif\" font-size=\"14.00\">~</text>\n<text text-anchor=\"middle\" x=\"506.08\" y=\"-257.73\" font-family=\"Times,serif\" font-size=\"14.00\">Normal</text>\n</g>\n<!-- alpha_over55_1&#45;&gt;logit_p -->\n<g id=\"edge17\" class=\"edge\">\n<title>alpha_over55_1&#45;&gt;logit_p</title>\n<path fill=\"none\" stroke=\"black\" d=\"M557.65,-249.44C567.55,-245.33 577.98,-241.58 588.08,-238.95 705.22,-208.47 1069.27,-187.35 1209.36,-180.16\"/>\n<polygon fill=\"black\" stroke=\"black\" points=\"1209.64,-183.65 1219.45,-179.65 1209.29,-176.66 1209.64,-183.65\"/>\n</g>\n<!-- pWeekday -->\n<g id=\"node8\" class=\"node\">\n<title>pWeekday</title>\n<ellipse fill=\"none\" stroke=\"black\" cx=\"898.08\" cy=\"-387.38\" rx=\"52.15\" ry=\"37.45\"/>\n<text text-anchor=\"middle\" x=\"898.08\" y=\"-398.68\" font-family=\"Times,serif\" font-size=\"14.00\">pWeekday</text>\n<text text-anchor=\"middle\" x=\"898.08\" y=\"-383.68\" font-family=\"Times,serif\" font-size=\"14.00\">~</text>\n<text text-anchor=\"middle\" x=\"898.08\" y=\"-368.68\" font-family=\"Times,serif\" font-size=\"14.00\">Beta</text>\n</g>\n<!-- pWeekday&#45;&gt;pMidday -->\n<g id=\"edge5\" class=\"edge\">\n<title>pWeekday&#45;&gt;pMidday</title>\n<path fill=\"none\" stroke=\"black\" d=\"M869.96,-355.74C857.09,-341.72 841.82,-325.08 828.66,-310.75\"/>\n<polygon fill=\"black\" stroke=\"black\" points=\"830.94,-308.06 821.6,-303.06 825.79,-312.79 830.94,-308.06\"/>\n</g>\n<!-- pWeekday&#45;&gt;pAfternoon -->\n<g id=\"edge7\" class=\"edge\">\n<title>pWeekday&#45;&gt;pAfternoon</title>\n<path fill=\"none\" stroke=\"black\" d=\"M901.11,-349.8C902.07,-338.06 903.15,-325.08 904.11,-313.38\"/>\n<polygon fill=\"black\" stroke=\"black\" points=\"907.63,-313.34 904.96,-303.08 900.65,-312.76 907.63,-313.34\"/>\n</g>\n<!-- pWeekday&#45;&gt;pMorning -->\n<g id=\"edge1\" class=\"edge\">\n<title>pWeekday&#45;&gt;pMorning</title>\n<path fill=\"none\" stroke=\"black\" d=\"M935.58,-360.98C943.4,-356.65 951.79,-352.67 960.08,-349.91 1095.85,-304.63 1145.79,-363.39 1280.08,-313.91 1284.32,-312.35 1288.54,-310.39 1292.66,-308.19\"/>\n<polygon fill=\"black\" stroke=\"black\" points=\"1294.58,-311.12 1301.46,-303.06 1291.06,-305.07 1294.58,-311.12\"/>\n</g>\n<!-- beta_over55_0 -->\n<g id=\"node9\" class=\"node\">\n<title>beta_over55_0</title>\n<ellipse fill=\"none\" stroke=\"black\" cx=\"666.08\" cy=\"-276.43\" rx=\"68.68\" ry=\"37.45\"/>\n<text text-anchor=\"middle\" x=\"666.08\" y=\"-287.73\" font-family=\"Times,serif\" font-size=\"14.00\">beta_over55_0</text>\n<text text-anchor=\"middle\" x=\"666.08\" y=\"-272.73\" font-family=\"Times,serif\" font-size=\"14.00\">~</text>\n<text text-anchor=\"middle\" x=\"666.08\" y=\"-257.73\" font-family=\"Times,serif\" font-size=\"14.00\">Normal</text>\n</g>\n<!-- beta_over55_0&#45;&gt;logit_p -->\n<g id=\"edge20\" class=\"edge\">\n<title>beta_over55_0&#45;&gt;logit_p</title>\n<path fill=\"none\" stroke=\"black\" d=\"M714.45,-249.62C723.74,-245.49 733.56,-241.69 743.08,-238.95 908.09,-191.53 1112.51,-180.6 1209.28,-178.13\"/>\n<polygon fill=\"black\" stroke=\"black\" points=\"1209.51,-181.63 1219.42,-177.89 1209.34,-174.63 1209.51,-181.63\"/>\n</g>\n<!-- pMorChange -->\n<g id=\"node10\" class=\"node\">\n<title>pMorChange</title>\n<ellipse fill=\"none\" stroke=\"black\" cx=\"1334.08\" cy=\"-387.38\" rx=\"62.87\" ry=\"37.45\"/>\n<text text-anchor=\"middle\" x=\"1334.08\" y=\"-398.68\" font-family=\"Times,serif\" font-size=\"14.00\">pMorChange</text>\n<text text-anchor=\"middle\" x=\"1334.08\" y=\"-383.68\" font-family=\"Times,serif\" font-size=\"14.00\">~</text>\n<text text-anchor=\"middle\" x=\"1334.08\" y=\"-368.68\" font-family=\"Times,serif\" font-size=\"14.00\">Beta</text>\n</g>\n<!-- pMorChange&#45;&gt;pMorning -->\n<g id=\"edge3\" class=\"edge\">\n<title>pMorChange&#45;&gt;pMorning</title>\n<path fill=\"none\" stroke=\"black\" d=\"M1334.08,-349.8C1334.08,-338.06 1334.08,-325.08 1334.08,-313.38\"/>\n<polygon fill=\"black\" stroke=\"black\" points=\"1337.58,-313.08 1334.08,-303.08 1330.58,-313.08 1337.58,-313.08\"/>\n</g>\n<!-- pMidday&#45;&gt;logit_p -->\n<g id=\"edge26\" class=\"edge\">\n<title>pMidday&#45;&gt;logit_p</title>\n<path fill=\"none\" stroke=\"black\" d=\"M831.08,-249.82C837.74,-245.62 844.91,-241.74 852.08,-238.95 973.56,-191.7 1128.14,-180.49 1209.39,-178\"/>\n<polygon fill=\"black\" stroke=\"black\" points=\"1209.51,-181.5 1219.41,-177.72 1209.32,-174.5 1209.51,-181.5\"/>\n</g>\n<!-- pAfternoon&#45;&gt;logit_p -->\n<g id=\"edge27\" class=\"edge\">\n<title>pAfternoon&#45;&gt;logit_p</title>\n<path fill=\"none\" stroke=\"black\" d=\"M940.79,-249.75C947.27,-245.66 954.2,-241.84 961.08,-238.95 1043.53,-204.4 1146.88,-188.8 1209.36,-182.1\"/>\n<polygon fill=\"black\" stroke=\"black\" points=\"1209.82,-185.57 1219.4,-181.06 1209.1,-178.61 1209.82,-185.57\"/>\n</g>\n<!-- beta_gender_1 -->\n<g id=\"node13\" class=\"node\">\n<title>beta_gender_1</title>\n<ellipse fill=\"none\" stroke=\"black\" cx=\"1038.08\" cy=\"-276.43\" rx=\"67.76\" ry=\"37.45\"/>\n<text text-anchor=\"middle\" x=\"1038.08\" y=\"-287.73\" font-family=\"Times,serif\" font-size=\"14.00\">beta_gender_1</text>\n<text text-anchor=\"middle\" x=\"1038.08\" y=\"-272.73\" font-family=\"Times,serif\" font-size=\"14.00\">~</text>\n<text text-anchor=\"middle\" x=\"1038.08\" y=\"-257.73\" font-family=\"Times,serif\" font-size=\"14.00\">Normal</text>\n</g>\n<!-- beta_gender_1&#45;&gt;logit_p -->\n<g id=\"edge10\" class=\"edge\">\n<title>beta_gender_1&#45;&gt;logit_p</title>\n<path fill=\"none\" stroke=\"black\" d=\"M1088.17,-250.86C1096.77,-246.79 1105.65,-242.69 1114.08,-238.95 1145.59,-224.99 1181.28,-210.4 1210.04,-198.94\"/>\n<polygon fill=\"black\" stroke=\"black\" points=\"1211.52,-202.12 1219.52,-195.18 1208.93,-195.61 1211.52,-202.12\"/>\n</g>\n<!-- alpha_over55_0 -->\n<g id=\"node14\" class=\"node\">\n<title>alpha_over55_0</title>\n<ellipse fill=\"none\" stroke=\"black\" cx=\"1197.08\" cy=\"-276.43\" rx=\"73.58\" ry=\"37.45\"/>\n<text text-anchor=\"middle\" x=\"1197.08\" y=\"-287.73\" font-family=\"Times,serif\" font-size=\"14.00\">alpha_over55_0</text>\n<text text-anchor=\"middle\" x=\"1197.08\" y=\"-272.73\" font-family=\"Times,serif\" font-size=\"14.00\">~</text>\n<text text-anchor=\"middle\" x=\"1197.08\" y=\"-257.73\" font-family=\"Times,serif\" font-size=\"14.00\">Normal</text>\n</g>\n<!-- alpha_over55_0&#45;&gt;logit_p -->\n<g id=\"edge11\" class=\"edge\">\n<title>alpha_over55_0&#45;&gt;logit_p</title>\n<path fill=\"none\" stroke=\"black\" d=\"M1221.06,-240.89C1227.67,-231.35 1234.85,-221.02 1241.44,-211.51\"/>\n<polygon fill=\"black\" stroke=\"black\" points=\"1244.48,-213.28 1247.31,-203.06 1238.73,-209.28 1244.48,-213.28\"/>\n</g>\n<!-- pMorning&#45;&gt;logit_p -->\n<g id=\"edge14\" class=\"edge\">\n<title>pMorning&#45;&gt;logit_p</title>\n<path fill=\"none\" stroke=\"black\" d=\"M1315.95,-249.69C1307.71,-237.99 1297.85,-223.98 1289.01,-211.43\"/>\n<polygon fill=\"black\" stroke=\"black\" points=\"1291.71,-209.18 1283.09,-203.02 1285.99,-213.21 1291.71,-209.18\"/>\n</g>\n<!-- pNight -->\n<g id=\"node16\" class=\"node\">\n<title>pNight</title>\n<ellipse fill=\"none\" stroke=\"black\" cx=\"1436.08\" cy=\"-276.43\" rx=\"38.37\" ry=\"37.45\"/>\n<text text-anchor=\"middle\" x=\"1436.08\" y=\"-287.73\" font-family=\"Times,serif\" font-size=\"14.00\">pNight</text>\n<text text-anchor=\"middle\" x=\"1436.08\" y=\"-272.73\" font-family=\"Times,serif\" font-size=\"14.00\">~</text>\n<text text-anchor=\"middle\" x=\"1436.08\" y=\"-257.73\" font-family=\"Times,serif\" font-size=\"14.00\">Beta</text>\n</g>\n<!-- pNight&#45;&gt;logit_p -->\n<g id=\"edge15\" class=\"edge\">\n<title>pNight&#45;&gt;logit_p</title>\n<path fill=\"none\" stroke=\"black\" d=\"M1407.15,-251.54C1401.32,-247.14 1395.12,-242.74 1389.08,-238.95 1367.26,-225.27 1341.98,-212.26 1319.95,-201.76\"/>\n<polygon fill=\"black\" stroke=\"black\" points=\"1321.27,-198.52 1310.73,-197.42 1318.29,-204.85 1321.27,-198.52\"/>\n</g>\n<!-- alpha_gender_1 -->\n<g id=\"node17\" class=\"node\">\n<title>alpha_gender_1</title>\n<ellipse fill=\"none\" stroke=\"black\" cx=\"1565.08\" cy=\"-276.43\" rx=\"72.66\" ry=\"37.45\"/>\n<text text-anchor=\"middle\" x=\"1565.08\" y=\"-287.73\" font-family=\"Times,serif\" font-size=\"14.00\">alpha_gender_1</text>\n<text text-anchor=\"middle\" x=\"1565.08\" y=\"-272.73\" font-family=\"Times,serif\" font-size=\"14.00\">~</text>\n<text text-anchor=\"middle\" x=\"1565.08\" y=\"-257.73\" font-family=\"Times,serif\" font-size=\"14.00\">Normal</text>\n</g>\n<!-- alpha_gender_1&#45;&gt;logit_p -->\n<g id=\"edge18\" class=\"edge\">\n<title>alpha_gender_1&#45;&gt;logit_p</title>\n<path fill=\"none\" stroke=\"black\" d=\"M1512.16,-250.56C1502.58,-246.44 1492.61,-242.4 1483.08,-238.95 1428.76,-219.32 1365,-201.97 1320.52,-190.75\"/>\n<polygon fill=\"black\" stroke=\"black\" points=\"1321.33,-187.34 1310.77,-188.31 1319.63,-194.13 1321.33,-187.34\"/>\n</g>\n<!-- beta_gender_0 -->\n<g id=\"node18\" class=\"node\">\n<title>beta_gender_0</title>\n<ellipse fill=\"none\" stroke=\"black\" cx=\"1724.08\" cy=\"-276.43\" rx=\"67.76\" ry=\"37.45\"/>\n<text text-anchor=\"middle\" x=\"1724.08\" y=\"-287.73\" font-family=\"Times,serif\" font-size=\"14.00\">beta_gender_0</text>\n<text text-anchor=\"middle\" x=\"1724.08\" y=\"-272.73\" font-family=\"Times,serif\" font-size=\"14.00\">~</text>\n<text text-anchor=\"middle\" x=\"1724.08\" y=\"-257.73\" font-family=\"Times,serif\" font-size=\"14.00\">Normal</text>\n</g>\n<!-- beta_gender_0&#45;&gt;logit_p -->\n<g id=\"edge19\" class=\"edge\">\n<title>beta_gender_0&#45;&gt;logit_p</title>\n<path fill=\"none\" stroke=\"black\" d=\"M1675.62,-249.95C1666.33,-245.79 1656.55,-241.89 1647.08,-238.95 1534.34,-203.95 1396.38,-188.03 1320.94,-181.48\"/>\n<polygon fill=\"black\" stroke=\"black\" points=\"1320.98,-177.97 1310.72,-180.61 1320.4,-184.94 1320.98,-177.97\"/>\n</g>\n<!-- beta_clear -->\n<g id=\"node19\" class=\"node\">\n<title>beta_clear</title>\n<ellipse fill=\"none\" stroke=\"black\" cx=\"1861.08\" cy=\"-276.43\" rx=\"50.82\" ry=\"37.45\"/>\n<text text-anchor=\"middle\" x=\"1861.08\" y=\"-287.73\" font-family=\"Times,serif\" font-size=\"14.00\">beta_clear</text>\n<text text-anchor=\"middle\" x=\"1861.08\" y=\"-272.73\" font-family=\"Times,serif\" font-size=\"14.00\">~</text>\n<text text-anchor=\"middle\" x=\"1861.08\" y=\"-257.73\" font-family=\"Times,serif\" font-size=\"14.00\">Normal</text>\n</g>\n<!-- beta_clear&#45;&gt;logit_p -->\n<g id=\"edge21\" class=\"edge\">\n<title>beta_clear&#45;&gt;logit_p</title>\n<path fill=\"none\" stroke=\"black\" d=\"M1824.87,-250.03C1817.3,-245.7 1809.16,-241.72 1801.08,-238.95 1713.25,-208.84 1439.96,-188.48 1321.17,-180.83\"/>\n<polygon fill=\"black\" stroke=\"black\" points=\"1321.05,-177.32 1310.84,-180.17 1320.6,-184.3 1321.05,-177.32\"/>\n</g>\n<!-- beta_dark -->\n<g id=\"node20\" class=\"node\">\n<title>beta_dark</title>\n<ellipse fill=\"none\" stroke=\"black\" cx=\"1979.08\" cy=\"-276.43\" rx=\"49.49\" ry=\"37.45\"/>\n<text text-anchor=\"middle\" x=\"1979.08\" y=\"-287.73\" font-family=\"Times,serif\" font-size=\"14.00\">beta_dark</text>\n<text text-anchor=\"middle\" x=\"1979.08\" y=\"-272.73\" font-family=\"Times,serif\" font-size=\"14.00\">~</text>\n<text text-anchor=\"middle\" x=\"1979.08\" y=\"-257.73\" font-family=\"Times,serif\" font-size=\"14.00\">Normal</text>\n</g>\n<!-- beta_dark&#45;&gt;logit_p -->\n<g id=\"edge22\" class=\"edge\">\n<title>beta_dark&#45;&gt;logit_p</title>\n<path fill=\"none\" stroke=\"black\" d=\"M1943.89,-249.7C1936.65,-245.46 1928.85,-241.59 1921.08,-238.95 1810.51,-201.39 1459.01,-184.63 1321.25,-179.38\"/>\n<polygon fill=\"black\" stroke=\"black\" points=\"1321.05,-175.87 1310.92,-178.99 1320.78,-182.86 1321.05,-175.87\"/>\n</g>\n<!-- alpha_gender_0 -->\n<g id=\"node21\" class=\"node\">\n<title>alpha_gender_0</title>\n<ellipse fill=\"none\" stroke=\"black\" cx=\"2119.08\" cy=\"-276.43\" rx=\"72.66\" ry=\"37.45\"/>\n<text text-anchor=\"middle\" x=\"2119.08\" y=\"-287.73\" font-family=\"Times,serif\" font-size=\"14.00\">alpha_gender_0</text>\n<text text-anchor=\"middle\" x=\"2119.08\" y=\"-272.73\" font-family=\"Times,serif\" font-size=\"14.00\">~</text>\n<text text-anchor=\"middle\" x=\"2119.08\" y=\"-257.73\" font-family=\"Times,serif\" font-size=\"14.00\">Normal</text>\n</g>\n<!-- alpha_gender_0&#45;&gt;logit_p -->\n<g id=\"edge23\" class=\"edge\">\n<title>alpha_gender_0&#45;&gt;logit_p</title>\n<path fill=\"none\" stroke=\"black\" d=\"M2067.98,-249.53C2057.95,-245.36 2047.35,-241.56 2037.08,-238.95 1901.19,-204.39 1474.24,-185.32 1320.74,-179.44\"/>\n<polygon fill=\"black\" stroke=\"black\" points=\"1320.73,-175.94 1310.6,-179.06 1320.46,-182.94 1320.73,-175.94\"/>\n</g>\n<!-- intercept -->\n<g id=\"node22\" class=\"node\">\n<title>intercept</title>\n<ellipse fill=\"none\" stroke=\"black\" cx=\"2255.08\" cy=\"-276.43\" rx=\"45.01\" ry=\"37.45\"/>\n<text text-anchor=\"middle\" x=\"2255.08\" y=\"-287.73\" font-family=\"Times,serif\" font-size=\"14.00\">intercept</text>\n<text text-anchor=\"middle\" x=\"2255.08\" y=\"-272.73\" font-family=\"Times,serif\" font-size=\"14.00\">~</text>\n<text text-anchor=\"middle\" x=\"2255.08\" y=\"-257.73\" font-family=\"Times,serif\" font-size=\"14.00\">Normal</text>\n</g>\n<!-- intercept&#45;&gt;logit_p -->\n<g id=\"edge24\" class=\"edge\">\n<title>intercept&#45;&gt;logit_p</title>\n<path fill=\"none\" stroke=\"black\" d=\"M2222.85,-249.71C2216.01,-245.41 2208.58,-241.52 2201.08,-238.95 2036.8,-182.71 1496.71,-177.49 1320.92,-177.32\"/>\n<polygon fill=\"black\" stroke=\"black\" points=\"1320.86,-173.82 1310.86,-177.32 1320.85,-180.82 1320.86,-173.82\"/>\n</g>\n<!-- mixture_over55 -->\n<g id=\"node23\" class=\"node\">\n<title>mixture_over55</title>\n<ellipse fill=\"none\" stroke=\"black\" cx=\"2392.08\" cy=\"-276.43\" rx=\"73.58\" ry=\"37.45\"/>\n<text text-anchor=\"middle\" x=\"2392.08\" y=\"-287.73\" font-family=\"Times,serif\" font-size=\"14.00\">mixture_over55</text>\n<text text-anchor=\"middle\" x=\"2392.08\" y=\"-272.73\" font-family=\"Times,serif\" font-size=\"14.00\">~</text>\n<text text-anchor=\"middle\" x=\"2392.08\" y=\"-257.73\" font-family=\"Times,serif\" font-size=\"14.00\">Bernoulli</text>\n</g>\n<!-- mixture_over55&#45;&gt;logit_p -->\n<g id=\"edge25\" class=\"edge\">\n<title>mixture_over55&#45;&gt;logit_p</title>\n<path fill=\"none\" stroke=\"black\" d=\"M2340.82,-249.55C2330.54,-245.32 2319.64,-241.5 2309.08,-238.95 2118.85,-193.11 1508.82,-180.87 1320.79,-178.14\"/>\n<polygon fill=\"black\" stroke=\"black\" points=\"1320.64,-174.64 1310.59,-178 1320.54,-181.64 1320.64,-174.64\"/>\n</g>\n<!-- pMidChange -->\n<g id=\"node24\" class=\"node\">\n<title>pMidChange</title>\n<ellipse fill=\"none\" stroke=\"black\" cx=\"618.08\" cy=\"-387.38\" rx=\"62.45\" ry=\"37.45\"/>\n<text text-anchor=\"middle\" x=\"618.08\" y=\"-398.68\" font-family=\"Times,serif\" font-size=\"14.00\">pMidChange</text>\n<text text-anchor=\"middle\" x=\"618.08\" y=\"-383.68\" font-family=\"Times,serif\" font-size=\"14.00\">~</text>\n<text text-anchor=\"middle\" x=\"618.08\" y=\"-368.68\" font-family=\"Times,serif\" font-size=\"14.00\">Beta</text>\n</g>\n<!-- pMidChange&#45;&gt;pMidday -->\n<g id=\"edge4\" class=\"edge\">\n<title>pMidChange&#45;&gt;pMidday</title>\n<path fill=\"none\" stroke=\"black\" d=\"M663.16,-361.5C687.39,-347.86 717.65,-330.41 744.08,-313.91 746.82,-312.2 749.61,-310.42 752.42,-308.61\"/>\n<polygon fill=\"black\" stroke=\"black\" points=\"754.39,-311.5 760.84,-303.1 750.56,-305.64 754.39,-311.5\"/>\n</g>\n<!-- pAftChange -->\n<g id=\"node25\" class=\"node\">\n<title>pAftChange</title>\n<ellipse fill=\"none\" stroke=\"black\" cx=\"1194.08\" cy=\"-387.38\" rx=\"58.88\" ry=\"37.45\"/>\n<text text-anchor=\"middle\" x=\"1194.08\" y=\"-398.68\" font-family=\"Times,serif\" font-size=\"14.00\">pAftChange</text>\n<text text-anchor=\"middle\" x=\"1194.08\" y=\"-383.68\" font-family=\"Times,serif\" font-size=\"14.00\">~</text>\n<text text-anchor=\"middle\" x=\"1194.08\" y=\"-368.68\" font-family=\"Times,serif\" font-size=\"14.00\">Beta</text>\n</g>\n<!-- pAftChange&#45;&gt;pAfternoon -->\n<g id=\"edge8\" class=\"edge\">\n<title>pAftChange&#45;&gt;pAfternoon</title>\n<path fill=\"none\" stroke=\"black\" d=\"M1151.76,-361.36C1143.43,-357.11 1134.63,-353.06 1126.08,-349.91 1055.67,-323.92 1030.09,-343.44 961.08,-313.91 957.22,-312.25 953.35,-310.31 949.54,-308.2\"/>\n<polygon fill=\"black\" stroke=\"black\" points=\"951.21,-305.12 940.82,-303.03 947.63,-311.14 951.21,-305.12\"/>\n</g>\n<!-- Y -->\n<g id=\"node26\" class=\"node\">\n<title>Y</title>\n<ellipse fill=\"lightgrey\" stroke=\"black\" cx=\"1265.08\" cy=\"-76.48\" rx=\"48.17\" ry=\"37.45\"/>\n<text text-anchor=\"middle\" x=\"1265.08\" y=\"-87.78\" font-family=\"Times,serif\" font-size=\"14.00\">Y</text>\n<text text-anchor=\"middle\" x=\"1265.08\" y=\"-72.78\" font-family=\"Times,serif\" font-size=\"14.00\">~</text>\n<text text-anchor=\"middle\" x=\"1265.08\" y=\"-57.78\" font-family=\"Times,serif\" font-size=\"14.00\">Bernoulli</text>\n</g>\n<!-- logit_p&#45;&gt;Y -->\n<g id=\"edge28\" class=\"edge\">\n<title>logit_p&#45;&gt;Y</title>\n<path fill=\"none\" stroke=\"black\" d=\"M1265.08,-149.71C1265.08,-141.89 1265.08,-133.03 1265.08,-124.27\"/>\n<polygon fill=\"black\" stroke=\"black\" points=\"1268.58,-124.1 1265.08,-114.1 1261.58,-124.1 1268.58,-124.1\"/>\n</g>\n</g>\n</svg>\n",
            "text/plain": [
              "<graphviz.graphs.Digraph at 0x793398e99480>"
            ]
          },
          "metadata": {},
          "execution_count": 58
        }
      ],
      "source": [
        "pm.model_to_graphviz(mixture_model)"
      ]
    },
    {
      "cell_type": "code",
      "execution_count": 59,
      "metadata": {
        "id": "fdHiavW5ZFM7",
        "colab": {
          "base_uri": "https://localhost:8080/",
          "height": 458
        },
        "outputId": "9b416b50-9ccf-4555-ecbc-2a9f3f719c1f"
      },
      "outputs": [
        {
          "output_type": "execute_result",
          "data": {
            "text/plain": [
              "array([[<Axes: title={'center': 'alpha_gender_1'}>,\n",
              "        <Axes: title={'center': 'alpha_gender_1'}>],\n",
              "       [<Axes: title={'center': 'alpha_gender_0'}>,\n",
              "        <Axes: title={'center': 'alpha_gender_0'}>]], dtype=object)"
            ]
          },
          "metadata": {},
          "execution_count": 59
        },
        {
          "output_type": "display_data",
          "data": {
            "text/plain": [
              "<Figure size 1200x400 with 4 Axes>"
            ],
            "image/png": "[encoded data removed]"
          },
          "metadata": {}
        }
      ],
      "source": [
        "az.plot_trace(idata_4, var_names=['alpha_gender_1', 'alpha_gender_0'], combined=True) #alpha_over55_1, beta_over55_1, alpha_over55_0, beta_over55_0, alpha_gender_1,alpha_gender_0, beta_gender_0, beta_gender_1, mixture_gender, gender_component"
      ]
    },
    {
      "cell_type": "markdown",
      "metadata": {
        "id": "b1PXu34LuQRA"
      },
      "source": [
        "# Model diagnostic Part II\n",
        "\n"
      ]
    },
    {
      "cell_type": "code",
      "execution_count": 60,
      "metadata": {
        "colab": {
          "base_uri": "https://localhost:8080/",
          "height": 57
        },
        "id": "0JiNl4JdvzZz",
        "outputId": "940e871f-766b-46da-9553-6b7561f9a60f"
      },
      "outputs": [
        {
          "output_type": "display_data",
          "data": {
            "text/plain": [
              "<IPython.core.display.HTML object>"
            ],
            "text/html": [
              "\n",
              "<style>\n",
              "    /* Turns off some styling */\n",
              "    progress {\n",
              "        /* gets rid of default border in Firefox and Opera. */\n",
              "        border: none;\n",
              "        /* Needs to be in here for Safari polyfill so background images work as expected. */\n",
              "        background-size: auto;\n",
              "    }\n",
              "    progress:not([value]), progress:not([value])::-webkit-progress-bar {\n",
              "        background: repeating-linear-gradient(45deg, #7e7e7e, #7e7e7e 10px, #5c5c5c 10px, #5c5c5c 20px);\n",
              "    }\n",
              "    .progress-bar-interrupted, .progress-bar-interrupted::-webkit-progress-bar {\n",
              "        background: #F44336;\n",
              "    }\n",
              "</style>\n"
            ]
          },
          "metadata": {}
        },
        {
          "output_type": "display_data",
          "data": {
            "text/plain": [
              "<IPython.core.display.HTML object>"
            ],
            "text/html": [
              "\n",
              "    <div>\n",
              "      <progress value='2000' class='' max='2000' style='width:300px; height:20px; vertical-align: middle;'></progress>\n",
              "      100.00% [2000/2000 00:09&lt;00:00 Sampling chain 0, 0 divergences]\n",
              "    </div>\n",
              "    "
            ]
          },
          "metadata": {}
        },
        {
          "output_type": "display_data",
          "data": {
            "text/plain": [
              "<IPython.core.display.HTML object>"
            ],
            "text/html": [
              "\n",
              "<style>\n",
              "    /* Turns off some styling */\n",
              "    progress {\n",
              "        /* gets rid of default border in Firefox and Opera. */\n",
              "        border: none;\n",
              "        /* Needs to be in here for Safari polyfill so background images work as expected. */\n",
              "        background-size: auto;\n",
              "    }\n",
              "    progress:not([value]), progress:not([value])::-webkit-progress-bar {\n",
              "        background: repeating-linear-gradient(45deg, #7e7e7e, #7e7e7e 10px, #5c5c5c 10px, #5c5c5c 20px);\n",
              "    }\n",
              "    .progress-bar-interrupted, .progress-bar-interrupted::-webkit-progress-bar {\n",
              "        background: #F44336;\n",
              "    }\n",
              "</style>\n"
            ]
          },
          "metadata": {}
        },
        {
          "output_type": "display_data",
          "data": {
            "text/plain": [
              "<IPython.core.display.HTML object>"
            ],
            "text/html": [
              "\n",
              "    <div>\n",
              "      <progress value='2000' class='' max='2000' style='width:300px; height:20px; vertical-align: middle;'></progress>\n",
              "      100.00% [2000/2000 00:09&lt;00:00 Sampling chain 1, 0 divergences]\n",
              "    </div>\n",
              "    "
            ]
          },
          "metadata": {}
        }
      ],
      "source": [
        "# Baisc regression model for comparison\n",
        "with pm.Model() as model_basic:\n",
        "    beta_0 = pm.Normal('beta_0', mu=0, sigma=1)\n",
        "    beta_1 = pm.Normal('beta_1', mu=0, sigma=1)\n",
        "    beta_2 = pm.Normal('beta_2', mu=0, sigma=1)\n",
        "    beta_3 = pm.Normal('beta_3', mu=0, sigma=1)\n",
        "    beta_4 = pm.Normal('beta_4', mu=0, sigma=1)\n",
        "    beta_5 = pm.Normal('beta_5', mu=0, sigma=1)\n",
        "    beta_dark = pm.Normal('beta_dark', mu=0, sigma=1)  # Prior for 'Dark'\n",
        "    beta_clear = pm.Normal('beta_clear', mu=0, sigma=1)  # Prior for 'Clear'\n",
        "\n",
        "    # Linear combination of predictors\n",
        "    logit_p = beta_0 + beta_1*x6 +beta_2*x7 +beta_3*x8 +beta_4*x9 +beta_5*x10 + beta_clear*x2 + beta_dark*x4\n",
        "    logit_p = pm.Deterministic('logit_p',logit_p)\n",
        "\n",
        "    Basic_Y = pm.Bernoulli('Basic_Y', logit_p = logit_p, observed=y)\n",
        "\n",
        "    idata_3 = pm.sample()"
      ]
    },
    {
      "cell_type": "code",
      "execution_count": 61,
      "metadata": {
        "colab": {
          "base_uri": "https://localhost:8080/",
          "height": 197
        },
        "id": "AHaOKLjNuyg6",
        "outputId": "7a63f270-540b-449d-bfbe-fcafad849b88"
      },
      "outputs": [
        {
          "output_type": "display_data",
          "data": {
            "text/plain": [
              "<IPython.core.display.HTML object>"
            ],
            "text/html": [
              "\n",
              "<style>\n",
              "    /* Turns off some styling */\n",
              "    progress {\n",
              "        /* gets rid of default border in Firefox and Opera. */\n",
              "        border: none;\n",
              "        /* Needs to be in here for Safari polyfill so background images work as expected. */\n",
              "        background-size: auto;\n",
              "    }\n",
              "    progress:not([value]), progress:not([value])::-webkit-progress-bar {\n",
              "        background: repeating-linear-gradient(45deg, #7e7e7e, #7e7e7e 10px, #5c5c5c 10px, #5c5c5c 20px);\n",
              "    }\n",
              "    .progress-bar-interrupted, .progress-bar-interrupted::-webkit-progress-bar {\n",
              "        background: #F44336;\n",
              "    }\n",
              "</style>\n"
            ]
          },
          "metadata": {}
        },
        {
          "output_type": "display_data",
          "data": {
            "text/plain": [
              "<IPython.core.display.HTML object>"
            ],
            "text/html": [
              "\n",
              "    <div>\n",
              "      <progress value='3000' class='' max='3000' style='width:300px; height:20px; vertical-align: middle;'></progress>\n",
              "      100.00% [3000/3000 00:43&lt;00:00 Sampling chain 0, 0 divergences]\n",
              "    </div>\n",
              "    "
            ]
          },
          "metadata": {}
        },
        {
          "output_type": "display_data",
          "data": {
            "text/plain": [
              "<IPython.core.display.HTML object>"
            ],
            "text/html": [
              "\n",
              "<style>\n",
              "    /* Turns off some styling */\n",
              "    progress {\n",
              "        /* gets rid of default border in Firefox and Opera. */\n",
              "        border: none;\n",
              "        /* Needs to be in here for Safari polyfill so background images work as expected. */\n",
              "        background-size: auto;\n",
              "    }\n",
              "    progress:not([value]), progress:not([value])::-webkit-progress-bar {\n",
              "        background: repeating-linear-gradient(45deg, #7e7e7e, #7e7e7e 10px, #5c5c5c 10px, #5c5c5c 20px);\n",
              "    }\n",
              "    .progress-bar-interrupted, .progress-bar-interrupted::-webkit-progress-bar {\n",
              "        background: #F44336;\n",
              "    }\n",
              "</style>\n"
            ]
          },
          "metadata": {}
        },
        {
          "output_type": "display_data",
          "data": {
            "text/plain": [
              "<IPython.core.display.HTML object>"
            ],
            "text/html": [
              "\n",
              "    <div>\n",
              "      <progress value='3000' class='' max='3000' style='width:300px; height:20px; vertical-align: middle;'></progress>\n",
              "      100.00% [3000/3000 00:41&lt;00:00 Sampling chain 1, 0 divergences]\n",
              "    </div>\n",
              "    "
            ]
          },
          "metadata": {}
        },
        {
          "output_type": "display_data",
          "data": {
            "text/plain": [
              "<IPython.core.display.HTML object>"
            ],
            "text/html": [
              "\n",
              "<style>\n",
              "    /* Turns off some styling */\n",
              "    progress {\n",
              "        /* gets rid of default border in Firefox and Opera. */\n",
              "        border: none;\n",
              "        /* Needs to be in here for Safari polyfill so background images work as expected. */\n",
              "        background-size: auto;\n",
              "    }\n",
              "    progress:not([value]), progress:not([value])::-webkit-progress-bar {\n",
              "        background: repeating-linear-gradient(45deg, #7e7e7e, #7e7e7e 10px, #5c5c5c 10px, #5c5c5c 20px);\n",
              "    }\n",
              "    .progress-bar-interrupted, .progress-bar-interrupted::-webkit-progress-bar {\n",
              "        background: #F44336;\n",
              "    }\n",
              "</style>\n"
            ]
          },
          "metadata": {}
        },
        {
          "output_type": "display_data",
          "data": {
            "text/plain": [
              "<IPython.core.display.HTML object>"
            ],
            "text/html": [
              "\n",
              "    <div>\n",
              "      <progress value='4000' class='' max='4000' style='width:300px; height:20px; vertical-align: middle;'></progress>\n",
              "      100.00% [4000/4000 00:01&lt;00:00]\n",
              "    </div>\n",
              "    "
            ]
          },
          "metadata": {}
        },
        {
          "output_type": "display_data",
          "data": {
            "text/plain": [
              "<IPython.core.display.HTML object>"
            ],
            "text/html": [
              "\n",
              "<style>\n",
              "    /* Turns off some styling */\n",
              "    progress {\n",
              "        /* gets rid of default border in Firefox and Opera. */\n",
              "        border: none;\n",
              "        /* Needs to be in here for Safari polyfill so background images work as expected. */\n",
              "        background-size: auto;\n",
              "    }\n",
              "    progress:not([value]), progress:not([value])::-webkit-progress-bar {\n",
              "        background: repeating-linear-gradient(45deg, #7e7e7e, #7e7e7e 10px, #5c5c5c 10px, #5c5c5c 20px);\n",
              "    }\n",
              "    .progress-bar-interrupted, .progress-bar-interrupted::-webkit-progress-bar {\n",
              "        background: #F44336;\n",
              "    }\n",
              "</style>\n"
            ]
          },
          "metadata": {}
        },
        {
          "output_type": "display_data",
          "data": {
            "text/plain": [
              "<IPython.core.display.HTML object>"
            ],
            "text/html": [
              "\n",
              "    <div>\n",
              "      <progress value='3000' class='' max='3000' style='width:300px; height:20px; vertical-align: middle;'></progress>\n",
              "      100.00% [3000/3000 00:18&lt;00:00 Sampling chain 0, 0 divergences]\n",
              "    </div>\n",
              "    "
            ]
          },
          "metadata": {}
        },
        {
          "output_type": "display_data",
          "data": {
            "text/plain": [
              "<IPython.core.display.HTML object>"
            ],
            "text/html": [
              "\n",
              "<style>\n",
              "    /* Turns off some styling */\n",
              "    progress {\n",
              "        /* gets rid of default border in Firefox and Opera. */\n",
              "        border: none;\n",
              "        /* Needs to be in here for Safari polyfill so background images work as expected. */\n",
              "        background-size: auto;\n",
              "    }\n",
              "    progress:not([value]), progress:not([value])::-webkit-progress-bar {\n",
              "        background: repeating-linear-gradient(45deg, #7e7e7e, #7e7e7e 10px, #5c5c5c 10px, #5c5c5c 20px);\n",
              "    }\n",
              "    .progress-bar-interrupted, .progress-bar-interrupted::-webkit-progress-bar {\n",
              "        background: #F44336;\n",
              "    }\n",
              "</style>\n"
            ]
          },
          "metadata": {}
        },
        {
          "output_type": "display_data",
          "data": {
            "text/plain": [
              "<IPython.core.display.HTML object>"
            ],
            "text/html": [
              "\n",
              "    <div>\n",
              "      <progress value='3000' class='' max='3000' style='width:300px; height:20px; vertical-align: middle;'></progress>\n",
              "      100.00% [3000/3000 00:19&lt;00:00 Sampling chain 1, 0 divergences]\n",
              "    </div>\n",
              "    "
            ]
          },
          "metadata": {}
        },
        {
          "output_type": "display_data",
          "data": {
            "text/plain": [
              "<IPython.core.display.HTML object>"
            ],
            "text/html": [
              "\n",
              "<style>\n",
              "    /* Turns off some styling */\n",
              "    progress {\n",
              "        /* gets rid of default border in Firefox and Opera. */\n",
              "        border: none;\n",
              "        /* Needs to be in here for Safari polyfill so background images work as expected. */\n",
              "        background-size: auto;\n",
              "    }\n",
              "    progress:not([value]), progress:not([value])::-webkit-progress-bar {\n",
              "        background: repeating-linear-gradient(45deg, #7e7e7e, #7e7e7e 10px, #5c5c5c 10px, #5c5c5c 20px);\n",
              "    }\n",
              "    .progress-bar-interrupted, .progress-bar-interrupted::-webkit-progress-bar {\n",
              "        background: #F44336;\n",
              "    }\n",
              "</style>\n"
            ]
          },
          "metadata": {}
        },
        {
          "output_type": "display_data",
          "data": {
            "text/plain": [
              "<IPython.core.display.HTML object>"
            ],
            "text/html": [
              "\n",
              "    <div>\n",
              "      <progress value='4000' class='' max='4000' style='width:300px; height:20px; vertical-align: middle;'></progress>\n",
              "      100.00% [4000/4000 00:00&lt;00:00]\n",
              "    </div>\n",
              "    "
            ]
          },
          "metadata": {}
        },
        {
          "output_type": "display_data",
          "data": {
            "text/plain": [
              "<IPython.core.display.HTML object>"
            ],
            "text/html": [
              "\n",
              "<style>\n",
              "    /* Turns off some styling */\n",
              "    progress {\n",
              "        /* gets rid of default border in Firefox and Opera. */\n",
              "        border: none;\n",
              "        /* Needs to be in here for Safari polyfill so background images work as expected. */\n",
              "        background-size: auto;\n",
              "    }\n",
              "    progress:not([value]), progress:not([value])::-webkit-progress-bar {\n",
              "        background: repeating-linear-gradient(45deg, #7e7e7e, #7e7e7e 10px, #5c5c5c 10px, #5c5c5c 20px);\n",
              "    }\n",
              "    .progress-bar-interrupted, .progress-bar-interrupted::-webkit-progress-bar {\n",
              "        background: #F44336;\n",
              "    }\n",
              "</style>\n"
            ]
          },
          "metadata": {}
        },
        {
          "output_type": "display_data",
          "data": {
            "text/plain": [
              "<IPython.core.display.HTML object>"
            ],
            "text/html": [
              "\n",
              "    <div>\n",
              "      <progress value='3000' class='' max='3000' style='width:300px; height:20px; vertical-align: middle;'></progress>\n",
              "      100.00% [3000/3000 00:13&lt;00:00 Sampling chain 0, 0 divergences]\n",
              "    </div>\n",
              "    "
            ]
          },
          "metadata": {}
        },
        {
          "output_type": "display_data",
          "data": {
            "text/plain": [
              "<IPython.core.display.HTML object>"
            ],
            "text/html": [
              "\n",
              "<style>\n",
              "    /* Turns off some styling */\n",
              "    progress {\n",
              "        /* gets rid of default border in Firefox and Opera. */\n",
              "        border: none;\n",
              "        /* Needs to be in here for Safari polyfill so background images work as expected. */\n",
              "        background-size: auto;\n",
              "    }\n",
              "    progress:not([value]), progress:not([value])::-webkit-progress-bar {\n",
              "        background: repeating-linear-gradient(45deg, #7e7e7e, #7e7e7e 10px, #5c5c5c 10px, #5c5c5c 20px);\n",
              "    }\n",
              "    .progress-bar-interrupted, .progress-bar-interrupted::-webkit-progress-bar {\n",
              "        background: #F44336;\n",
              "    }\n",
              "</style>\n"
            ]
          },
          "metadata": {}
        },
        {
          "output_type": "display_data",
          "data": {
            "text/plain": [
              "<IPython.core.display.HTML object>"
            ],
            "text/html": [
              "\n",
              "    <div>\n",
              "      <progress value='3000' class='' max='3000' style='width:300px; height:20px; vertical-align: middle;'></progress>\n",
              "      100.00% [3000/3000 00:13&lt;00:00 Sampling chain 1, 0 divergences]\n",
              "    </div>\n",
              "    "
            ]
          },
          "metadata": {}
        },
        {
          "output_type": "display_data",
          "data": {
            "text/plain": [
              "<IPython.core.display.HTML object>"
            ],
            "text/html": [
              "\n",
              "<style>\n",
              "    /* Turns off some styling */\n",
              "    progress {\n",
              "        /* gets rid of default border in Firefox and Opera. */\n",
              "        border: none;\n",
              "        /* Needs to be in here for Safari polyfill so background images work as expected. */\n",
              "        background-size: auto;\n",
              "    }\n",
              "    progress:not([value]), progress:not([value])::-webkit-progress-bar {\n",
              "        background: repeating-linear-gradient(45deg, #7e7e7e, #7e7e7e 10px, #5c5c5c 10px, #5c5c5c 20px);\n",
              "    }\n",
              "    .progress-bar-interrupted, .progress-bar-interrupted::-webkit-progress-bar {\n",
              "        background: #F44336;\n",
              "    }\n",
              "</style>\n"
            ]
          },
          "metadata": {}
        },
        {
          "output_type": "display_data",
          "data": {
            "text/plain": [
              "<IPython.core.display.HTML object>"
            ],
            "text/html": [
              "\n",
              "    <div>\n",
              "      <progress value='4000' class='' max='4000' style='width:300px; height:20px; vertical-align: middle;'></progress>\n",
              "      100.00% [4000/4000 00:00&lt;00:00]\n",
              "    </div>\n",
              "    "
            ]
          },
          "metadata": {}
        }
      ],
      "source": [
        "with mixture_model:\n",
        "    trace_mix = pm.sample(2000, tune=1000)\n",
        "    pm.compute_log_likelihood(trace_mix)\n",
        "\n",
        "with complete_model:\n",
        "    trace_complete = pm.sample(2000, tune=1000)\n",
        "    pm.compute_log_likelihood(trace_complete)\n",
        "\n",
        "with model_basic:\n",
        "    trace_basic = pm.sample(2000, tune=1000)\n",
        "    pm.compute_log_likelihood(trace_basic)\n"
      ]
    },
    {
      "cell_type": "code",
      "execution_count": 62,
      "metadata": {
        "colab": {
          "base_uri": "https://localhost:8080/"
        },
        "id": "ANY2uI0C-cia",
        "outputId": "0faa8a7f-dcbf-477d-eb26-443d84d86975"
      },
      "outputs": [
        {
          "output_type": "stream",
          "name": "stderr",
          "text": [
            "<ipython-input-62-6b3c8ef858ff>:1: DeprecationWarning: `product` is deprecated as of NumPy 1.25.0, and will be removed in NumPy 2.0. Please use `prod` instead.\n",
            "  az.waic(trace_mix)\n"
          ]
        },
        {
          "output_type": "execute_result",
          "data": {
            "text/plain": [
              "Computed from 4000 posterior samples and 100 observations log-likelihood matrix.\n",
              "\n",
              "          Estimate       SE\n",
              "elpd_waic   -67.99     2.66\n",
              "p_waic        3.42        -"
            ]
          },
          "metadata": {},
          "execution_count": 62
        }
      ],
      "source": [
        "az.waic(trace_mix)"
      ]
    },
    {
      "cell_type": "code",
      "execution_count": 63,
      "metadata": {
        "colab": {
          "base_uri": "https://localhost:8080/",
          "height": 144
        },
        "id": "NNWzIuke8b44",
        "outputId": "a7cd1fae-9369-484d-caa9-cf52f22f3d08"
      },
      "outputs": [
        {
          "output_type": "execute_result",
          "data": {
            "text/plain": [
              "                rank  elpd_waic    p_waic  elpd_diff  weight        se  \\\n",
              "complete model     0 -67.593744  2.679459   0.000000     1.0  2.610005   \n",
              "mixture model      1 -67.988788  3.424237   0.395044     0.0  2.656363   \n",
              "basic model        2 -68.932295  4.490676   1.338552     0.0  2.908771   \n",
              "\n",
              "                     dse  warning scale  \n",
              "complete model  0.000000    False   log  \n",
              "mixture model   0.345842    False   log  \n",
              "basic model     0.854449    False   log  "
            ],
            "text/html": [
              "\n",
              "  <div id=\"df-69b75eb6-76c6-47c1-9d6c-1e22846cea5d\" class=\"colab-df-container\">\n",
              "    <div>\n",
              "<style scoped>\n",
              "    .dataframe tbody tr th:only-of-type {\n",
              "        vertical-align: middle;\n",
              "    }\n",
              "\n",
              "    .dataframe tbody tr th {\n",
              "        vertical-align: top;\n",
              "    }\n",
              "\n",
              "    .dataframe thead th {\n",
              "        text-align: right;\n",
              "    }\n",
              "</style>\n",
              "<table border=\"1\" class=\"dataframe\">\n",
              "  <thead>\n",
              "    <tr style=\"text-align: right;\">\n",
              "      <th></th>\n",
              "      <th>rank</th>\n",
              "      <th>elpd_waic</th>\n",
              "      <th>p_waic</th>\n",
              "      <th>elpd_diff</th>\n",
              "      <th>weight</th>\n",
              "      <th>se</th>\n",
              "      <th>dse</th>\n",
              "      <th>warning</th>\n",
              "      <th>scale</th>\n",
              "    </tr>\n",
              "  </thead>\n",
              "  <tbody>\n",
              "    <tr>\n",
              "      <th>complete model</th>\n",
              "      <td>0</td>\n",
              "      <td>-67.593744</td>\n",
              "      <td>2.679459</td>\n",
              "      <td>0.000000</td>\n",
              "      <td>1.0</td>\n",
              "      <td>2.610005</td>\n",
              "      <td>0.000000</td>\n",
              "      <td>False</td>\n",
              "      <td>log</td>\n",
              "    </tr>\n",
              "    <tr>\n",
              "      <th>mixture model</th>\n",
              "      <td>1</td>\n",
              "      <td>-67.988788</td>\n",
              "      <td>3.424237</td>\n",
              "      <td>0.395044</td>\n",
              "      <td>0.0</td>\n",
              "      <td>2.656363</td>\n",
              "      <td>0.345842</td>\n",
              "      <td>False</td>\n",
              "      <td>log</td>\n",
              "    </tr>\n",
              "    <tr>\n",
              "      <th>basic model</th>\n",
              "      <td>2</td>\n",
              "      <td>-68.932295</td>\n",
              "      <td>4.490676</td>\n",
              "      <td>1.338552</td>\n",
              "      <td>0.0</td>\n",
              "      <td>2.908771</td>\n",
              "      <td>0.854449</td>\n",
              "      <td>False</td>\n",
              "      <td>log</td>\n",
              "    </tr>\n",
              "  </tbody>\n",
              "</table>\n",
              "</div>\n",
              "    <div class=\"colab-df-buttons\">\n",
              "\n",
              "  <div class=\"colab-df-container\">\n",
              "    <button class=\"colab-df-convert\" onclick=\"convertToInteractive('df-69b75eb6-76c6-47c1-9d6c-1e22846cea5d')\"\n",
              "            title=\"Convert this dataframe to an interactive table.\"\n",
              "            style=\"display:none;\">\n",
              "\n",
              "  <svg xmlns=\"http://www.w3.org/2000/svg\" height=\"24px\" viewBox=\"0 -960 960 960\">\n",
              "    <path d=\"M120-120v-720h720v720H120Zm60-500h600v-160H180v160Zm220 220h160v-160H400v160Zm0 220h160v-160H400v160ZM180-400h160v-160H180v160Zm440 0h160v-160H620v160ZM180-180h160v-160H180v160Zm440 0h160v-160H620v160Z\"/>\n",
              "  </svg>\n",
              "    </button>\n",
              "\n",
              "  <style>\n",
              "    .colab-df-container {\n",
              "      display:flex;\n",
              "      gap: 12px;\n",
              "    }\n",
              "\n",
              "    .colab-df-convert {\n",
              "      background-color: #E8F0FE;\n",
              "      border: none;\n",
              "      border-radius: 50%;\n",
              "      cursor: pointer;\n",
              "      display: none;\n",
              "      fill: #1967D2;\n",
              "      height: 32px;\n",
              "      padding: 0 0 0 0;\n",
              "      width: 32px;\n",
              "    }\n",
              "\n",
              "    .colab-df-convert:hover {\n",
              "      background-color: #E2EBFA;\n",
              "      box-shadow: 0px 1px 2px rgba(60, 64, 67, 0.3), 0px 1px 3px 1px rgba(60, 64, 67, 0.15);\n",
              "      fill: #174EA6;\n",
              "    }\n",
              "\n",
              "    .colab-df-buttons div {\n",
              "      margin-bottom: 4px;\n",
              "    }\n",
              "\n",
              "    [theme=dark] .colab-df-convert {\n",
              "      background-color: #3B4455;\n",
              "      fill: #D2E3FC;\n",
              "    }\n",
              "\n",
              "    [theme=dark] .colab-df-convert:hover {\n",
              "      background-color: #434B5C;\n",
              "      box-shadow: 0px 1px 3px 1px rgba(0, 0, 0, 0.15);\n",
              "      filter: drop-shadow(0px 1px 2px rgba(0, 0, 0, 0.3));\n",
              "      fill: #FFFFFF;\n",
              "    }\n",
              "  </style>\n",
              "\n",
              "    <script>\n",
              "      const buttonEl =\n",
              "        document.querySelector('#df-69b75eb6-76c6-47c1-9d6c-1e22846cea5d button.colab-df-convert');\n",
              "      buttonEl.style.display =\n",
              "        google.colab.kernel.accessAllowed ? 'block' : 'none';\n",
              "\n",
              "      async function convertToInteractive(key) {\n",
              "        const element = document.querySelector('#df-69b75eb6-76c6-47c1-9d6c-1e22846cea5d');\n",
              "        const dataTable =\n",
              "          await google.colab.kernel.invokeFunction('convertToInteractive',\n",
              "                                                    [key], {});\n",
              "        if (!dataTable) return;\n",
              "\n",
              "        const docLinkHtml = 'Like what you see? Visit the ' +\n",
              "          '<a target=\"_blank\" href=https://colab.research.google.com/notebooks/data_table.ipynb>data table notebook</a>'\n",
              "          + ' to learn more about interactive tables.';\n",
              "        element.innerHTML = '';\n",
              "        dataTable['output_type'] = 'display_data';\n",
              "        await google.colab.output.renderOutput(dataTable, element);\n",
              "        const docLink = document.createElement('div');\n",
              "        docLink.innerHTML = docLinkHtml;\n",
              "        element.appendChild(docLink);\n",
              "      }\n",
              "    </script>\n",
              "  </div>\n",
              "\n",
              "\n",
              "<div id=\"df-a13fbb83-c6a8-49f5-8d7d-4e66b61a36cc\">\n",
              "  <button class=\"colab-df-quickchart\" onclick=\"quickchart('df-a13fbb83-c6a8-49f5-8d7d-4e66b61a36cc')\"\n",
              "            title=\"Suggest charts\"\n",
              "            style=\"display:none;\">\n",
              "\n",
              "<svg xmlns=\"http://www.w3.org/2000/svg\" height=\"24px\"viewBox=\"0 0 24 24\"\n",
              "     width=\"24px\">\n",
              "    <g>\n",
              "        <path d=\"M19 3H5c-1.1 0-2 .9-2 2v14c0 1.1.9 2 2 2h14c1.1 0 2-.9 2-2V5c0-1.1-.9-2-2-2zM9 17H7v-7h2v7zm4 0h-2V7h2v10zm4 0h-2v-4h2v4z\"/>\n",
              "    </g>\n",
              "</svg>\n",
              "  </button>\n",
              "\n",
              "<style>\n",
              "  .colab-df-quickchart {\n",
              "      --bg-color: #E8F0FE;\n",
              "      --fill-color: #1967D2;\n",
              "      --hover-bg-color: #E2EBFA;\n",
              "      --hover-fill-color: #174EA6;\n",
              "      --disabled-fill-color: #AAA;\n",
              "      --disabled-bg-color: #DDD;\n",
              "  }\n",
              "\n",
              "  [theme=dark] .colab-df-quickchart {\n",
              "      --bg-color: #3B4455;\n",
              "      --fill-color: #D2E3FC;\n",
              "      --hover-bg-color: #434B5C;\n",
              "      --hover-fill-color: #FFFFFF;\n",
              "      --disabled-bg-color: #3B4455;\n",
              "      --disabled-fill-color: #666;\n",
              "  }\n",
              "\n",
              "  .colab-df-quickchart {\n",
              "    background-color: var(--bg-color);\n",
              "    border: none;\n",
              "    border-radius: 50%;\n",
              "    cursor: pointer;\n",
              "    display: none;\n",
              "    fill: var(--fill-color);\n",
              "    height: 32px;\n",
              "    padding: 0;\n",
              "    width: 32px;\n",
              "  }\n",
              "\n",
              "  .colab-df-quickchart:hover {\n",
              "    background-color: var(--hover-bg-color);\n",
              "    box-shadow: 0 1px 2px rgba(60, 64, 67, 0.3), 0 1px 3px 1px rgba(60, 64, 67, 0.15);\n",
              "    fill: var(--button-hover-fill-color);\n",
              "  }\n",
              "\n",
              "  .colab-df-quickchart-complete:disabled,\n",
              "  .colab-df-quickchart-complete:disabled:hover {\n",
              "    background-color: var(--disabled-bg-color);\n",
              "    fill: var(--disabled-fill-color);\n",
              "    box-shadow: none;\n",
              "  }\n",
              "\n",
              "  .colab-df-spinner {\n",
              "    border: 2px solid var(--fill-color);\n",
              "    border-color: transparent;\n",
              "    border-bottom-color: var(--fill-color);\n",
              "    animation:\n",
              "      spin 1s steps(1) infinite;\n",
              "  }\n",
              "\n",
              "  @keyframes spin {\n",
              "    0% {\n",
              "      border-color: transparent;\n",
              "      border-bottom-color: var(--fill-color);\n",
              "      border-left-color: var(--fill-color);\n",
              "    }\n",
              "    20% {\n",
              "      border-color: transparent;\n",
              "      border-left-color: var(--fill-color);\n",
              "      border-top-color: var(--fill-color);\n",
              "    }\n",
              "    30% {\n",
              "      border-color: transparent;\n",
              "      border-left-color: var(--fill-color);\n",
              "      border-top-color: var(--fill-color);\n",
              "      border-right-color: var(--fill-color);\n",
              "    }\n",
              "    40% {\n",
              "      border-color: transparent;\n",
              "      border-right-color: var(--fill-color);\n",
              "      border-top-color: var(--fill-color);\n",
              "    }\n",
              "    60% {\n",
              "      border-color: transparent;\n",
              "      border-right-color: var(--fill-color);\n",
              "    }\n",
              "    80% {\n",
              "      border-color: transparent;\n",
              "      border-right-color: var(--fill-color);\n",
              "      border-bottom-color: var(--fill-color);\n",
              "    }\n",
              "    90% {\n",
              "      border-color: transparent;\n",
              "      border-bottom-color: var(--fill-color);\n",
              "    }\n",
              "  }\n",
              "</style>\n",
              "\n",
              "  <script>\n",
              "    async function quickchart(key) {\n",
              "      const quickchartButtonEl =\n",
              "        document.querySelector('#' + key + ' button');\n",
              "      quickchartButtonEl.disabled = true;  // To prevent multiple clicks.\n",
              "      quickchartButtonEl.classList.add('colab-df-spinner');\n",
              "      try {\n",
              "        const charts = await google.colab.kernel.invokeFunction(\n",
              "            'suggestCharts', [key], {});\n",
              "      } catch (error) {\n",
              "        console.error('Error during call to suggestCharts:', error);\n",
              "      }\n",
              "      quickchartButtonEl.classList.remove('colab-df-spinner');\n",
              "      quickchartButtonEl.classList.add('colab-df-quickchart-complete');\n",
              "    }\n",
              "    (() => {\n",
              "      let quickchartButtonEl =\n",
              "        document.querySelector('#df-a13fbb83-c6a8-49f5-8d7d-4e66b61a36cc button');\n",
              "      quickchartButtonEl.style.display =\n",
              "        google.colab.kernel.accessAllowed ? 'block' : 'none';\n",
              "    })();\n",
              "  </script>\n",
              "</div>\n",
              "\n",
              "    </div>\n",
              "  </div>\n"
            ],
            "application/vnd.google.colaboratory.intrinsic+json": {
              "type": "dataframe",
              "summary": "{\n  \"name\": \"az\",\n  \"rows\": 3,\n  \"fields\": [\n    {\n      \"column\": \"rank\",\n      \"properties\": {\n        \"dtype\": \"number\",\n        \"std\": 1,\n        \"min\": 0,\n        \"max\": 2,\n        \"num_unique_values\": 3,\n        \"samples\": [\n          0,\n          1,\n          2\n        ],\n        \"semantic_type\": \"\",\n        \"description\": \"\"\n      }\n    },\n    {\n      \"column\": \"elpd_waic\",\n      \"properties\": {\n        \"dtype\": \"number\",\n        \"std\": 0.6877482657532321,\n        \"min\": -68.93229533509823,\n        \"max\": -67.59374381232631,\n        \"num_unique_values\": 3,\n        \"samples\": [\n          -67.59374381232631,\n          -67.98878810796944,\n          -68.93229533509823\n        ],\n        \"semantic_type\": \"\",\n        \"description\": \"\"\n      }\n    },\n    {\n      \"column\": \"p_waic\",\n      \"properties\": {\n        \"dtype\": \"number\",\n        \"std\": 0.9103565758428618,\n        \"min\": 2.679458702166722,\n        \"max\": 4.490675968508008,\n        \"num_unique_values\": 3,\n        \"samples\": [\n          2.679458702166722,\n          3.4242373128868944,\n          4.490675968508008\n        ],\n        \"semantic_type\": \"\",\n        \"description\": \"\"\n      }\n    },\n    {\n      \"column\": \"elpd_diff\",\n      \"properties\": {\n        \"dtype\": \"number\",\n        \"std\": 0.687748265753244,\n        \"min\": 0.0,\n        \"max\": 1.3385515227719473,\n        \"num_unique_values\": 3,\n        \"samples\": [\n          0.0,\n          0.39504429564314514,\n          1.3385515227719473\n        ],\n        \"semantic_type\": \"\",\n        \"description\": \"\"\n      }\n    },\n    {\n      \"column\": \"weight\",\n      \"properties\": {\n        \"dtype\": \"number\",\n        \"std\": 0.5773502691896258,\n        \"min\": 0.0,\n        \"max\": 1.0,\n        \"num_unique_values\": 2,\n        \"samples\": [\n          0.0,\n          1.0\n        ],\n        \"semantic_type\": \"\",\n        \"description\": \"\"\n      }\n    },\n    {\n      \"column\": \"se\",\n      \"properties\": {\n        \"dtype\": \"number\",\n        \"std\": 0.16079005266760354,\n        \"min\": 2.6100046499526943,\n        \"max\": 2.908771365992528,\n        \"num_unique_values\": 3,\n        \"samples\": [\n          2.6100046499526943,\n          2.6563629617429094\n        ],\n        \"semantic_type\": \"\",\n        \"description\": \"\"\n      }\n    },\n    {\n      \"column\": \"dse\",\n      \"properties\": {\n        \"dtype\": \"number\",\n        \"std\": 0.4298003006928189,\n        \"min\": 0.0,\n        \"max\": 0.854448578584205,\n        \"num_unique_values\": 3,\n        \"samples\": [\n          0.0,\n          0.34584176448802495\n        ],\n        \"semantic_type\": \"\",\n        \"description\": \"\"\n      }\n    },\n    {\n      \"column\": \"warning\",\n      \"properties\": {\n        \"dtype\": \"boolean\",\n        \"num_unique_values\": 1,\n        \"samples\": [\n          false\n        ],\n        \"semantic_type\": \"\",\n        \"description\": \"\"\n      }\n    },\n    {\n      \"column\": \"scale\",\n      \"properties\": {\n        \"dtype\": \"category\",\n        \"num_unique_values\": 1,\n        \"samples\": [\n          \"log\"\n        ],\n        \"semantic_type\": \"\",\n        \"description\": \"\"\n      }\n    }\n  ]\n}"
            }
          },
          "metadata": {},
          "execution_count": 63
        }
      ],
      "source": [
        "az.compare({\"mixture model\": trace_mix, \"complete model\": trace_complete, \"basic model\": trace_basic}, ic='waic')"
      ]
    },
    {
      "cell_type": "code",
      "execution_count": 64,
      "metadata": {
        "colab": {
          "base_uri": "https://localhost:8080/",
          "height": 352
        },
        "id": "TQHTmmL_7-S2",
        "outputId": "e22d537d-bdad-4cd2-a473-e39761da25d5"
      },
      "outputs": [
        {
          "output_type": "display_data",
          "data": {
            "text/plain": [
              "<Figure size 600x300 with 1 Axes>"
            ],
            "image/png": "[encoded data removed]"
          },
          "metadata": {}
        }
      ],
      "source": [
        "az.plot_compare(az.compare({\"mixture model\": trace_mix, \"complete model\": trace_complete, \"basic model\": trace_basic}, ic='waic'), insample_dev=False);"
      ]
    }
  ],
  "metadata": {
    "colab": {
      "provenance": []
    },
    "kernelspec": {
      "display_name": "Python 3",
      "name": "python3"
    },
    "language_info": {
      "name": "python"
    }
  },
  "nbformat": 4,
  "nbformat_minor": 0
}